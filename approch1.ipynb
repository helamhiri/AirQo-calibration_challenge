{
  "nbformat": 4,
  "nbformat_minor": 0,
  "metadata": {
    "colab": {
      "name": "Azer_stacking.ipynb",
      "provenance": []
    },
    "kernelspec": {
      "name": "python3",
      "display_name": "Python 3"
    },
    "language_info": {
      "name": "python"
    },
    "widgets": {
      "application/vnd.jupyter.widget-state+json": {
        "96db3b28d3584142aff59b9154450bc9": {
          "model_module": "@jupyter-widgets/controls",
          "model_name": "HBoxModel",
          "state": {
            "_view_name": "HBoxView",
            "_dom_classes": [],
            "_model_name": "HBoxModel",
            "_view_module": "@jupyter-widgets/controls",
            "_model_module_version": "1.5.0",
            "_view_count": null,
            "_view_module_version": "1.5.0",
            "box_style": "",
            "layout": "IPY_MODEL_f34fca1c927646378a9aa27b6059299f",
            "_model_module": "@jupyter-widgets/controls",
            "children": [
              "IPY_MODEL_bb72d82bb99f460aa4e1ea02badc2cd8",
              "IPY_MODEL_c325e5022e134524bc2c3b4e7f53be3e"
            ]
          }
        },
        "f34fca1c927646378a9aa27b6059299f": {
          "model_module": "@jupyter-widgets/base",
          "model_name": "LayoutModel",
          "state": {
            "_view_name": "LayoutView",
            "grid_template_rows": null,
            "right": null,
            "justify_content": null,
            "_view_module": "@jupyter-widgets/base",
            "overflow": null,
            "_model_module_version": "1.2.0",
            "_view_count": null,
            "flex_flow": null,
            "width": null,
            "min_width": null,
            "border": null,
            "align_items": null,
            "bottom": null,
            "_model_module": "@jupyter-widgets/base",
            "top": null,
            "grid_column": null,
            "overflow_y": null,
            "overflow_x": null,
            "grid_auto_flow": null,
            "grid_area": null,
            "grid_template_columns": null,
            "flex": null,
            "_model_name": "LayoutModel",
            "justify_items": null,
            "grid_row": null,
            "max_height": null,
            "align_content": null,
            "visibility": null,
            "align_self": null,
            "height": null,
            "min_height": null,
            "padding": null,
            "grid_auto_rows": null,
            "grid_gap": null,
            "max_width": null,
            "order": null,
            "_view_module_version": "1.2.0",
            "grid_template_areas": null,
            "object_position": null,
            "object_fit": null,
            "grid_auto_columns": null,
            "margin": null,
            "display": null,
            "left": null
          }
        },
        "bb72d82bb99f460aa4e1ea02badc2cd8": {
          "model_module": "@jupyter-widgets/controls",
          "model_name": "FloatProgressModel",
          "state": {
            "_view_name": "ProgressView",
            "style": "IPY_MODEL_0c1889c1a5a3491a8e276cbcb73a0937",
            "_dom_classes": [],
            "description": "100%",
            "_model_name": "FloatProgressModel",
            "bar_style": "",
            "max": 1,
            "_view_module": "@jupyter-widgets/controls",
            "_model_module_version": "1.5.0",
            "value": 1,
            "_view_count": null,
            "_view_module_version": "1.5.0",
            "orientation": "horizontal",
            "min": 0,
            "description_tooltip": null,
            "_model_module": "@jupyter-widgets/controls",
            "layout": "IPY_MODEL_8767b57e778f49f2819f432cc851348e"
          }
        },
        "c325e5022e134524bc2c3b4e7f53be3e": {
          "model_module": "@jupyter-widgets/controls",
          "model_name": "HTMLModel",
          "state": {
            "_view_name": "HTMLView",
            "style": "IPY_MODEL_fb577f90e6234871b2d1bb06566fc4c3",
            "_dom_classes": [],
            "description": "",
            "_model_name": "HTMLModel",
            "placeholder": "​",
            "_view_module": "@jupyter-widgets/controls",
            "_model_module_version": "1.5.0",
            "value": " 1/1 [00:00&lt;00:00, 13.82it/s]",
            "_view_count": null,
            "_view_module_version": "1.5.0",
            "description_tooltip": null,
            "_model_module": "@jupyter-widgets/controls",
            "layout": "IPY_MODEL_0a40fdf7913848a5a182920bc383ca71"
          }
        },
        "0c1889c1a5a3491a8e276cbcb73a0937": {
          "model_module": "@jupyter-widgets/controls",
          "model_name": "ProgressStyleModel",
          "state": {
            "_view_name": "StyleView",
            "_model_name": "ProgressStyleModel",
            "description_width": "initial",
            "_view_module": "@jupyter-widgets/base",
            "_model_module_version": "1.5.0",
            "_view_count": null,
            "_view_module_version": "1.2.0",
            "bar_color": null,
            "_model_module": "@jupyter-widgets/controls"
          }
        },
        "8767b57e778f49f2819f432cc851348e": {
          "model_module": "@jupyter-widgets/base",
          "model_name": "LayoutModel",
          "state": {
            "_view_name": "LayoutView",
            "grid_template_rows": null,
            "right": null,
            "justify_content": null,
            "_view_module": "@jupyter-widgets/base",
            "overflow": null,
            "_model_module_version": "1.2.0",
            "_view_count": null,
            "flex_flow": null,
            "width": null,
            "min_width": null,
            "border": null,
            "align_items": null,
            "bottom": null,
            "_model_module": "@jupyter-widgets/base",
            "top": null,
            "grid_column": null,
            "overflow_y": null,
            "overflow_x": null,
            "grid_auto_flow": null,
            "grid_area": null,
            "grid_template_columns": null,
            "flex": null,
            "_model_name": "LayoutModel",
            "justify_items": null,
            "grid_row": null,
            "max_height": null,
            "align_content": null,
            "visibility": null,
            "align_self": null,
            "height": null,
            "min_height": null,
            "padding": null,
            "grid_auto_rows": null,
            "grid_gap": null,
            "max_width": null,
            "order": null,
            "_view_module_version": "1.2.0",
            "grid_template_areas": null,
            "object_position": null,
            "object_fit": null,
            "grid_auto_columns": null,
            "margin": null,
            "display": null,
            "left": null
          }
        },
        "fb577f90e6234871b2d1bb06566fc4c3": {
          "model_module": "@jupyter-widgets/controls",
          "model_name": "DescriptionStyleModel",
          "state": {
            "_view_name": "StyleView",
            "_model_name": "DescriptionStyleModel",
            "description_width": "",
            "_view_module": "@jupyter-widgets/base",
            "_model_module_version": "1.5.0",
            "_view_count": null,
            "_view_module_version": "1.2.0",
            "_model_module": "@jupyter-widgets/controls"
          }
        },
        "0a40fdf7913848a5a182920bc383ca71": {
          "model_module": "@jupyter-widgets/base",
          "model_name": "LayoutModel",
          "state": {
            "_view_name": "LayoutView",
            "grid_template_rows": null,
            "right": null,
            "justify_content": null,
            "_view_module": "@jupyter-widgets/base",
            "overflow": null,
            "_model_module_version": "1.2.0",
            "_view_count": null,
            "flex_flow": null,
            "width": null,
            "min_width": null,
            "border": null,
            "align_items": null,
            "bottom": null,
            "_model_module": "@jupyter-widgets/base",
            "top": null,
            "grid_column": null,
            "overflow_y": null,
            "overflow_x": null,
            "grid_auto_flow": null,
            "grid_area": null,
            "grid_template_columns": null,
            "flex": null,
            "_model_name": "LayoutModel",
            "justify_items": null,
            "grid_row": null,
            "max_height": null,
            "align_content": null,
            "visibility": null,
            "align_self": null,
            "height": null,
            "min_height": null,
            "padding": null,
            "grid_auto_rows": null,
            "grid_gap": null,
            "max_width": null,
            "order": null,
            "_view_module_version": "1.2.0",
            "grid_template_areas": null,
            "object_position": null,
            "object_fit": null,
            "grid_auto_columns": null,
            "margin": null,
            "display": null,
            "left": null
          }
        },
        "3cf1a0debe3c4c4cae9f2aa1b01a11b5": {
          "model_module": "@jupyter-widgets/controls",
          "model_name": "HBoxModel",
          "state": {
            "_view_name": "HBoxView",
            "_dom_classes": [],
            "_model_name": "HBoxModel",
            "_view_module": "@jupyter-widgets/controls",
            "_model_module_version": "1.5.0",
            "_view_count": null,
            "_view_module_version": "1.5.0",
            "box_style": "",
            "layout": "IPY_MODEL_e9abad9ceab04d359023c4027658c85b",
            "_model_module": "@jupyter-widgets/controls",
            "children": [
              "IPY_MODEL_0d01be33c94341b289eea0ee8cd16277",
              "IPY_MODEL_3b74e5af957740949bfb992b3735c1a1"
            ]
          }
        },
        "e9abad9ceab04d359023c4027658c85b": {
          "model_module": "@jupyter-widgets/base",
          "model_name": "LayoutModel",
          "state": {
            "_view_name": "LayoutView",
            "grid_template_rows": null,
            "right": null,
            "justify_content": null,
            "_view_module": "@jupyter-widgets/base",
            "overflow": null,
            "_model_module_version": "1.2.0",
            "_view_count": null,
            "flex_flow": null,
            "width": null,
            "min_width": null,
            "border": null,
            "align_items": null,
            "bottom": null,
            "_model_module": "@jupyter-widgets/base",
            "top": null,
            "grid_column": null,
            "overflow_y": null,
            "overflow_x": null,
            "grid_auto_flow": null,
            "grid_area": null,
            "grid_template_columns": null,
            "flex": null,
            "_model_name": "LayoutModel",
            "justify_items": null,
            "grid_row": null,
            "max_height": null,
            "align_content": null,
            "visibility": null,
            "align_self": null,
            "height": null,
            "min_height": null,
            "padding": null,
            "grid_auto_rows": null,
            "grid_gap": null,
            "max_width": null,
            "order": null,
            "_view_module_version": "1.2.0",
            "grid_template_areas": null,
            "object_position": null,
            "object_fit": null,
            "grid_auto_columns": null,
            "margin": null,
            "display": null,
            "left": null
          }
        },
        "0d01be33c94341b289eea0ee8cd16277": {
          "model_module": "@jupyter-widgets/controls",
          "model_name": "FloatProgressModel",
          "state": {
            "_view_name": "ProgressView",
            "style": "IPY_MODEL_6860d55621bc43b283a73ab79220ef75",
            "_dom_classes": [],
            "description": "100%",
            "_model_name": "FloatProgressModel",
            "bar_style": "",
            "max": 3,
            "_view_module": "@jupyter-widgets/controls",
            "_model_module_version": "1.5.0",
            "value": 3,
            "_view_count": null,
            "_view_module_version": "1.5.0",
            "orientation": "horizontal",
            "min": 0,
            "description_tooltip": null,
            "_model_module": "@jupyter-widgets/controls",
            "layout": "IPY_MODEL_0befbf3b38804710944614530f61934c"
          }
        },
        "3b74e5af957740949bfb992b3735c1a1": {
          "model_module": "@jupyter-widgets/controls",
          "model_name": "HTMLModel",
          "state": {
            "_view_name": "HTMLView",
            "style": "IPY_MODEL_b05c2a7b9faf47df919dfcc789d61889",
            "_dom_classes": [],
            "description": "",
            "_model_name": "HTMLModel",
            "placeholder": "​",
            "_view_module": "@jupyter-widgets/controls",
            "_model_module_version": "1.5.0",
            "value": " 3/3 [00:26&lt;00:00,  9.36s/it]",
            "_view_count": null,
            "_view_module_version": "1.5.0",
            "description_tooltip": null,
            "_model_module": "@jupyter-widgets/controls",
            "layout": "IPY_MODEL_18994b4440df4602859d1bc06a3cbccc"
          }
        },
        "6860d55621bc43b283a73ab79220ef75": {
          "model_module": "@jupyter-widgets/controls",
          "model_name": "ProgressStyleModel",
          "state": {
            "_view_name": "StyleView",
            "_model_name": "ProgressStyleModel",
            "description_width": "initial",
            "_view_module": "@jupyter-widgets/base",
            "_model_module_version": "1.5.0",
            "_view_count": null,
            "_view_module_version": "1.2.0",
            "bar_color": null,
            "_model_module": "@jupyter-widgets/controls"
          }
        },
        "0befbf3b38804710944614530f61934c": {
          "model_module": "@jupyter-widgets/base",
          "model_name": "LayoutModel",
          "state": {
            "_view_name": "LayoutView",
            "grid_template_rows": null,
            "right": null,
            "justify_content": null,
            "_view_module": "@jupyter-widgets/base",
            "overflow": null,
            "_model_module_version": "1.2.0",
            "_view_count": null,
            "flex_flow": null,
            "width": null,
            "min_width": null,
            "border": null,
            "align_items": null,
            "bottom": null,
            "_model_module": "@jupyter-widgets/base",
            "top": null,
            "grid_column": null,
            "overflow_y": null,
            "overflow_x": null,
            "grid_auto_flow": null,
            "grid_area": null,
            "grid_template_columns": null,
            "flex": null,
            "_model_name": "LayoutModel",
            "justify_items": null,
            "grid_row": null,
            "max_height": null,
            "align_content": null,
            "visibility": null,
            "align_self": null,
            "height": null,
            "min_height": null,
            "padding": null,
            "grid_auto_rows": null,
            "grid_gap": null,
            "max_width": null,
            "order": null,
            "_view_module_version": "1.2.0",
            "grid_template_areas": null,
            "object_position": null,
            "object_fit": null,
            "grid_auto_columns": null,
            "margin": null,
            "display": null,
            "left": null
          }
        },
        "b05c2a7b9faf47df919dfcc789d61889": {
          "model_module": "@jupyter-widgets/controls",
          "model_name": "DescriptionStyleModel",
          "state": {
            "_view_name": "StyleView",
            "_model_name": "DescriptionStyleModel",
            "description_width": "",
            "_view_module": "@jupyter-widgets/base",
            "_model_module_version": "1.5.0",
            "_view_count": null,
            "_view_module_version": "1.2.0",
            "_model_module": "@jupyter-widgets/controls"
          }
        },
        "18994b4440df4602859d1bc06a3cbccc": {
          "model_module": "@jupyter-widgets/base",
          "model_name": "LayoutModel",
          "state": {
            "_view_name": "LayoutView",
            "grid_template_rows": null,
            "right": null,
            "justify_content": null,
            "_view_module": "@jupyter-widgets/base",
            "overflow": null,
            "_model_module_version": "1.2.0",
            "_view_count": null,
            "flex_flow": null,
            "width": null,
            "min_width": null,
            "border": null,
            "align_items": null,
            "bottom": null,
            "_model_module": "@jupyter-widgets/base",
            "top": null,
            "grid_column": null,
            "overflow_y": null,
            "overflow_x": null,
            "grid_auto_flow": null,
            "grid_area": null,
            "grid_template_columns": null,
            "flex": null,
            "_model_name": "LayoutModel",
            "justify_items": null,
            "grid_row": null,
            "max_height": null,
            "align_content": null,
            "visibility": null,
            "align_self": null,
            "height": null,
            "min_height": null,
            "padding": null,
            "grid_auto_rows": null,
            "grid_gap": null,
            "max_width": null,
            "order": null,
            "_view_module_version": "1.2.0",
            "grid_template_areas": null,
            "object_position": null,
            "object_fit": null,
            "grid_auto_columns": null,
            "margin": null,
            "display": null,
            "left": null
          }
        },
        "44c72339234b48a5b7f888b4d811f296": {
          "model_module": "@jupyter-widgets/controls",
          "model_name": "HBoxModel",
          "state": {
            "_view_name": "HBoxView",
            "_dom_classes": [],
            "_model_name": "HBoxModel",
            "_view_module": "@jupyter-widgets/controls",
            "_model_module_version": "1.5.0",
            "_view_count": null,
            "_view_module_version": "1.5.0",
            "box_style": "",
            "layout": "IPY_MODEL_676c2e6e7eba46018aa3fac4d998fa5f",
            "_model_module": "@jupyter-widgets/controls",
            "children": [
              "IPY_MODEL_89aa84735e0b4b2993184456f5e1022a",
              "IPY_MODEL_7adb9a0333294df89778d0dce6b909f8"
            ]
          }
        },
        "676c2e6e7eba46018aa3fac4d998fa5f": {
          "model_module": "@jupyter-widgets/base",
          "model_name": "LayoutModel",
          "state": {
            "_view_name": "LayoutView",
            "grid_template_rows": null,
            "right": null,
            "justify_content": null,
            "_view_module": "@jupyter-widgets/base",
            "overflow": null,
            "_model_module_version": "1.2.0",
            "_view_count": null,
            "flex_flow": null,
            "width": null,
            "min_width": null,
            "border": null,
            "align_items": null,
            "bottom": null,
            "_model_module": "@jupyter-widgets/base",
            "top": null,
            "grid_column": null,
            "overflow_y": null,
            "overflow_x": null,
            "grid_auto_flow": null,
            "grid_area": null,
            "grid_template_columns": null,
            "flex": null,
            "_model_name": "LayoutModel",
            "justify_items": null,
            "grid_row": null,
            "max_height": null,
            "align_content": null,
            "visibility": null,
            "align_self": null,
            "height": null,
            "min_height": null,
            "padding": null,
            "grid_auto_rows": null,
            "grid_gap": null,
            "max_width": null,
            "order": null,
            "_view_module_version": "1.2.0",
            "grid_template_areas": null,
            "object_position": null,
            "object_fit": null,
            "grid_auto_columns": null,
            "margin": null,
            "display": null,
            "left": null
          }
        },
        "89aa84735e0b4b2993184456f5e1022a": {
          "model_module": "@jupyter-widgets/controls",
          "model_name": "FloatProgressModel",
          "state": {
            "_view_name": "ProgressView",
            "style": "IPY_MODEL_82cc5b7aa04342c9a85f29a05e394c8c",
            "_dom_classes": [],
            "description": "100%",
            "_model_name": "FloatProgressModel",
            "bar_style": "",
            "max": 3,
            "_view_module": "@jupyter-widgets/controls",
            "_model_module_version": "1.5.0",
            "value": 3,
            "_view_count": null,
            "_view_module_version": "1.5.0",
            "orientation": "horizontal",
            "min": 0,
            "description_tooltip": null,
            "_model_module": "@jupyter-widgets/controls",
            "layout": "IPY_MODEL_6ac6aa7d2c234ac08bf3a7e6dab501c9"
          }
        },
        "7adb9a0333294df89778d0dce6b909f8": {
          "model_module": "@jupyter-widgets/controls",
          "model_name": "HTMLModel",
          "state": {
            "_view_name": "HTMLView",
            "style": "IPY_MODEL_02ae5dd6f6e4442c97024dd90567080d",
            "_dom_classes": [],
            "description": "",
            "_model_name": "HTMLModel",
            "placeholder": "​",
            "_view_module": "@jupyter-widgets/controls",
            "_model_module_version": "1.5.0",
            "value": " 3/3 [00:57&lt;00:00, 19.76s/it]",
            "_view_count": null,
            "_view_module_version": "1.5.0",
            "description_tooltip": null,
            "_model_module": "@jupyter-widgets/controls",
            "layout": "IPY_MODEL_b963d8c8095347d582d265399d25ae61"
          }
        },
        "82cc5b7aa04342c9a85f29a05e394c8c": {
          "model_module": "@jupyter-widgets/controls",
          "model_name": "ProgressStyleModel",
          "state": {
            "_view_name": "StyleView",
            "_model_name": "ProgressStyleModel",
            "description_width": "initial",
            "_view_module": "@jupyter-widgets/base",
            "_model_module_version": "1.5.0",
            "_view_count": null,
            "_view_module_version": "1.2.0",
            "bar_color": null,
            "_model_module": "@jupyter-widgets/controls"
          }
        },
        "6ac6aa7d2c234ac08bf3a7e6dab501c9": {
          "model_module": "@jupyter-widgets/base",
          "model_name": "LayoutModel",
          "state": {
            "_view_name": "LayoutView",
            "grid_template_rows": null,
            "right": null,
            "justify_content": null,
            "_view_module": "@jupyter-widgets/base",
            "overflow": null,
            "_model_module_version": "1.2.0",
            "_view_count": null,
            "flex_flow": null,
            "width": null,
            "min_width": null,
            "border": null,
            "align_items": null,
            "bottom": null,
            "_model_module": "@jupyter-widgets/base",
            "top": null,
            "grid_column": null,
            "overflow_y": null,
            "overflow_x": null,
            "grid_auto_flow": null,
            "grid_area": null,
            "grid_template_columns": null,
            "flex": null,
            "_model_name": "LayoutModel",
            "justify_items": null,
            "grid_row": null,
            "max_height": null,
            "align_content": null,
            "visibility": null,
            "align_self": null,
            "height": null,
            "min_height": null,
            "padding": null,
            "grid_auto_rows": null,
            "grid_gap": null,
            "max_width": null,
            "order": null,
            "_view_module_version": "1.2.0",
            "grid_template_areas": null,
            "object_position": null,
            "object_fit": null,
            "grid_auto_columns": null,
            "margin": null,
            "display": null,
            "left": null
          }
        },
        "02ae5dd6f6e4442c97024dd90567080d": {
          "model_module": "@jupyter-widgets/controls",
          "model_name": "DescriptionStyleModel",
          "state": {
            "_view_name": "StyleView",
            "_model_name": "DescriptionStyleModel",
            "description_width": "",
            "_view_module": "@jupyter-widgets/base",
            "_model_module_version": "1.5.0",
            "_view_count": null,
            "_view_module_version": "1.2.0",
            "_model_module": "@jupyter-widgets/controls"
          }
        },
        "b963d8c8095347d582d265399d25ae61": {
          "model_module": "@jupyter-widgets/base",
          "model_name": "LayoutModel",
          "state": {
            "_view_name": "LayoutView",
            "grid_template_rows": null,
            "right": null,
            "justify_content": null,
            "_view_module": "@jupyter-widgets/base",
            "overflow": null,
            "_model_module_version": "1.2.0",
            "_view_count": null,
            "flex_flow": null,
            "width": null,
            "min_width": null,
            "border": null,
            "align_items": null,
            "bottom": null,
            "_model_module": "@jupyter-widgets/base",
            "top": null,
            "grid_column": null,
            "overflow_y": null,
            "overflow_x": null,
            "grid_auto_flow": null,
            "grid_area": null,
            "grid_template_columns": null,
            "flex": null,
            "_model_name": "LayoutModel",
            "justify_items": null,
            "grid_row": null,
            "max_height": null,
            "align_content": null,
            "visibility": null,
            "align_self": null,
            "height": null,
            "min_height": null,
            "padding": null,
            "grid_auto_rows": null,
            "grid_gap": null,
            "max_width": null,
            "order": null,
            "_view_module_version": "1.2.0",
            "grid_template_areas": null,
            "object_position": null,
            "object_fit": null,
            "grid_auto_columns": null,
            "margin": null,
            "display": null,
            "left": null
          }
        },
        "240a8b41b4814c7294e9956a8d172a24": {
          "model_module": "@jupyter-widgets/controls",
          "model_name": "HBoxModel",
          "state": {
            "_view_name": "HBoxView",
            "_dom_classes": [],
            "_model_name": "HBoxModel",
            "_view_module": "@jupyter-widgets/controls",
            "_model_module_version": "1.5.0",
            "_view_count": null,
            "_view_module_version": "1.5.0",
            "box_style": "",
            "layout": "IPY_MODEL_2442150e5f3449f1bd517cdbffbee3f5",
            "_model_module": "@jupyter-widgets/controls",
            "children": [
              "IPY_MODEL_3c77a31107ca49939f3b925a0d2c04f9",
              "IPY_MODEL_e581af6e8ccc4ffebe693336451d03f6"
            ]
          }
        },
        "2442150e5f3449f1bd517cdbffbee3f5": {
          "model_module": "@jupyter-widgets/base",
          "model_name": "LayoutModel",
          "state": {
            "_view_name": "LayoutView",
            "grid_template_rows": null,
            "right": null,
            "justify_content": null,
            "_view_module": "@jupyter-widgets/base",
            "overflow": null,
            "_model_module_version": "1.2.0",
            "_view_count": null,
            "flex_flow": null,
            "width": null,
            "min_width": null,
            "border": null,
            "align_items": null,
            "bottom": null,
            "_model_module": "@jupyter-widgets/base",
            "top": null,
            "grid_column": null,
            "overflow_y": null,
            "overflow_x": null,
            "grid_auto_flow": null,
            "grid_area": null,
            "grid_template_columns": null,
            "flex": null,
            "_model_name": "LayoutModel",
            "justify_items": null,
            "grid_row": null,
            "max_height": null,
            "align_content": null,
            "visibility": null,
            "align_self": null,
            "height": null,
            "min_height": null,
            "padding": null,
            "grid_auto_rows": null,
            "grid_gap": null,
            "max_width": null,
            "order": null,
            "_view_module_version": "1.2.0",
            "grid_template_areas": null,
            "object_position": null,
            "object_fit": null,
            "grid_auto_columns": null,
            "margin": null,
            "display": null,
            "left": null
          }
        },
        "3c77a31107ca49939f3b925a0d2c04f9": {
          "model_module": "@jupyter-widgets/controls",
          "model_name": "FloatProgressModel",
          "state": {
            "_view_name": "ProgressView",
            "style": "IPY_MODEL_492e7406208b4e229fce94ab124f6e42",
            "_dom_classes": [],
            "description": "100%",
            "_model_name": "FloatProgressModel",
            "bar_style": "",
            "max": 3,
            "_view_module": "@jupyter-widgets/controls",
            "_model_module_version": "1.5.0",
            "value": 3,
            "_view_count": null,
            "_view_module_version": "1.5.0",
            "orientation": "horizontal",
            "min": 0,
            "description_tooltip": null,
            "_model_module": "@jupyter-widgets/controls",
            "layout": "IPY_MODEL_8b7df69fd5d342658544445b2d450a33"
          }
        },
        "e581af6e8ccc4ffebe693336451d03f6": {
          "model_module": "@jupyter-widgets/controls",
          "model_name": "HTMLModel",
          "state": {
            "_view_name": "HTMLView",
            "style": "IPY_MODEL_900bd1d6f77f48f884e89b4edc3368da",
            "_dom_classes": [],
            "description": "",
            "_model_name": "HTMLModel",
            "placeholder": "​",
            "_view_module": "@jupyter-widgets/controls",
            "_model_module_version": "1.5.0",
            "value": " 3/3 [00:23&lt;00:00,  7.93s/it]",
            "_view_count": null,
            "_view_module_version": "1.5.0",
            "description_tooltip": null,
            "_model_module": "@jupyter-widgets/controls",
            "layout": "IPY_MODEL_2e26134ed13e42c1bbd22117692d3971"
          }
        },
        "492e7406208b4e229fce94ab124f6e42": {
          "model_module": "@jupyter-widgets/controls",
          "model_name": "ProgressStyleModel",
          "state": {
            "_view_name": "StyleView",
            "_model_name": "ProgressStyleModel",
            "description_width": "initial",
            "_view_module": "@jupyter-widgets/base",
            "_model_module_version": "1.5.0",
            "_view_count": null,
            "_view_module_version": "1.2.0",
            "bar_color": null,
            "_model_module": "@jupyter-widgets/controls"
          }
        },
        "8b7df69fd5d342658544445b2d450a33": {
          "model_module": "@jupyter-widgets/base",
          "model_name": "LayoutModel",
          "state": {
            "_view_name": "LayoutView",
            "grid_template_rows": null,
            "right": null,
            "justify_content": null,
            "_view_module": "@jupyter-widgets/base",
            "overflow": null,
            "_model_module_version": "1.2.0",
            "_view_count": null,
            "flex_flow": null,
            "width": null,
            "min_width": null,
            "border": null,
            "align_items": null,
            "bottom": null,
            "_model_module": "@jupyter-widgets/base",
            "top": null,
            "grid_column": null,
            "overflow_y": null,
            "overflow_x": null,
            "grid_auto_flow": null,
            "grid_area": null,
            "grid_template_columns": null,
            "flex": null,
            "_model_name": "LayoutModel",
            "justify_items": null,
            "grid_row": null,
            "max_height": null,
            "align_content": null,
            "visibility": null,
            "align_self": null,
            "height": null,
            "min_height": null,
            "padding": null,
            "grid_auto_rows": null,
            "grid_gap": null,
            "max_width": null,
            "order": null,
            "_view_module_version": "1.2.0",
            "grid_template_areas": null,
            "object_position": null,
            "object_fit": null,
            "grid_auto_columns": null,
            "margin": null,
            "display": null,
            "left": null
          }
        },
        "900bd1d6f77f48f884e89b4edc3368da": {
          "model_module": "@jupyter-widgets/controls",
          "model_name": "DescriptionStyleModel",
          "state": {
            "_view_name": "StyleView",
            "_model_name": "DescriptionStyleModel",
            "description_width": "",
            "_view_module": "@jupyter-widgets/base",
            "_model_module_version": "1.5.0",
            "_view_count": null,
            "_view_module_version": "1.2.0",
            "_model_module": "@jupyter-widgets/controls"
          }
        },
        "2e26134ed13e42c1bbd22117692d3971": {
          "model_module": "@jupyter-widgets/base",
          "model_name": "LayoutModel",
          "state": {
            "_view_name": "LayoutView",
            "grid_template_rows": null,
            "right": null,
            "justify_content": null,
            "_view_module": "@jupyter-widgets/base",
            "overflow": null,
            "_model_module_version": "1.2.0",
            "_view_count": null,
            "flex_flow": null,
            "width": null,
            "min_width": null,
            "border": null,
            "align_items": null,
            "bottom": null,
            "_model_module": "@jupyter-widgets/base",
            "top": null,
            "grid_column": null,
            "overflow_y": null,
            "overflow_x": null,
            "grid_auto_flow": null,
            "grid_area": null,
            "grid_template_columns": null,
            "flex": null,
            "_model_name": "LayoutModel",
            "justify_items": null,
            "grid_row": null,
            "max_height": null,
            "align_content": null,
            "visibility": null,
            "align_self": null,
            "height": null,
            "min_height": null,
            "padding": null,
            "grid_auto_rows": null,
            "grid_gap": null,
            "max_width": null,
            "order": null,
            "_view_module_version": "1.2.0",
            "grid_template_areas": null,
            "object_position": null,
            "object_fit": null,
            "grid_auto_columns": null,
            "margin": null,
            "display": null,
            "left": null
          }
        },
        "5c6144233c2d44a2a45d2c1b183866c5": {
          "model_module": "@jupyter-widgets/controls",
          "model_name": "HBoxModel",
          "state": {
            "_view_name": "HBoxView",
            "_dom_classes": [],
            "_model_name": "HBoxModel",
            "_view_module": "@jupyter-widgets/controls",
            "_model_module_version": "1.5.0",
            "_view_count": null,
            "_view_module_version": "1.5.0",
            "box_style": "",
            "layout": "IPY_MODEL_c90b8c6ad2af45cabc45b83135041ad4",
            "_model_module": "@jupyter-widgets/controls",
            "children": [
              "IPY_MODEL_ddd7160319b24f52b0535e6966ea5706",
              "IPY_MODEL_cfb13b16fc30443e9ea1a43c63bfafd6"
            ]
          }
        },
        "c90b8c6ad2af45cabc45b83135041ad4": {
          "model_module": "@jupyter-widgets/base",
          "model_name": "LayoutModel",
          "state": {
            "_view_name": "LayoutView",
            "grid_template_rows": null,
            "right": null,
            "justify_content": null,
            "_view_module": "@jupyter-widgets/base",
            "overflow": null,
            "_model_module_version": "1.2.0",
            "_view_count": null,
            "flex_flow": null,
            "width": null,
            "min_width": null,
            "border": null,
            "align_items": null,
            "bottom": null,
            "_model_module": "@jupyter-widgets/base",
            "top": null,
            "grid_column": null,
            "overflow_y": null,
            "overflow_x": null,
            "grid_auto_flow": null,
            "grid_area": null,
            "grid_template_columns": null,
            "flex": null,
            "_model_name": "LayoutModel",
            "justify_items": null,
            "grid_row": null,
            "max_height": null,
            "align_content": null,
            "visibility": null,
            "align_self": null,
            "height": null,
            "min_height": null,
            "padding": null,
            "grid_auto_rows": null,
            "grid_gap": null,
            "max_width": null,
            "order": null,
            "_view_module_version": "1.2.0",
            "grid_template_areas": null,
            "object_position": null,
            "object_fit": null,
            "grid_auto_columns": null,
            "margin": null,
            "display": null,
            "left": null
          }
        },
        "ddd7160319b24f52b0535e6966ea5706": {
          "model_module": "@jupyter-widgets/controls",
          "model_name": "FloatProgressModel",
          "state": {
            "_view_name": "ProgressView",
            "style": "IPY_MODEL_efce85fa8ea3424d914d3e39cfbbd409",
            "_dom_classes": [],
            "description": "100%",
            "_model_name": "FloatProgressModel",
            "bar_style": "",
            "max": 3,
            "_view_module": "@jupyter-widgets/controls",
            "_model_module_version": "1.5.0",
            "value": 3,
            "_view_count": null,
            "_view_module_version": "1.5.0",
            "orientation": "horizontal",
            "min": 0,
            "description_tooltip": null,
            "_model_module": "@jupyter-widgets/controls",
            "layout": "IPY_MODEL_3b0e05e7deeb402dbe0442b37f8809b8"
          }
        },
        "cfb13b16fc30443e9ea1a43c63bfafd6": {
          "model_module": "@jupyter-widgets/controls",
          "model_name": "HTMLModel",
          "state": {
            "_view_name": "HTMLView",
            "style": "IPY_MODEL_5137bfac79584240a6fbf6015fdbb818",
            "_dom_classes": [],
            "description": "",
            "_model_name": "HTMLModel",
            "placeholder": "​",
            "_view_module": "@jupyter-widgets/controls",
            "_model_module_version": "1.5.0",
            "value": " 3/3 [00:24&lt;00:00,  8.46s/it]",
            "_view_count": null,
            "_view_module_version": "1.5.0",
            "description_tooltip": null,
            "_model_module": "@jupyter-widgets/controls",
            "layout": "IPY_MODEL_53cc4cd7c51a44acb7f06cbcd013a44c"
          }
        },
        "efce85fa8ea3424d914d3e39cfbbd409": {
          "model_module": "@jupyter-widgets/controls",
          "model_name": "ProgressStyleModel",
          "state": {
            "_view_name": "StyleView",
            "_model_name": "ProgressStyleModel",
            "description_width": "initial",
            "_view_module": "@jupyter-widgets/base",
            "_model_module_version": "1.5.0",
            "_view_count": null,
            "_view_module_version": "1.2.0",
            "bar_color": null,
            "_model_module": "@jupyter-widgets/controls"
          }
        },
        "3b0e05e7deeb402dbe0442b37f8809b8": {
          "model_module": "@jupyter-widgets/base",
          "model_name": "LayoutModel",
          "state": {
            "_view_name": "LayoutView",
            "grid_template_rows": null,
            "right": null,
            "justify_content": null,
            "_view_module": "@jupyter-widgets/base",
            "overflow": null,
            "_model_module_version": "1.2.0",
            "_view_count": null,
            "flex_flow": null,
            "width": null,
            "min_width": null,
            "border": null,
            "align_items": null,
            "bottom": null,
            "_model_module": "@jupyter-widgets/base",
            "top": null,
            "grid_column": null,
            "overflow_y": null,
            "overflow_x": null,
            "grid_auto_flow": null,
            "grid_area": null,
            "grid_template_columns": null,
            "flex": null,
            "_model_name": "LayoutModel",
            "justify_items": null,
            "grid_row": null,
            "max_height": null,
            "align_content": null,
            "visibility": null,
            "align_self": null,
            "height": null,
            "min_height": null,
            "padding": null,
            "grid_auto_rows": null,
            "grid_gap": null,
            "max_width": null,
            "order": null,
            "_view_module_version": "1.2.0",
            "grid_template_areas": null,
            "object_position": null,
            "object_fit": null,
            "grid_auto_columns": null,
            "margin": null,
            "display": null,
            "left": null
          }
        },
        "5137bfac79584240a6fbf6015fdbb818": {
          "model_module": "@jupyter-widgets/controls",
          "model_name": "DescriptionStyleModel",
          "state": {
            "_view_name": "StyleView",
            "_model_name": "DescriptionStyleModel",
            "description_width": "",
            "_view_module": "@jupyter-widgets/base",
            "_model_module_version": "1.5.0",
            "_view_count": null,
            "_view_module_version": "1.2.0",
            "_model_module": "@jupyter-widgets/controls"
          }
        },
        "53cc4cd7c51a44acb7f06cbcd013a44c": {
          "model_module": "@jupyter-widgets/base",
          "model_name": "LayoutModel",
          "state": {
            "_view_name": "LayoutView",
            "grid_template_rows": null,
            "right": null,
            "justify_content": null,
            "_view_module": "@jupyter-widgets/base",
            "overflow": null,
            "_model_module_version": "1.2.0",
            "_view_count": null,
            "flex_flow": null,
            "width": null,
            "min_width": null,
            "border": null,
            "align_items": null,
            "bottom": null,
            "_model_module": "@jupyter-widgets/base",
            "top": null,
            "grid_column": null,
            "overflow_y": null,
            "overflow_x": null,
            "grid_auto_flow": null,
            "grid_area": null,
            "grid_template_columns": null,
            "flex": null,
            "_model_name": "LayoutModel",
            "justify_items": null,
            "grid_row": null,
            "max_height": null,
            "align_content": null,
            "visibility": null,
            "align_self": null,
            "height": null,
            "min_height": null,
            "padding": null,
            "grid_auto_rows": null,
            "grid_gap": null,
            "max_width": null,
            "order": null,
            "_view_module_version": "1.2.0",
            "grid_template_areas": null,
            "object_position": null,
            "object_fit": null,
            "grid_auto_columns": null,
            "margin": null,
            "display": null,
            "left": null
          }
        }
      }
    }
  },
  "cells": [
    {
      "cell_type": "markdown",
      "metadata": {
        "id": "mZLSA1q9-L9C"
      },
      "source": [
        "# **Setup**"
      ]
    },
    {
      "cell_type": "code",
      "metadata": {
        "colab": {
          "base_uri": "https://localhost:8080/"
        },
        "id": "J6mfKkqG9jSX",
        "outputId": "0e48c5a3-54ab-4675-a565-a27e71627114"
      },
      "source": [
        "from google.colab import drive\n",
        "drive.mount('/content/drive')"
      ],
      "execution_count": 1,
      "outputs": [
        {
          "output_type": "stream",
          "text": [
            "Mounted at /content/drive\n"
          ],
          "name": "stdout"
        }
      ]
    },
    {
      "cell_type": "code",
      "metadata": {
        "id": "kolwRrIQ-NuJ"
      },
      "source": [
        "!cp \"/content/drive/MyDrive/AirQo_Low_Cost_Air_Quality_Monitor_Calibration/data/Train.csv\" .\n",
        "!cp \"/content/drive/MyDrive/AirQo_Low_Cost_Air_Quality_Monitor_Calibration/data/Test.csv\" ."
      ],
      "execution_count": 2,
      "outputs": []
    },
    {
      "cell_type": "code",
      "metadata": {
        "id": "5aRGOfmQ-OtI"
      },
      "source": [
        "import os\n",
        "import sys\n",
        "import gc\n",
        "import math\n",
        "import random\n",
        "import pickle\n",
        "import pandas as pd\n",
        "import numpy as np\n",
        "import joblib\n",
        "\n",
        "from tqdm.notebook import tqdm\n",
        "from tqdm import tqdm_notebook\n",
        "\n",
        "\n",
        "import warnings\n",
        "warnings.simplefilter('ignore')\n",
        "\n",
        "from sklearn.model_selection import KFold, StratifiedKFold, train_test_split\n",
        "from sklearn.metrics import mean_squared_error "
      ],
      "execution_count": 3,
      "outputs": []
    },
    {
      "cell_type": "markdown",
      "metadata": {
        "id": "XpQ6PCnNtP_4"
      },
      "source": [
        "# **Utils**"
      ]
    },
    {
      "cell_type": "code",
      "metadata": {
        "id": "8POJz2c_tRrR"
      },
      "source": [
        "# Generating feature interactions between PM features only \n",
        "def add_div_interacts(df, inter_cols):   \n",
        "    def apply_interacts(x, inter_cols):\n",
        "        cols = [x + '_div_' + c for c in inter_cols[inter_cols.index(x)+1:]]\n",
        "        interacts_df[cols] = pd.concat([df[x] / (df[c]+1e-15) for c in inter_cols[inter_cols.index(x)+1:]], axis=1)\n",
        "    \n",
        "    interacts_df = pd.DataFrame()\n",
        "    _ = df[inter_cols[:-1]].apply(lambda x: apply_interacts(x.name, inter_cols))\n",
        "    df = pd.concat([df, interacts_df], axis=1)\n",
        "    return df\n",
        "    \n",
        "def create_interactions(data_r,cols_1) :\n",
        "  for num_cols in tqdm_notebook([cols_1], leave = False):\n",
        "      data_r = add_div_interacts(data_r, num_cols)\n",
        "  return data_r"
      ],
      "execution_count": 4,
      "outputs": []
    },
    {
      "cell_type": "code",
      "metadata": {
        "id": "FHCfc_HVtULf"
      },
      "source": [
        "def process(train,test) :\n",
        "  data = pd.concat([train,test]).reset_index(drop=True)\n",
        "  \n",
        "  # time features \n",
        "  data['created_at'] = pd.to_datetime(data['created_at'])\n",
        "  data['year'] = data['created_at'].dt.year\n",
        "  data['year'] = data['year'].astype(float)\n",
        "  data['month'] = data['created_at'].dt.month\n",
        "  data['day'] = data['created_at'].dt.day\n",
        "  data['weekday'] = data['created_at'].dt.weekday\n",
        "  data['weekofyear'] = data['created_at'].dt.weekofyear\n",
        "  data['hour'] = data['created_at'].dt.hour\n",
        "\n",
        "  # cyclic time features\n",
        "  data['day_cos'] = np.cos(data['day'])\n",
        "  data['day_sin'] = np.sin(data['day']) \n",
        "\n",
        "  data['month_cos'] = np.cos(data['month'])\n",
        "  data['month_sin'] = np.sin(data['month']) \n",
        "\n",
        "  data['hour_cos'] = np.cos(data['hour'])\n",
        "  data['hour_sin'] = np.sin(data['hour']) \n",
        "\n",
        "  data['weekday_cos'] = np.cos(data['weekday'])\n",
        "  data['weekday_sin'] = np.sin(data['weekday']) \n",
        "\n",
        "  data['weekofyear_cos'] = np.cos(data['weekofyear'])\n",
        "  data['weekofyear_sin'] = np.sin(data['weekofyear']) \n",
        "  \n",
        "  # combination between time features\n",
        "  data['day_hour'] = data['day'].astype(str) + '-' + data['hour'].astype(str)\n",
        "  data['month_day'] = data['month'].astype(str) + '-' + data['day'].astype(str)\n",
        "\n",
        "  from sklearn.preprocessing import LabelEncoder\n",
        "  LE = LabelEncoder()\n",
        "  LE_cols = ['site','day_hour','month_day']\n",
        "  for le_col in LE_cols :\n",
        "    data[le_col] = LE.fit_transform(data[le_col])\n",
        "\n",
        "  # Generating feature interactions between PM features only \n",
        "  data = create_interactions(data, ['pm2_5','pm10','s2_pm2_5','s2_pm10'])\n",
        "\n",
        "  # Get our New Train,Test\n",
        "  train = data[data['ID'].isin(train['ID'].values)]\n",
        "  test = data[~data['ID'].isin(train['ID'].values)]\n",
        "\n",
        "  return train, test"
      ],
      "execution_count": 5,
      "outputs": []
    },
    {
      "cell_type": "markdown",
      "metadata": {
        "id": "i0zX5BFI-idg"
      },
      "source": [
        "# **Load Data - PreProcess**"
      ]
    },
    {
      "cell_type": "code",
      "metadata": {
        "id": "RWmlKZSG-g8A"
      },
      "source": [
        "train = pd.read_csv('Train.csv')\n",
        "test = pd.read_csv('Test.csv')"
      ],
      "execution_count": 6,
      "outputs": []
    },
    {
      "cell_type": "code",
      "metadata": {
        "colab": {
          "base_uri": "https://localhost:8080/",
          "height": 17,
          "referenced_widgets": [
            "96db3b28d3584142aff59b9154450bc9",
            "f34fca1c927646378a9aa27b6059299f",
            "bb72d82bb99f460aa4e1ea02badc2cd8",
            "c325e5022e134524bc2c3b4e7f53be3e",
            "0c1889c1a5a3491a8e276cbcb73a0937",
            "8767b57e778f49f2819f432cc851348e",
            "fb577f90e6234871b2d1bb06566fc4c3",
            "0a40fdf7913848a5a182920bc383ca71"
          ]
        },
        "id": "uEvx6U0s-nCf",
        "outputId": "5548f10e-dc27-4b3b-f530-3d9effcb7733"
      },
      "source": [
        "train, test= process(train,test)"
      ],
      "execution_count": 7,
      "outputs": [
        {
          "output_type": "display_data",
          "data": {
            "application/vnd.jupyter.widget-view+json": {
              "model_id": "96db3b28d3584142aff59b9154450bc9",
              "version_minor": 0,
              "version_major": 2
            },
            "text/plain": [
              "HBox(children=(FloatProgress(value=0.0, max=1.0), HTML(value='')))"
            ]
          },
          "metadata": {
            "tags": []
          }
        },
        {
          "output_type": "stream",
          "text": [
            "\r"
          ],
          "name": "stdout"
        }
      ]
    },
    {
      "cell_type": "markdown",
      "metadata": {
        "id": "dlPfPBZz-xdo"
      },
      "source": [
        "# **Modeling**"
      ]
    },
    {
      "cell_type": "code",
      "metadata": {
        "id": "8OMc4cus_mrp"
      },
      "source": [
        "from sklearn.model_selection import StratifiedKFold ,KFold\n",
        "import lightgbm as lgb\n",
        "import xgboost as xgb"
      ],
      "execution_count": 8,
      "outputs": []
    },
    {
      "cell_type": "code",
      "metadata": {
        "id": "Nm6oER0g_oB7",
        "colab": {
          "base_uri": "https://localhost:8080/"
        },
        "outputId": "d6d9c00d-3d16-45ef-eebb-06ed44a97ef4"
      },
      "source": [
        "# Install Catboost\n",
        "!pip install catboost==0.22 --quiet\n",
        "import catboost as cat\n",
        "from catboost import CatBoostRegressor, Pool"
      ],
      "execution_count": 9,
      "outputs": [
        {
          "output_type": "stream",
          "text": [
            "\u001b[K     |████████████████████████████████| 64.4MB 55kB/s \n",
            "\u001b[?25h"
          ],
          "name": "stdout"
        }
      ]
    },
    {
      "cell_type": "code",
      "metadata": {
        "id": "zdWaKEjL-8bA"
      },
      "source": [
        "target = train['ref_pm2_5']"
      ],
      "execution_count": 10,
      "outputs": []
    },
    {
      "cell_type": "markdown",
      "metadata": {
        "id": "rTVxJG2C1mkY"
      },
      "source": [
        "## 0. Utils"
      ]
    },
    {
      "cell_type": "code",
      "metadata": {
        "id": "56KM5zAP1wk3"
      },
      "source": [
        "def Train_5Fold_lgbm(X,y,Test,site,kfold) :\n",
        "  final_preds_per_location = []\n",
        "  err_cb=[]\n",
        "  site_oof_preds = np.zeros(len(X))\n",
        "  for fold,(train_index, test_index) in enumerate(kfold.split(X,y)):\n",
        "      X_train, X_test = X.values[train_index], X.values[test_index]\n",
        "      y_train, y_test = y.values[train_index], y.values[test_index]\n",
        "      \n",
        "      trn_data = lgb.Dataset(X_train, y_train)\n",
        "      val_data = lgb.Dataset(X_test, y_test)\n",
        "\n",
        "      model = lgb.train(params_lgb, trn_data, valid_sets = [trn_data, val_data], verbose_eval=0, early_stopping_rounds = 200)\n",
        "\n",
        "      preds=model.predict(X_test, num_iteration=model.best_iteration)\n",
        "      site_oof_preds[test_index] = preds\n",
        "      err_cb.append(np.sqrt(mean_squared_error(y_test,preds)))\n",
        "      \n",
        "      test_pred = model.predict(Test.values, num_iteration=model.best_iteration)\n",
        "      final_preds_per_location.append(test_pred)\n",
        "  \n",
        "  print(f\"Site {site} --  Training RMSE :\" ,np.mean(err_cb))\n",
        "  return np.mean(final_preds_per_location,axis=0) , site_oof_preds\n",
        "\n",
        "# ------------------------------------------------------------------------------------------------------------------------------\n",
        "\n",
        "def Custom_train_Lgbm() :\n",
        "  '''SEED The envierment'''\n",
        "  seed = 0\n",
        "  random.seed(seed)\n",
        "  np.random.seed(seed)\n",
        "  kfold=KFold(n_splits=5, random_state=1901,shuffle=True)\n",
        "  \n",
        "  final_preds=[]\n",
        "  final_ids = []\n",
        "  train_ids = []\n",
        "  oof_prediction = []\n",
        "  for site in tqdm_notebook([0,1,2], leave=False):\n",
        "    print(60*'-')\n",
        "    X = train[train['site']==site]  ; train_ids.extend(X['ID'].values)   ; y = X['ref_pm2_5']; X = X[features]\n",
        "    Test = test[test['site']==site] ; final_ids.extend(Test['ID'].values); Test = Test[features]\n",
        "    \n",
        "    preds_per_location, site_oof_preds = Train_5Fold_lgbm(X=X,y=y,Test=Test,site=site,kfold=kfold)\n",
        "    oof_prediction.extend(site_oof_preds) ; final_preds.extend(preds_per_location)\n",
        "  \n",
        "  oof_data = pd.DataFrame() ; oof_data['ID'] = train_ids ; oof_data['OOF'] = np.clip(oof_prediction,a_min=0,a_max=500) \n",
        "  preds_data = pd.DataFrame() ; preds_data['ID'] = final_ids ; preds_data['ref_pm2_5'] = np.clip(final_preds,a_min=0,a_max=500) \n",
        "  print()\n",
        "  print(60*'#')\n",
        "  return oof_data,preds_data"
      ],
      "execution_count": 11,
      "outputs": []
    },
    {
      "cell_type": "code",
      "metadata": {
        "id": "On-Us9yw2f3W"
      },
      "source": [
        "def Train_5Fold_xgb(X,y,Test,site,kfold) :\n",
        "  final_preds_per_location = []\n",
        "  err_cb=[]\n",
        "  site_oof_preds = np.zeros(len(X))\n",
        "  for fold,(train_index, test_index) in enumerate(kfold.split(X,y)):\n",
        "      X_train, X_test = X.values[train_index], X.values[test_index]\n",
        "      y_train, y_test = y.values[train_index], y.values[test_index]\n",
        "      \n",
        "      trn_data = xgb.DMatrix(X_train, y_train)\n",
        "      val_data = xgb.DMatrix(X_test, y_test)\n",
        "      watchlist = [(trn_data, 'train'), (val_data, 'valid')]\n",
        "\n",
        "      model = xgb.train(params_xgb, trn_data,10000, evals = watchlist, verbose_eval=0, early_stopping_rounds = 200)\n",
        "\n",
        "      dX_test = xgb.DMatrix(X_test)\n",
        "      preds = model.predict(dX_test)\n",
        "      site_oof_preds[test_index] = preds\n",
        "      err_cb.append(np.sqrt(mean_squared_error(y_test,preds)))\n",
        "      \n",
        "      dTest = xgb.DMatrix(Test.values)\n",
        "      test_pred = model.predict(dTest)\n",
        "      final_preds_per_location.append(test_pred)\n",
        "  \n",
        "  print(f\"Site {site} --  Training RMSE :\" ,np.mean(err_cb))\n",
        "  return np.mean(final_preds_per_location,axis=0) , site_oof_preds\n",
        "\n",
        "# ------------------------------------------------------------------------------------------------------------------------------\n",
        "\n",
        "def Custom_train_xgb() :\n",
        "  '''SEED The envierment'''\n",
        "  seed = 0\n",
        "  random.seed(seed)\n",
        "  np.random.seed(seed)\n",
        "  kfold=KFold(n_splits=5, random_state=1901,shuffle=True)\n",
        "  \n",
        "  final_preds=[]\n",
        "  final_ids = []\n",
        "  train_ids = []\n",
        "  oof_prediction = []\n",
        "  for site in tqdm_notebook([0,1,2], leave=False):\n",
        "    print(60*'-')\n",
        "    X = train[train['site']==site]  ; train_ids.extend(X['ID'].values)   ; y = X['ref_pm2_5']; X = X[features]\n",
        "    Test = test[test['site']==site] ; final_ids.extend(Test['ID'].values); Test = Test[features]\n",
        "    \n",
        "    preds_per_location, site_oof_preds = Train_5Fold_xgb(X=X,y=y,Test=Test,site=site,kfold=kfold)\n",
        "    oof_prediction.extend(site_oof_preds) ; final_preds.extend(preds_per_location)\n",
        "  \n",
        "  oof_data = pd.DataFrame() ; oof_data['ID'] = train_ids ; oof_data['OOF'] = np.clip(oof_prediction,a_min=0,a_max=500) \n",
        "  preds_data = pd.DataFrame() ; preds_data['ID'] = final_ids ; preds_data['ref_pm2_5'] = np.clip(final_preds,a_min=0,a_max=500)\n",
        "   \n",
        "  print()\n",
        "  print(60*'#')\n",
        "  return oof_data,preds_data"
      ],
      "execution_count": 12,
      "outputs": []
    },
    {
      "cell_type": "code",
      "metadata": {
        "id": "m93z1cHc3VOY"
      },
      "source": [
        "def Train_5Fold_catboost_1(X,y,Test,site,kfold) :\n",
        "  final_preds_per_location = []\n",
        "  err_cb=[]\n",
        "  site_oof_preds = np.zeros(len(X))\n",
        "  for fold,(train_index, test_index) in enumerate(kfold.split(X,y)):\n",
        "      X_train, X_test = X.values[train_index], X.values[test_index]\n",
        "      y_train, y_test = y.values[train_index], y.values[test_index]\n",
        "      \n",
        "      model = CatBoostRegressor(n_estimators=5000,eval_metric='RMSE',learning_rate=0.05, random_seed= 0,\n",
        "                                    use_best_model=True, ) \n",
        "      model.fit(X_train,y_train,eval_set=[(X_test, y_test)],early_stopping_rounds=20,verbose=0)\n",
        "\n",
        "      preds=model.predict(X_test)\n",
        "      site_oof_preds[test_index] = preds\n",
        "      err_cb.append(np.sqrt(mean_squared_error(y_test,preds)))\n",
        "      \n",
        "      test_pred = model.predict(Test.values)\n",
        "      final_preds_per_location.append(test_pred)\n",
        "  \n",
        "  print(f\"Site {site} --  Training RMSE :\" ,np.mean(err_cb))\n",
        "  return np.mean(final_preds_per_location,axis=0) , site_oof_preds\n",
        "  \n",
        "# ------------------------------------------------------------------------------------------------------------------------------ \n",
        "\n",
        "def Custom_train_catboost_1(features) :\n",
        "  kfold=KFold(n_splits=5, random_state=1901,shuffle=True)\n",
        "  \n",
        "  final_preds=[]\n",
        "  final_ids = []\n",
        "  train_ids = []\n",
        "  oof_prediction = []\n",
        "  for site in tqdm_notebook([0,1,2], leave=False):\n",
        "    print(60*'-')\n",
        "    X = train[train['site']==site]  ; train_ids.extend(X['ID'].values)   ; y = X['ref_pm2_5']; X = X[features]\n",
        "    Test = test[test['site']==site] ; final_ids.extend(Test['ID'].values); Test = Test[features]\n",
        "    \n",
        "    preds_per_location, site_oof_preds = Train_5Fold_catboost_1(X=X,y=y,Test=Test,site=site,kfold=kfold)\n",
        "    oof_prediction.extend(site_oof_preds) ; final_preds.extend(preds_per_location)\n",
        "  \n",
        "  oof_data = pd.DataFrame() ; oof_data['ID'] = train_ids ; oof_data['OOF'] = np.clip(oof_prediction,a_min=0,a_max=500) \n",
        "  preds_data = pd.DataFrame() ; preds_data['ID'] = final_ids ; preds_data['ref_pm2_5'] = np.clip(final_preds,a_min=0,a_max=500)\n",
        "  \n",
        "  print()\n",
        "  print(60*'#')\n",
        "  return oof_data,preds_data"
      ],
      "execution_count": 13,
      "outputs": []
    },
    {
      "cell_type": "code",
      "metadata": {
        "id": "_SuJbksk3VL4"
      },
      "source": [
        "def Train_5Fold_catboost_2(X,y,Test,site,kfold) :\n",
        "  final_preds_per_location = []\n",
        "  err_cb=[]\n",
        "  site_oof_preds = np.zeros(len(X))\n",
        "  for fold,(train_index, test_index) in enumerate(kfold.split(X,y)):\n",
        "      X_train, X_test = X.values[train_index], X.values[test_index]\n",
        "      y_train, y_test = y.values[train_index], y.values[test_index]\n",
        "\n",
        "      model = CatBoostRegressor(n_estimators=5000,eval_metric='RMSE',learning_rate=0.05, random_seed= 0,\n",
        "                                    use_best_model=True, ) \n",
        "      model.fit(X_train,y_train,eval_set=[(X_test, y_test)],early_stopping_rounds=20,verbose=0)\n",
        "      preds=model.predict(X_test)\n",
        "      site_oof_preds[test_index] = preds\n",
        "      err_cb.append(np.sqrt(mean_squared_error(y_test,preds)))\n",
        "      \n",
        "      test_pred = model.predict(Test.values)\n",
        "      final_preds_per_location.append(test_pred)\n",
        "  \n",
        "  print(f\"Site {site} --  Training RMSE :\" ,np.mean(err_cb))\n",
        "  return np.mean(final_preds_per_location,axis=0) , site_oof_preds\n",
        "\n",
        "# ------------------------------------------------------------------------------------------------------------------------------ \n",
        "\n",
        "def Custom_train_catboost_2(features) :\n",
        "  kfold=KFold(n_splits=5, random_state=1901,shuffle=True)\n",
        "  \n",
        "  final_preds=[]\n",
        "  final_ids = []\n",
        "  train_ids = []\n",
        "  oof_prediction = []\n",
        "  for site in tqdm_notebook([0,1,2], leave=False):\n",
        "    print(60*'-')\n",
        "    X = train[train['site']==site]  ; train_ids.extend(X['ID'].values)   ; y = X['ref_pm2_5']; X = X[features]\n",
        "    Test = test[test['site']==site] ; final_ids.extend(Test['ID'].values); Test = Test[features]\n",
        "    \n",
        "    preds_per_location, site_oof_preds = Train_5Fold_catboost_2(X=X,y=y,Test=Test,site=site,kfold=kfold)\n",
        "    oof_prediction.extend(site_oof_preds) ; final_preds.extend(preds_per_location)\n",
        "  \n",
        "  oof_data = pd.DataFrame() ; oof_data['ID'] = train_ids ; oof_data['OOF'] = np.clip(oof_prediction,a_min=0,a_max=500) \n",
        "  preds_data = pd.DataFrame() ; preds_data['ID'] = final_ids ; preds_data['ref_pm2_5'] = np.clip(final_preds,a_min=0,a_max=500)\n",
        "  \n",
        "  print()\n",
        "  print(60*'#')\n",
        "  return oof_data,preds_data"
      ],
      "execution_count": 14,
      "outputs": []
    },
    {
      "cell_type": "code",
      "metadata": {
        "id": "3_XbfzMRBSU2"
      },
      "source": [
        "def Train_5Fold_Stacking(X,y,Test,kfold) :\n",
        "  final_preds = [] ; err_cb = []\n",
        "  oof_stack = np.zeros(len(X)) ;\n",
        "  for fold,(train_index, test_index) in enumerate(kfold.split(X,y)):\n",
        "      X_train, X_test = X.values[train_index], X.values[test_index]\n",
        "      y_train, y_test = y.values[train_index], y.values[test_index]\n",
        "\n",
        "      model = Ridge(alpha=0.01,random_state=42)\n",
        "      model.fit(X_train,y_train)\n",
        "      preds=model.predict(X_test)\n",
        "      preds = np.clip(preds,a_min=0,a_max=500)\n",
        "      oof_stack[test_index] = preds\n",
        "      err_cb.append(mean_squared_error(y_test,preds,squared=False))\n",
        "      \n",
        "      test_pred = model.predict(Test.values)\n",
        "      final_preds.append(test_pred)\n",
        "  \n",
        "  print(2*'--------------------------------------')\n",
        "  print(f\"Stacking RMSE :\" ,np.mean(err_cb))\n",
        "  return oof_stack,np.mean(final_preds,axis=0)"
      ],
      "execution_count": 15,
      "outputs": []
    },
    {
      "cell_type": "markdown",
      "metadata": {
        "id": "_AYheVfiMSlK"
      },
      "source": [
        "## 1. LGBM"
      ]
    },
    {
      "cell_type": "code",
      "metadata": {
        "id": "m5B8aBVIKeBH"
      },
      "source": [
        "features = [x for x in train.columns \n",
        "            if x not in ['ID', 'created_at','dist_major_road' , 'greenness' , 'population','lat' , 'altitude','landform_90m','landform_270m',\n",
        "                         'ref_pm2_5','long','pm10_div_s2_pm10','pm2_5_div_s2_pm2_5','pm10_div_s2_pm2_5','pm2_5_div_s2_pm10','month_day',]]\n",
        "                                                  \n",
        "params_lgb = {'objective' :'regression','boosting_type' : 'gbdt','metric': 'rmse' ,\n",
        "              'learning_rate' : 0.1,'num_iterations': 2500,'max_depth' :9 ,'num_leaves' : 81,\n",
        "              'feature_fraction': 0.7,'bagging_fraction': 0.9,'min_data_in_leaf':5,'reg_lambda' :50}"
      ],
      "execution_count": 16,
      "outputs": []
    },
    {
      "cell_type": "code",
      "metadata": {
        "colab": {
          "base_uri": "https://localhost:8080/",
          "height": 153,
          "referenced_widgets": [
            "3cf1a0debe3c4c4cae9f2aa1b01a11b5",
            "e9abad9ceab04d359023c4027658c85b",
            "0d01be33c94341b289eea0ee8cd16277",
            "3b74e5af957740949bfb992b3735c1a1",
            "6860d55621bc43b283a73ab79220ef75",
            "0befbf3b38804710944614530f61934c",
            "b05c2a7b9faf47df919dfcc789d61889",
            "18994b4440df4602859d1bc06a3cbccc"
          ]
        },
        "id": "0eCNO5ZO55lo",
        "outputId": "6df121d8-b2dc-45e2-e707-20b1d31438c5"
      },
      "source": [
        "oof_data_lgb,final_preds_lgb = Custom_train_Lgbm()  # 20.246212898756532"
      ],
      "execution_count": 17,
      "outputs": [
        {
          "output_type": "display_data",
          "data": {
            "application/vnd.jupyter.widget-view+json": {
              "model_id": "3cf1a0debe3c4c4cae9f2aa1b01a11b5",
              "version_minor": 0,
              "version_major": 2
            },
            "text/plain": [
              "HBox(children=(FloatProgress(value=0.0, max=3.0), HTML(value='')))"
            ]
          },
          "metadata": {
            "tags": []
          }
        },
        {
          "output_type": "stream",
          "text": [
            "------------------------------------------------------------\n",
            "Site 0 --  Training RMSE : 8.246766743705319\n",
            "------------------------------------------------------------\n",
            "Site 1 --  Training RMSE : 20.246212898756532\n",
            "------------------------------------------------------------\n",
            "Site 2 --  Training RMSE : 9.845985263811599\n",
            "\n",
            "############################################################\n"
          ],
          "name": "stdout"
        }
      ]
    },
    {
      "cell_type": "code",
      "metadata": {
        "colab": {
          "base_uri": "https://localhost:8080/"
        },
        "id": "LTX5KJqQ6Xy3",
        "outputId": "a39a4f3e-9db4-46e3-9cb8-76fdc5f1dfc1"
      },
      "source": [
        "train_oof_data = pd.merge(train[['ID','ref_pm2_5']], oof_data_lgb,on='ID',how='left')\n",
        "print('OOF RMSE : ',np.sqrt(mean_squared_error(train_oof_data['ref_pm2_5'],train_oof_data['OOF'])))"
      ],
      "execution_count": 18,
      "outputs": [
        {
          "output_type": "stream",
          "text": [
            "OOF RMSE :  11.996131962768287\n"
          ],
          "name": "stdout"
        }
      ]
    },
    {
      "cell_type": "markdown",
      "metadata": {
        "id": "s3VGOg3AK1lY"
      },
      "source": [
        "## 2. xgb"
      ]
    },
    {
      "cell_type": "code",
      "metadata": {
        "id": "8hOeIdZDK1lZ"
      },
      "source": [
        "features = [x for x in train.columns \n",
        "            if x not in ['ID', 'created_at','dist_major_road' , 'greenness' , 'population','lat' , 'altitude','landform_90m','landform_270m',\n",
        "                         'ref_pm2_5','long','pm10_div_s2_pm10','pm2_5_div_s2_pm2_5','pm10_div_s2_pm2_5','pm2_5_div_s2_pm10','month_day',]]\n",
        "\n",
        "params_xgb = {'objective': 'reg:squarederror','eval_metric': 'rmse','booster': 'gbtree', \n",
        "          'n_estimators': 10000,  'max_depth': 6, 'learning_rate': 0.08, 'max_bin': 100,\n",
        "          'max_leaves': 64,'reg_alpha': 5, 'reg_lambda': 15,'subsample': 0.7 ,'colsample_bytree' : 0.7,\n",
        "          'silent' : False,}"
      ],
      "execution_count": 19,
      "outputs": []
    },
    {
      "cell_type": "code",
      "metadata": {
        "colab": {
          "base_uri": "https://localhost:8080/",
          "height": 153,
          "referenced_widgets": [
            "44c72339234b48a5b7f888b4d811f296",
            "676c2e6e7eba46018aa3fac4d998fa5f",
            "89aa84735e0b4b2993184456f5e1022a",
            "7adb9a0333294df89778d0dce6b909f8",
            "82cc5b7aa04342c9a85f29a05e394c8c",
            "6ac6aa7d2c234ac08bf3a7e6dab501c9",
            "02ae5dd6f6e4442c97024dd90567080d",
            "b963d8c8095347d582d265399d25ae61"
          ]
        },
        "id": "1eDoZ41EK1la",
        "outputId": "93a0eb11-7c4c-48d6-a21c-f712e74a54fd"
      },
      "source": [
        "oof_data_xgb,final_preds_xgb = Custom_train_xgb()  # 20.507548323786573"
      ],
      "execution_count": 20,
      "outputs": [
        {
          "output_type": "display_data",
          "data": {
            "application/vnd.jupyter.widget-view+json": {
              "model_id": "44c72339234b48a5b7f888b4d811f296",
              "version_minor": 0,
              "version_major": 2
            },
            "text/plain": [
              "HBox(children=(FloatProgress(value=0.0, max=3.0), HTML(value='')))"
            ]
          },
          "metadata": {
            "tags": []
          }
        },
        {
          "output_type": "stream",
          "text": [
            "------------------------------------------------------------\n",
            "Site 0 --  Training RMSE : 8.120389948580696\n",
            "------------------------------------------------------------\n",
            "Site 1 --  Training RMSE : 20.425651203290435\n",
            "------------------------------------------------------------\n",
            "Site 2 --  Training RMSE : 9.769254383275811\n",
            "\n",
            "############################################################\n"
          ],
          "name": "stdout"
        }
      ]
    },
    {
      "cell_type": "code",
      "metadata": {
        "colab": {
          "base_uri": "https://localhost:8080/"
        },
        "id": "y7ssCiP_K1la",
        "outputId": "b8cafc99-770c-4e01-f6ad-21aaef3860d8"
      },
      "source": [
        "train_oof_data = pd.merge(train[['ID','ref_pm2_5']], oof_data_xgb,on='ID',how='left')\n",
        "print('OOF RMSE : ',np.sqrt(mean_squared_error(train_oof_data['ref_pm2_5'],train_oof_data['OOF'])))"
      ],
      "execution_count": 21,
      "outputs": [
        {
          "output_type": "stream",
          "text": [
            "OOF RMSE :  11.987335628280457\n"
          ],
          "name": "stdout"
        }
      ]
    },
    {
      "cell_type": "markdown",
      "metadata": {
        "id": "-NHtfL5AMVIc"
      },
      "source": [
        "## 3. CATBOOST_1"
      ]
    },
    {
      "cell_type": "code",
      "metadata": {
        "id": "IF2Kv4Z8PBIS"
      },
      "source": [
        "features = ['site', 'pm2_5', 'pm10', 's2_pm2_5', 's2_pm10', 'humidity', 'temp', 'long',\n",
        "            'year', 'month', 'day', 'weekday', 'hour','weekofyear','day_hour']"
      ],
      "execution_count": 22,
      "outputs": []
    },
    {
      "cell_type": "code",
      "metadata": {
        "colab": {
          "base_uri": "https://localhost:8080/",
          "height": 153,
          "referenced_widgets": [
            "240a8b41b4814c7294e9956a8d172a24",
            "2442150e5f3449f1bd517cdbffbee3f5",
            "3c77a31107ca49939f3b925a0d2c04f9",
            "e581af6e8ccc4ffebe693336451d03f6",
            "492e7406208b4e229fce94ab124f6e42",
            "8b7df69fd5d342658544445b2d450a33",
            "900bd1d6f77f48f884e89b4edc3368da",
            "2e26134ed13e42c1bbd22117692d3971"
          ]
        },
        "id": "5e3abX4PMVId",
        "outputId": "90e1210a-d53b-4a1c-a738-ba12dc8b877a"
      },
      "source": [
        "oof_data_catboost_1,final_preds_catboost_1 = Custom_train_catboost_1(features=features) "
      ],
      "execution_count": 23,
      "outputs": [
        {
          "output_type": "display_data",
          "data": {
            "application/vnd.jupyter.widget-view+json": {
              "model_id": "240a8b41b4814c7294e9956a8d172a24",
              "version_minor": 0,
              "version_major": 2
            },
            "text/plain": [
              "HBox(children=(FloatProgress(value=0.0, max=3.0), HTML(value='')))"
            ]
          },
          "metadata": {
            "tags": []
          }
        },
        {
          "output_type": "stream",
          "text": [
            "------------------------------------------------------------\n",
            "Site 0 --  Training RMSE : 8.21782882822482\n",
            "------------------------------------------------------------\n",
            "Site 1 --  Training RMSE : 20.44675281291432\n",
            "------------------------------------------------------------\n",
            "Site 2 --  Training RMSE : 9.822242475827856\n",
            "\n",
            "############################################################\n"
          ],
          "name": "stdout"
        }
      ]
    },
    {
      "cell_type": "code",
      "metadata": {
        "colab": {
          "base_uri": "https://localhost:8080/"
        },
        "id": "RnSPiV9qMVId",
        "outputId": "f73fd02e-8eb1-4999-8089-154cb4436164"
      },
      "source": [
        "train_oof_data = pd.merge(train[['ID','ref_pm2_5']], oof_data_catboost_1,on='ID',how='left')\n",
        "print('OOF RMSE : ',np.sqrt(mean_squared_error(train_oof_data['ref_pm2_5'],train_oof_data['OOF'])))"
      ],
      "execution_count": 24,
      "outputs": [
        {
          "output_type": "stream",
          "text": [
            "OOF RMSE :  12.02234751287189\n"
          ],
          "name": "stdout"
        }
      ]
    },
    {
      "cell_type": "markdown",
      "metadata": {
        "id": "EKyvmVGENYK0"
      },
      "source": [
        "## 4. CATBOOST_2"
      ]
    },
    {
      "cell_type": "code",
      "metadata": {
        "id": "U4oUlGJhNYK9"
      },
      "source": [
        "features = [x for x in train.columns \n",
        "            if x not in ['ID', 'created_at','dist_major_road' , 'greenness' , 'population','lat' , 'altitude','landform_90m','landform_270m',\n",
        "                         'ref_pm2_5','long','pm10_div_s2_pm10','pm2_5_div_s2_pm2_5','pm10_div_s2_pm2_5','pm2_5_div_s2_pm10','month_day',]]"
      ],
      "execution_count": 25,
      "outputs": []
    },
    {
      "cell_type": "code",
      "metadata": {
        "colab": {
          "base_uri": "https://localhost:8080/",
          "height": 153,
          "referenced_widgets": [
            "5c6144233c2d44a2a45d2c1b183866c5",
            "c90b8c6ad2af45cabc45b83135041ad4",
            "ddd7160319b24f52b0535e6966ea5706",
            "cfb13b16fc30443e9ea1a43c63bfafd6",
            "efce85fa8ea3424d914d3e39cfbbd409",
            "3b0e05e7deeb402dbe0442b37f8809b8",
            "5137bfac79584240a6fbf6015fdbb818",
            "53cc4cd7c51a44acb7f06cbcd013a44c"
          ]
        },
        "id": "fGdE51NeNYK9",
        "outputId": "464ec316-62e1-4510-b545-ed89f3a7a922"
      },
      "source": [
        "oof_data_catboost_2,final_preds_catboost_2 = Custom_train_catboost_2(features=features) # 19.956495851102694"
      ],
      "execution_count": 26,
      "outputs": [
        {
          "output_type": "display_data",
          "data": {
            "application/vnd.jupyter.widget-view+json": {
              "model_id": "5c6144233c2d44a2a45d2c1b183866c5",
              "version_minor": 0,
              "version_major": 2
            },
            "text/plain": [
              "HBox(children=(FloatProgress(value=0.0, max=3.0), HTML(value='')))"
            ]
          },
          "metadata": {
            "tags": []
          }
        },
        {
          "output_type": "stream",
          "text": [
            "------------------------------------------------------------\n",
            "Site 0 --  Training RMSE : 8.025612559316055\n",
            "------------------------------------------------------------\n",
            "Site 1 --  Training RMSE : 19.956495851102694\n",
            "------------------------------------------------------------\n",
            "Site 2 --  Training RMSE : 9.65985380499935\n",
            "\n",
            "############################################################\n"
          ],
          "name": "stdout"
        }
      ]
    },
    {
      "cell_type": "code",
      "metadata": {
        "colab": {
          "base_uri": "https://localhost:8080/"
        },
        "id": "kB0-RpSFNYK-",
        "outputId": "42b32b43-3300-428a-d751-1d776189870d"
      },
      "source": [
        "train_oof_data = pd.merge(train[['ID','ref_pm2_5']], oof_data_catboost_2,on='ID',how='left')\n",
        "print('OOF RMSE : ',np.sqrt(mean_squared_error(train_oof_data['ref_pm2_5'],train_oof_data['OOF'])))"
      ],
      "execution_count": 27,
      "outputs": [
        {
          "output_type": "stream",
          "text": [
            "OOF RMSE :  11.784461808774894\n"
          ],
          "name": "stdout"
        }
      ]
    },
    {
      "cell_type": "markdown",
      "metadata": {
        "id": "2zt-zzb8RInr"
      },
      "source": [
        "## 5. Stacking"
      ]
    },
    {
      "cell_type": "code",
      "metadata": {
        "id": "mv1CfkZ0SXA5"
      },
      "source": [
        "from sklearn.linear_model import Ridge ,LinearRegression"
      ],
      "execution_count": 28,
      "outputs": []
    },
    {
      "cell_type": "code",
      "metadata": {
        "id": "7x054OeNBKJG"
      },
      "source": [
        "stacking_train = oof_data_catboost_2.copy() ; del stacking_train['OOF'] ;\n",
        "stacking_train['azer_preds_cat_2'] =  oof_data_catboost_2['OOF'] ;\n",
        "stacking_train['azer_preds_cat_1'] =  oof_data_catboost_1['OOF']\n",
        "stacking_train['azer_preds_xgb'] =  oof_data_xgb['OOF'] ;\n",
        "stacking_train['azer_preds_lgb'] =  oof_data_lgb['OOF']\n",
        "stacking_train = pd.merge(train[['ID','ref_pm2_5']], stacking_train,on='ID',how='left')\n",
        "stacking_train.rename({'ref_pm2_5': 'target'})\n",
        "\n",
        "stacking_test = final_preds_catboost_2.copy() ; del stacking_test['ref_pm2_5']\n",
        "stacking_test['azer_preds_cat_2'] =  final_preds_catboost_2['ref_pm2_5'] ; \n",
        "stacking_test['azer_preds_cat_1'] =  final_preds_catboost_1['ref_pm2_5']\n",
        "stacking_test['azer_preds_xgb'] =  final_preds_xgb['ref_pm2_5'] ;\n",
        "stacking_test['azer_preds_lgb'] =  final_preds_lgb['ref_pm2_5']"
      ],
      "execution_count": 29,
      "outputs": []
    },
    {
      "cell_type": "code",
      "metadata": {
        "id": "0Gfb7zAJS1xg",
        "colab": {
          "base_uri": "https://localhost:8080/"
        },
        "outputId": "72aaf3a8-cc75-4389-dd94-02c47a814cfa"
      },
      "source": [
        "cols = ['azer_preds_cat_2','azer_preds_cat_1', 'azer_preds_xgb', 'azer_preds_lgb']\n",
        "\n",
        "X , y , Test = stacking_train[cols] , stacking_train['ref_pm2_5'] , stacking_test[cols]\n",
        "KFOLD = KFold(n_splits=5,random_state=1901,shuffle=True)\n",
        "\n",
        "oof_stack,stack_preds = Train_5Fold_Stacking(X=X,y=y,Test=Test,kfold=KFOLD)"
      ],
      "execution_count": 30,
      "outputs": [
        {
          "output_type": "stream",
          "text": [
            "----------------------------------------------------------------------------\n",
            "Stacking RMSE : 11.466119699621165\n"
          ],
          "name": "stdout"
        }
      ]
    },
    {
      "cell_type": "code",
      "metadata": {
        "colab": {
          "base_uri": "https://localhost:8080/"
        },
        "id": "2kh3CGXmzWDB",
        "outputId": "08389df7-b276-44d8-fd48-f0a62d4b68df"
      },
      "source": [
        "print('Stacking OOF',mean_squared_error(y,oof_stack,squared=False))"
      ],
      "execution_count": 33,
      "outputs": [
        {
          "output_type": "stream",
          "text": [
            "Stacking OOF 11.66078552317838\n"
          ],
          "name": "stdout"
        }
      ]
    },
    {
      "cell_type": "code",
      "metadata": {
        "id": "p-XW-jwEDITk"
      },
      "source": [
        "# save stacking data's \n",
        "stacking_train.to_csv('azer_stacking_train.csv',index=False)\n",
        "stacking_test.to_csv('azer_stacking_test.csv',index=False)"
      ],
      "execution_count": 32,
      "outputs": []
    }
  ]
}