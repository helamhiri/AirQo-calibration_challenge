{
  "nbformat": 4,
  "nbformat_minor": 0,
  "metadata": {
    "kernelspec": {
      "language": "python",
      "display_name": "Python 3",
      "name": "python3"
    },
    "language_info": {
      "name": "python",
      "version": "3.7.10",
      "mimetype": "text/x-python",
      "codemirror_mode": {
        "name": "ipython",
        "version": 3
      },
      "pygments_lexer": "ipython3",
      "nbconvert_exporter": "python",
      "file_extension": ".py"
    },
    "colab": {
      "name": "Hela_App2_stacking.ipynb",
      "provenance": [],
      "collapsed_sections": [
        "W32YH5gRE10R"
      ]
    },
    "widgets": {
      "application/vnd.jupyter.widget-state+json": {
        "64271ae3a63343709ad86d4047329447": {
          "model_module": "@jupyter-widgets/controls",
          "model_name": "HBoxModel",
          "state": {
            "_view_name": "HBoxView",
            "_dom_classes": [],
            "_model_name": "HBoxModel",
            "_view_module": "@jupyter-widgets/controls",
            "_model_module_version": "1.5.0",
            "_view_count": null,
            "_view_module_version": "1.5.0",
            "box_style": "",
            "layout": "IPY_MODEL_d99b78be4a1346f2939c98eb2c3ef8c3",
            "_model_module": "@jupyter-widgets/controls",
            "children": [
              "IPY_MODEL_b6ee53d7947c4f949cb4c1d87fa7a9d8",
              "IPY_MODEL_faa0bb97359b4aeaa948b01a2ae67a0a"
            ]
          }
        },
        "d99b78be4a1346f2939c98eb2c3ef8c3": {
          "model_module": "@jupyter-widgets/base",
          "model_name": "LayoutModel",
          "state": {
            "_view_name": "LayoutView",
            "grid_template_rows": null,
            "right": null,
            "justify_content": null,
            "_view_module": "@jupyter-widgets/base",
            "overflow": null,
            "_model_module_version": "1.2.0",
            "_view_count": null,
            "flex_flow": null,
            "width": null,
            "min_width": null,
            "border": null,
            "align_items": null,
            "bottom": null,
            "_model_module": "@jupyter-widgets/base",
            "top": null,
            "grid_column": null,
            "overflow_y": null,
            "overflow_x": null,
            "grid_auto_flow": null,
            "grid_area": null,
            "grid_template_columns": null,
            "flex": null,
            "_model_name": "LayoutModel",
            "justify_items": null,
            "grid_row": null,
            "max_height": null,
            "align_content": null,
            "visibility": null,
            "align_self": null,
            "height": null,
            "min_height": null,
            "padding": null,
            "grid_auto_rows": null,
            "grid_gap": null,
            "max_width": null,
            "order": null,
            "_view_module_version": "1.2.0",
            "grid_template_areas": null,
            "object_position": null,
            "object_fit": null,
            "grid_auto_columns": null,
            "margin": null,
            "display": null,
            "left": null
          }
        },
        "b6ee53d7947c4f949cb4c1d87fa7a9d8": {
          "model_module": "@jupyter-widgets/controls",
          "model_name": "FloatProgressModel",
          "state": {
            "_view_name": "ProgressView",
            "style": "IPY_MODEL_2329978bd2b44a038a69e0268f0d2b4e",
            "_dom_classes": [],
            "description": "100%",
            "_model_name": "FloatProgressModel",
            "bar_style": "",
            "max": 3,
            "_view_module": "@jupyter-widgets/controls",
            "_model_module_version": "1.5.0",
            "value": 3,
            "_view_count": null,
            "_view_module_version": "1.5.0",
            "orientation": "horizontal",
            "min": 0,
            "description_tooltip": null,
            "_model_module": "@jupyter-widgets/controls",
            "layout": "IPY_MODEL_5213a907e75448f98715cccdca383065"
          }
        },
        "faa0bb97359b4aeaa948b01a2ae67a0a": {
          "model_module": "@jupyter-widgets/controls",
          "model_name": "HTMLModel",
          "state": {
            "_view_name": "HTMLView",
            "style": "IPY_MODEL_aa3d3bd696d645fdb605da0e1759702b",
            "_dom_classes": [],
            "description": "",
            "_model_name": "HTMLModel",
            "placeholder": "​",
            "_view_module": "@jupyter-widgets/controls",
            "_model_module_version": "1.5.0",
            "value": " 3/3 [01:47&lt;00:00, 40.03s/it]",
            "_view_count": null,
            "_view_module_version": "1.5.0",
            "description_tooltip": null,
            "_model_module": "@jupyter-widgets/controls",
            "layout": "IPY_MODEL_e5ef0369567240a9b2c1959ef2409675"
          }
        },
        "2329978bd2b44a038a69e0268f0d2b4e": {
          "model_module": "@jupyter-widgets/controls",
          "model_name": "ProgressStyleModel",
          "state": {
            "_view_name": "StyleView",
            "_model_name": "ProgressStyleModel",
            "description_width": "initial",
            "_view_module": "@jupyter-widgets/base",
            "_model_module_version": "1.5.0",
            "_view_count": null,
            "_view_module_version": "1.2.0",
            "bar_color": null,
            "_model_module": "@jupyter-widgets/controls"
          }
        },
        "5213a907e75448f98715cccdca383065": {
          "model_module": "@jupyter-widgets/base",
          "model_name": "LayoutModel",
          "state": {
            "_view_name": "LayoutView",
            "grid_template_rows": null,
            "right": null,
            "justify_content": null,
            "_view_module": "@jupyter-widgets/base",
            "overflow": null,
            "_model_module_version": "1.2.0",
            "_view_count": null,
            "flex_flow": null,
            "width": null,
            "min_width": null,
            "border": null,
            "align_items": null,
            "bottom": null,
            "_model_module": "@jupyter-widgets/base",
            "top": null,
            "grid_column": null,
            "overflow_y": null,
            "overflow_x": null,
            "grid_auto_flow": null,
            "grid_area": null,
            "grid_template_columns": null,
            "flex": null,
            "_model_name": "LayoutModel",
            "justify_items": null,
            "grid_row": null,
            "max_height": null,
            "align_content": null,
            "visibility": null,
            "align_self": null,
            "height": null,
            "min_height": null,
            "padding": null,
            "grid_auto_rows": null,
            "grid_gap": null,
            "max_width": null,
            "order": null,
            "_view_module_version": "1.2.0",
            "grid_template_areas": null,
            "object_position": null,
            "object_fit": null,
            "grid_auto_columns": null,
            "margin": null,
            "display": null,
            "left": null
          }
        },
        "aa3d3bd696d645fdb605da0e1759702b": {
          "model_module": "@jupyter-widgets/controls",
          "model_name": "DescriptionStyleModel",
          "state": {
            "_view_name": "StyleView",
            "_model_name": "DescriptionStyleModel",
            "description_width": "",
            "_view_module": "@jupyter-widgets/base",
            "_model_module_version": "1.5.0",
            "_view_count": null,
            "_view_module_version": "1.2.0",
            "_model_module": "@jupyter-widgets/controls"
          }
        },
        "e5ef0369567240a9b2c1959ef2409675": {
          "model_module": "@jupyter-widgets/base",
          "model_name": "LayoutModel",
          "state": {
            "_view_name": "LayoutView",
            "grid_template_rows": null,
            "right": null,
            "justify_content": null,
            "_view_module": "@jupyter-widgets/base",
            "overflow": null,
            "_model_module_version": "1.2.0",
            "_view_count": null,
            "flex_flow": null,
            "width": null,
            "min_width": null,
            "border": null,
            "align_items": null,
            "bottom": null,
            "_model_module": "@jupyter-widgets/base",
            "top": null,
            "grid_column": null,
            "overflow_y": null,
            "overflow_x": null,
            "grid_auto_flow": null,
            "grid_area": null,
            "grid_template_columns": null,
            "flex": null,
            "_model_name": "LayoutModel",
            "justify_items": null,
            "grid_row": null,
            "max_height": null,
            "align_content": null,
            "visibility": null,
            "align_self": null,
            "height": null,
            "min_height": null,
            "padding": null,
            "grid_auto_rows": null,
            "grid_gap": null,
            "max_width": null,
            "order": null,
            "_view_module_version": "1.2.0",
            "grid_template_areas": null,
            "object_position": null,
            "object_fit": null,
            "grid_auto_columns": null,
            "margin": null,
            "display": null,
            "left": null
          }
        },
        "3ebc956223b8462eaa85b4236fd796ab": {
          "model_module": "@jupyter-widgets/controls",
          "model_name": "HBoxModel",
          "state": {
            "_view_name": "HBoxView",
            "_dom_classes": [],
            "_model_name": "HBoxModel",
            "_view_module": "@jupyter-widgets/controls",
            "_model_module_version": "1.5.0",
            "_view_count": null,
            "_view_module_version": "1.5.0",
            "box_style": "",
            "layout": "IPY_MODEL_bb77b192bf5342e18845505d4ae1ccc4",
            "_model_module": "@jupyter-widgets/controls",
            "children": [
              "IPY_MODEL_8dfe34616e084d6d9319532c035ff4b0",
              "IPY_MODEL_23998334847e407f944ba8104de0668a"
            ]
          }
        },
        "bb77b192bf5342e18845505d4ae1ccc4": {
          "model_module": "@jupyter-widgets/base",
          "model_name": "LayoutModel",
          "state": {
            "_view_name": "LayoutView",
            "grid_template_rows": null,
            "right": null,
            "justify_content": null,
            "_view_module": "@jupyter-widgets/base",
            "overflow": null,
            "_model_module_version": "1.2.0",
            "_view_count": null,
            "flex_flow": null,
            "width": null,
            "min_width": null,
            "border": null,
            "align_items": null,
            "bottom": null,
            "_model_module": "@jupyter-widgets/base",
            "top": null,
            "grid_column": null,
            "overflow_y": null,
            "overflow_x": null,
            "grid_auto_flow": null,
            "grid_area": null,
            "grid_template_columns": null,
            "flex": null,
            "_model_name": "LayoutModel",
            "justify_items": null,
            "grid_row": null,
            "max_height": null,
            "align_content": null,
            "visibility": null,
            "align_self": null,
            "height": null,
            "min_height": null,
            "padding": null,
            "grid_auto_rows": null,
            "grid_gap": null,
            "max_width": null,
            "order": null,
            "_view_module_version": "1.2.0",
            "grid_template_areas": null,
            "object_position": null,
            "object_fit": null,
            "grid_auto_columns": null,
            "margin": null,
            "display": null,
            "left": null
          }
        },
        "8dfe34616e084d6d9319532c035ff4b0": {
          "model_module": "@jupyter-widgets/controls",
          "model_name": "FloatProgressModel",
          "state": {
            "_view_name": "ProgressView",
            "style": "IPY_MODEL_ee5d35a29a154be4b4140ebcb81e1bb9",
            "_dom_classes": [],
            "description": "100%",
            "_model_name": "FloatProgressModel",
            "bar_style": "",
            "max": 3,
            "_view_module": "@jupyter-widgets/controls",
            "_model_module_version": "1.5.0",
            "value": 3,
            "_view_count": null,
            "_view_module_version": "1.5.0",
            "orientation": "horizontal",
            "min": 0,
            "description_tooltip": null,
            "_model_module": "@jupyter-widgets/controls",
            "layout": "IPY_MODEL_48cba7006802476f8a99ab68d0917bf9"
          }
        },
        "23998334847e407f944ba8104de0668a": {
          "model_module": "@jupyter-widgets/controls",
          "model_name": "HTMLModel",
          "state": {
            "_view_name": "HTMLView",
            "style": "IPY_MODEL_fa7b0cb7e4624b8c9e109f8648f4fcd0",
            "_dom_classes": [],
            "description": "",
            "_model_name": "HTMLModel",
            "placeholder": "​",
            "_view_module": "@jupyter-widgets/controls",
            "_model_module_version": "1.5.0",
            "value": " 3/3 [02:48&lt;00:00, 60.21s/it]",
            "_view_count": null,
            "_view_module_version": "1.5.0",
            "description_tooltip": null,
            "_model_module": "@jupyter-widgets/controls",
            "layout": "IPY_MODEL_254b8bae7f0b4a3d97ff6d627920e2a3"
          }
        },
        "ee5d35a29a154be4b4140ebcb81e1bb9": {
          "model_module": "@jupyter-widgets/controls",
          "model_name": "ProgressStyleModel",
          "state": {
            "_view_name": "StyleView",
            "_model_name": "ProgressStyleModel",
            "description_width": "initial",
            "_view_module": "@jupyter-widgets/base",
            "_model_module_version": "1.5.0",
            "_view_count": null,
            "_view_module_version": "1.2.0",
            "bar_color": null,
            "_model_module": "@jupyter-widgets/controls"
          }
        },
        "48cba7006802476f8a99ab68d0917bf9": {
          "model_module": "@jupyter-widgets/base",
          "model_name": "LayoutModel",
          "state": {
            "_view_name": "LayoutView",
            "grid_template_rows": null,
            "right": null,
            "justify_content": null,
            "_view_module": "@jupyter-widgets/base",
            "overflow": null,
            "_model_module_version": "1.2.0",
            "_view_count": null,
            "flex_flow": null,
            "width": null,
            "min_width": null,
            "border": null,
            "align_items": null,
            "bottom": null,
            "_model_module": "@jupyter-widgets/base",
            "top": null,
            "grid_column": null,
            "overflow_y": null,
            "overflow_x": null,
            "grid_auto_flow": null,
            "grid_area": null,
            "grid_template_columns": null,
            "flex": null,
            "_model_name": "LayoutModel",
            "justify_items": null,
            "grid_row": null,
            "max_height": null,
            "align_content": null,
            "visibility": null,
            "align_self": null,
            "height": null,
            "min_height": null,
            "padding": null,
            "grid_auto_rows": null,
            "grid_gap": null,
            "max_width": null,
            "order": null,
            "_view_module_version": "1.2.0",
            "grid_template_areas": null,
            "object_position": null,
            "object_fit": null,
            "grid_auto_columns": null,
            "margin": null,
            "display": null,
            "left": null
          }
        },
        "fa7b0cb7e4624b8c9e109f8648f4fcd0": {
          "model_module": "@jupyter-widgets/controls",
          "model_name": "DescriptionStyleModel",
          "state": {
            "_view_name": "StyleView",
            "_model_name": "DescriptionStyleModel",
            "description_width": "",
            "_view_module": "@jupyter-widgets/base",
            "_model_module_version": "1.5.0",
            "_view_count": null,
            "_view_module_version": "1.2.0",
            "_model_module": "@jupyter-widgets/controls"
          }
        },
        "254b8bae7f0b4a3d97ff6d627920e2a3": {
          "model_module": "@jupyter-widgets/base",
          "model_name": "LayoutModel",
          "state": {
            "_view_name": "LayoutView",
            "grid_template_rows": null,
            "right": null,
            "justify_content": null,
            "_view_module": "@jupyter-widgets/base",
            "overflow": null,
            "_model_module_version": "1.2.0",
            "_view_count": null,
            "flex_flow": null,
            "width": null,
            "min_width": null,
            "border": null,
            "align_items": null,
            "bottom": null,
            "_model_module": "@jupyter-widgets/base",
            "top": null,
            "grid_column": null,
            "overflow_y": null,
            "overflow_x": null,
            "grid_auto_flow": null,
            "grid_area": null,
            "grid_template_columns": null,
            "flex": null,
            "_model_name": "LayoutModel",
            "justify_items": null,
            "grid_row": null,
            "max_height": null,
            "align_content": null,
            "visibility": null,
            "align_self": null,
            "height": null,
            "min_height": null,
            "padding": null,
            "grid_auto_rows": null,
            "grid_gap": null,
            "max_width": null,
            "order": null,
            "_view_module_version": "1.2.0",
            "grid_template_areas": null,
            "object_position": null,
            "object_fit": null,
            "grid_auto_columns": null,
            "margin": null,
            "display": null,
            "left": null
          }
        },
        "188967391a0c47ad8473016a3f1ed19f": {
          "model_module": "@jupyter-widgets/controls",
          "model_name": "HBoxModel",
          "state": {
            "_view_name": "HBoxView",
            "_dom_classes": [],
            "_model_name": "HBoxModel",
            "_view_module": "@jupyter-widgets/controls",
            "_model_module_version": "1.5.0",
            "_view_count": null,
            "_view_module_version": "1.5.0",
            "box_style": "",
            "layout": "IPY_MODEL_87ad07e5518143968c58e4912dea8ea0",
            "_model_module": "@jupyter-widgets/controls",
            "children": [
              "IPY_MODEL_5451a587d67546a196025f5e186a51a6",
              "IPY_MODEL_58466708bab2493491aa476d699e9709"
            ]
          }
        },
        "87ad07e5518143968c58e4912dea8ea0": {
          "model_module": "@jupyter-widgets/base",
          "model_name": "LayoutModel",
          "state": {
            "_view_name": "LayoutView",
            "grid_template_rows": null,
            "right": null,
            "justify_content": null,
            "_view_module": "@jupyter-widgets/base",
            "overflow": null,
            "_model_module_version": "1.2.0",
            "_view_count": null,
            "flex_flow": null,
            "width": null,
            "min_width": null,
            "border": null,
            "align_items": null,
            "bottom": null,
            "_model_module": "@jupyter-widgets/base",
            "top": null,
            "grid_column": null,
            "overflow_y": null,
            "overflow_x": null,
            "grid_auto_flow": null,
            "grid_area": null,
            "grid_template_columns": null,
            "flex": null,
            "_model_name": "LayoutModel",
            "justify_items": null,
            "grid_row": null,
            "max_height": null,
            "align_content": null,
            "visibility": null,
            "align_self": null,
            "height": null,
            "min_height": null,
            "padding": null,
            "grid_auto_rows": null,
            "grid_gap": null,
            "max_width": null,
            "order": null,
            "_view_module_version": "1.2.0",
            "grid_template_areas": null,
            "object_position": null,
            "object_fit": null,
            "grid_auto_columns": null,
            "margin": null,
            "display": null,
            "left": null
          }
        },
        "5451a587d67546a196025f5e186a51a6": {
          "model_module": "@jupyter-widgets/controls",
          "model_name": "FloatProgressModel",
          "state": {
            "_view_name": "ProgressView",
            "style": "IPY_MODEL_2919521030134de0b333098122d742f0",
            "_dom_classes": [],
            "description": "100%",
            "_model_name": "FloatProgressModel",
            "bar_style": "",
            "max": 3,
            "_view_module": "@jupyter-widgets/controls",
            "_model_module_version": "1.5.0",
            "value": 3,
            "_view_count": null,
            "_view_module_version": "1.5.0",
            "orientation": "horizontal",
            "min": 0,
            "description_tooltip": null,
            "_model_module": "@jupyter-widgets/controls",
            "layout": "IPY_MODEL_e36832e230d94664bd09a3714eb4aa2e"
          }
        },
        "58466708bab2493491aa476d699e9709": {
          "model_module": "@jupyter-widgets/controls",
          "model_name": "HTMLModel",
          "state": {
            "_view_name": "HTMLView",
            "style": "IPY_MODEL_bc8d4aeeb93d4abaad0346fab688df4b",
            "_dom_classes": [],
            "description": "",
            "_model_name": "HTMLModel",
            "placeholder": "​",
            "_view_module": "@jupyter-widgets/controls",
            "_model_module_version": "1.5.0",
            "value": " 3/3 [18:34&lt;00:00, 383.80s/it]",
            "_view_count": null,
            "_view_module_version": "1.5.0",
            "description_tooltip": null,
            "_model_module": "@jupyter-widgets/controls",
            "layout": "IPY_MODEL_c1a64efe62f94de7826ada9e794055cd"
          }
        },
        "2919521030134de0b333098122d742f0": {
          "model_module": "@jupyter-widgets/controls",
          "model_name": "ProgressStyleModel",
          "state": {
            "_view_name": "StyleView",
            "_model_name": "ProgressStyleModel",
            "description_width": "initial",
            "_view_module": "@jupyter-widgets/base",
            "_model_module_version": "1.5.0",
            "_view_count": null,
            "_view_module_version": "1.2.0",
            "bar_color": null,
            "_model_module": "@jupyter-widgets/controls"
          }
        },
        "e36832e230d94664bd09a3714eb4aa2e": {
          "model_module": "@jupyter-widgets/base",
          "model_name": "LayoutModel",
          "state": {
            "_view_name": "LayoutView",
            "grid_template_rows": null,
            "right": null,
            "justify_content": null,
            "_view_module": "@jupyter-widgets/base",
            "overflow": null,
            "_model_module_version": "1.2.0",
            "_view_count": null,
            "flex_flow": null,
            "width": null,
            "min_width": null,
            "border": null,
            "align_items": null,
            "bottom": null,
            "_model_module": "@jupyter-widgets/base",
            "top": null,
            "grid_column": null,
            "overflow_y": null,
            "overflow_x": null,
            "grid_auto_flow": null,
            "grid_area": null,
            "grid_template_columns": null,
            "flex": null,
            "_model_name": "LayoutModel",
            "justify_items": null,
            "grid_row": null,
            "max_height": null,
            "align_content": null,
            "visibility": null,
            "align_self": null,
            "height": null,
            "min_height": null,
            "padding": null,
            "grid_auto_rows": null,
            "grid_gap": null,
            "max_width": null,
            "order": null,
            "_view_module_version": "1.2.0",
            "grid_template_areas": null,
            "object_position": null,
            "object_fit": null,
            "grid_auto_columns": null,
            "margin": null,
            "display": null,
            "left": null
          }
        },
        "bc8d4aeeb93d4abaad0346fab688df4b": {
          "model_module": "@jupyter-widgets/controls",
          "model_name": "DescriptionStyleModel",
          "state": {
            "_view_name": "StyleView",
            "_model_name": "DescriptionStyleModel",
            "description_width": "",
            "_view_module": "@jupyter-widgets/base",
            "_model_module_version": "1.5.0",
            "_view_count": null,
            "_view_module_version": "1.2.0",
            "_model_module": "@jupyter-widgets/controls"
          }
        },
        "c1a64efe62f94de7826ada9e794055cd": {
          "model_module": "@jupyter-widgets/base",
          "model_name": "LayoutModel",
          "state": {
            "_view_name": "LayoutView",
            "grid_template_rows": null,
            "right": null,
            "justify_content": null,
            "_view_module": "@jupyter-widgets/base",
            "overflow": null,
            "_model_module_version": "1.2.0",
            "_view_count": null,
            "flex_flow": null,
            "width": null,
            "min_width": null,
            "border": null,
            "align_items": null,
            "bottom": null,
            "_model_module": "@jupyter-widgets/base",
            "top": null,
            "grid_column": null,
            "overflow_y": null,
            "overflow_x": null,
            "grid_auto_flow": null,
            "grid_area": null,
            "grid_template_columns": null,
            "flex": null,
            "_model_name": "LayoutModel",
            "justify_items": null,
            "grid_row": null,
            "max_height": null,
            "align_content": null,
            "visibility": null,
            "align_self": null,
            "height": null,
            "min_height": null,
            "padding": null,
            "grid_auto_rows": null,
            "grid_gap": null,
            "max_width": null,
            "order": null,
            "_view_module_version": "1.2.0",
            "grid_template_areas": null,
            "object_position": null,
            "object_fit": null,
            "grid_auto_columns": null,
            "margin": null,
            "display": null,
            "left": null
          }
        }
      }
    }
  },
  "cells": [
    {
      "cell_type": "markdown",
      "metadata": {
        "id": "s1LaB_L-u5ma"
      },
      "source": [
        "# **Setup**"
      ]
    },
    {
      "cell_type": "code",
      "metadata": {
        "_uuid": "8f2839f25d086af736a60e9eeb907d3b93b6e0e5",
        "_cell_guid": "b1076dfc-b9ad-4769-8c92-a6c4dae69d19",
        "execution": {
          "iopub.status.busy": "2021-05-26T01:20:01.807627Z",
          "iopub.execute_input": "2021-05-26T01:20:01.808168Z",
          "iopub.status.idle": "2021-05-26T01:20:01.829527Z",
          "shell.execute_reply.started": "2021-05-26T01:20:01.808050Z",
          "shell.execute_reply": "2021-05-26T01:20:01.827617Z"
        },
        "trusted": true,
        "colab": {
          "base_uri": "https://localhost:8080/"
        },
        "id": "ow1i0wOTEdbv",
        "outputId": "cf191a02-475d-4306-81e6-9837a80f963e"
      },
      "source": [
        "from google.colab import drive\n",
        "drive.mount('/content/drive')"
      ],
      "execution_count": 1,
      "outputs": [
        {
          "output_type": "stream",
          "text": [
            "Mounted at /content/drive\n"
          ],
          "name": "stdout"
        }
      ]
    },
    {
      "cell_type": "code",
      "metadata": {
        "execution": {
          "iopub.status.busy": "2021-05-26T01:20:22.297191Z",
          "iopub.execute_input": "2021-05-26T01:20:22.297760Z",
          "iopub.status.idle": "2021-05-26T01:20:22.414923Z",
          "shell.execute_reply.started": "2021-05-26T01:20:22.297726Z",
          "shell.execute_reply": "2021-05-26T01:20:22.414173Z"
        },
        "trusted": true,
        "id": "2lzfrythEdbz"
      },
      "source": [
        "!cp \"/content/drive/MyDrive/AirQo_Low_Cost_Air_Quality_Monitor_Calibration/data/Train.csv\" .\n",
        "!cp \"/content/drive/MyDrive/AirQo_Low_Cost_Air_Quality_Monitor_Calibration/data/Test.csv\" ."
      ],
      "execution_count": 9,
      "outputs": []
    },
    {
      "cell_type": "code",
      "metadata": {
        "id": "DTPKRrp7Ep07"
      },
      "source": [
        "import os\n",
        "import sys\n",
        "import gc\n",
        "import math\n",
        "import random\n",
        "import pickle\n",
        "import pandas as pd\n",
        "import numpy as np\n",
        "import joblib\n",
        "\n",
        "from tqdm.notebook import tqdm\n",
        "from tqdm import tqdm_notebook\n",
        "\n",
        "\n",
        "import warnings\n",
        "warnings.simplefilter('ignore')\n",
        "\n",
        "from sklearn.model_selection import KFold, StratifiedKFold, train_test_split\n",
        "from sklearn.metrics import mean_squared_error "
      ],
      "execution_count": 10,
      "outputs": []
    },
    {
      "cell_type": "code",
      "metadata": {
        "id": "mC8jZH1wEtQ6"
      },
      "source": [
        "train = pd.read_csv('Train.csv')\n",
        "test = pd.read_csv('Test.csv')"
      ],
      "execution_count": 11,
      "outputs": []
    },
    {
      "cell_type": "markdown",
      "metadata": {
        "id": "_HzYe4lcu8fx"
      },
      "source": [
        "# **Processing**"
      ]
    },
    {
      "cell_type": "code",
      "metadata": {
        "execution": {
          "iopub.status.busy": "2021-05-26T01:20:26.387907Z",
          "iopub.execute_input": "2021-05-26T01:20:26.388431Z",
          "iopub.status.idle": "2021-05-26T01:20:26.405659Z",
          "shell.execute_reply.started": "2021-05-26T01:20:26.388396Z",
          "shell.execute_reply": "2021-05-26T01:20:26.404874Z"
        },
        "trusted": true,
        "id": "0SXsJs8CEdbz"
      },
      "source": [
        "data=pd.concat([train,test])"
      ],
      "execution_count": 12,
      "outputs": []
    },
    {
      "cell_type": "code",
      "metadata": {
        "execution": {
          "iopub.status.busy": "2021-05-26T01:20:26.667842Z",
          "iopub.execute_input": "2021-05-26T01:20:26.668454Z",
          "iopub.status.idle": "2021-05-26T01:20:26.678030Z",
          "shell.execute_reply.started": "2021-05-26T01:20:26.668416Z",
          "shell.execute_reply": "2021-05-26T01:20:26.676732Z"
        },
        "trusted": true,
        "id": "1lTPwHAdEdb0"
      },
      "source": [
        "data=data[['ID','created_at','site','pm2_5','pm10','ref_pm2_5']]"
      ],
      "execution_count": 13,
      "outputs": []
    },
    {
      "cell_type": "code",
      "metadata": {
        "execution": {
          "iopub.status.busy": "2021-05-26T01:20:28.988469Z",
          "iopub.execute_input": "2021-05-26T01:20:28.988958Z",
          "iopub.status.idle": "2021-05-26T01:20:29.178937Z",
          "shell.execute_reply.started": "2021-05-26T01:20:28.988916Z",
          "shell.execute_reply": "2021-05-26T01:20:29.177673Z"
        },
        "trusted": true,
        "id": "bz3pfaDMEdb0"
      },
      "source": [
        "data['created_at']=pd.to_datetime(data['created_at'])\n",
        "data['year']=data['created_at'].dt.year\n",
        "data['month']=data['created_at'].dt.month\n",
        "data['day']=data['created_at'].dt.day\n",
        "data['hour']=data['created_at'].dt.hour"
      ],
      "execution_count": 14,
      "outputs": []
    },
    {
      "cell_type": "code",
      "metadata": {
        "execution": {
          "iopub.status.busy": "2021-05-26T01:20:29.247561Z",
          "iopub.execute_input": "2021-05-26T01:20:29.247985Z",
          "iopub.status.idle": "2021-05-26T01:20:30.435521Z",
          "shell.execute_reply.started": "2021-05-26T01:20:29.247950Z",
          "shell.execute_reply": "2021-05-26T01:20:30.434310Z"
        },
        "trusted": true,
        "id": "Cy3EDFhMEdb0"
      },
      "source": [
        "from sklearn.preprocessing import LabelEncoder\n",
        "\n",
        "LE_cols = ['site','created_at']\n",
        "for le_col in LE_cols :\n",
        "    LE = LabelEncoder()\n",
        "    data[le_col] = LE.fit_transform(data[le_col])\n",
        "cyclic_features=['month','day','hour']\n",
        "for col in cyclic_features:\n",
        "    max_val = data[col].max()\n",
        "\n",
        "    data[col + '_sin'] = np.sin(2 * np.pi * data[col] / max_val)\n",
        "    data[col + '_cos'] = np.cos(2 * np.pi * data[col] / max_val)"
      ],
      "execution_count": 15,
      "outputs": []
    },
    {
      "cell_type": "code",
      "metadata": {
        "execution": {
          "iopub.status.busy": "2021-05-26T01:20:33.088428Z",
          "iopub.execute_input": "2021-05-26T01:20:33.088905Z",
          "iopub.status.idle": "2021-05-26T01:20:33.283391Z",
          "shell.execute_reply.started": "2021-05-26T01:20:33.088847Z",
          "shell.execute_reply": "2021-05-26T01:20:33.282196Z"
        },
        "trusted": true,
        "id": "4pPG3dvzEdb1"
      },
      "source": [
        "data['days_count']=data['year'].apply(str)+data['month'].apply(str)+data['day'].apply(str)\n",
        "data.set_index(['site','days_count'],inplace=True)\n",
        "data['daily_target_mean']=data.groupby(['site','days_count']).ref_pm2_5.mean()\n",
        "data['daily_target_std']=data.groupby(['site','days_count']).ref_pm2_5.std()\n",
        "#data['daily_target_median']=data.groupby(['site','days_count']).ref_pm2_5.median()\n",
        "data.reset_index(inplace=True)"
      ],
      "execution_count": 16,
      "outputs": []
    },
    {
      "cell_type": "code",
      "metadata": {
        "execution": {
          "iopub.status.busy": "2021-05-26T01:20:36.626946Z",
          "iopub.execute_input": "2021-05-26T01:20:36.627302Z",
          "iopub.status.idle": "2021-05-26T01:20:36.638617Z",
          "shell.execute_reply.started": "2021-05-26T01:20:36.627271Z",
          "shell.execute_reply": "2021-05-26T01:20:36.637252Z"
        },
        "trusted": true,
        "id": "mUfOj2qFEdb1"
      },
      "source": [
        "data.drop(cyclic_features,axis=1,inplace=True)"
      ],
      "execution_count": 17,
      "outputs": []
    },
    {
      "cell_type": "code",
      "metadata": {
        "execution": {
          "iopub.status.busy": "2021-05-26T01:20:44.488593Z",
          "iopub.execute_input": "2021-05-26T01:20:44.488934Z",
          "iopub.status.idle": "2021-05-26T01:20:44.510079Z",
          "shell.execute_reply.started": "2021-05-26T01:20:44.488905Z",
          "shell.execute_reply": "2021-05-26T01:20:44.508943Z"
        },
        "trusted": true,
        "id": "7WDli4HSEdb1"
      },
      "source": [
        "odata=data.copy()\n",
        "odata['src']=[0]*train.shape[0]+[1]*test.shape[0]\n",
        "odata.sort_values(by=['created_at'],inplace=True)"
      ],
      "execution_count": 18,
      "outputs": []
    },
    {
      "cell_type": "code",
      "metadata": {
        "execution": {
          "iopub.status.busy": "2021-05-26T01:20:49.594970Z",
          "iopub.execute_input": "2021-05-26T01:20:49.595326Z",
          "iopub.status.idle": "2021-05-26T01:20:49.676013Z",
          "shell.execute_reply.started": "2021-05-26T01:20:49.595295Z",
          "shell.execute_reply": "2021-05-26T01:20:49.674531Z"
        },
        "trusted": true,
        "id": "lfFSPkg9Edb1"
      },
      "source": [
        "shifts= [1,2,3,4,-1,-2,-3,-4]\n",
        "cols=['ref_pm2_5']\n",
        "#normal shift\n",
        "for col in cols:  \n",
        "    for s in shifts:\n",
        "        odata[col+'_shift_'+str(s)]=odata.groupby('site')[col].shift(s)\n",
        "        if s<0:\n",
        "            odata[col+'_shift_'+str(s)]=odata.groupby('site')[col+'_shift_'+str(s)].bfill()\n",
        "        else:\n",
        "            odata[col+'_shift_'+str(s)]=odata.groupby('site')[col+'_shift_'+str(s)].ffill()\n",
        "            \n",
        "            #odata[col+'_diff_'+str(s)]=odata.groupby('site')[col+'_shift_'+str(s)].diff()--p\n",
        "            #odata[col+'_diff_'+str(s)]=odata.groupby('site')[col+'_diff_'+str(s)].ffill()--p\n",
        "            \n",
        "            \n",
        "            \n",
        "\n",
        "        #shift mean\n",
        "    for s in list(set(np.abs(shifts))):\n",
        "        odata[col+'_shift_'+str(s)+'_mean']=(odata[col+'_shift_'+str(s)]+odata[col+'_shift_'+str(-1*s)])/2\n",
        "        #odata[col+'_shift_'+str(s)+'_deriv']=(odata[col+'_shift_'+str(-1*s)]-odata[col+'_shift_'+str(s)])/(2*s)--p\n",
        "        odata[col+'_shift_'+str(s)+'_deriv_new']=(odata[col+'_shift_'+str(-1*s)]-odata[col+'_shift_'+str(s)])+odata['pm2_5']\n",
        "        #odata['pm_plus_shift'+str(s)]=odata[col+'_shift_'+str(s)]-odata['pm10']\n",
        "        \n",
        "        odata['rolling_avg'+str(s)] = odata.groupby('site')[col].shift(s).expanding().mean().fillna(method='ffill')\n",
        "        odata['rolling_avg'+str(-s)] = odata.groupby('site')[col].shift(-s).expanding().mean().fillna(method='bfill')\n"
      ],
      "execution_count": 19,
      "outputs": []
    },
    {
      "cell_type": "code",
      "metadata": {
        "execution": {
          "iopub.status.busy": "2021-05-26T01:20:52.756536Z",
          "iopub.execute_input": "2021-05-26T01:20:52.756966Z",
          "iopub.status.idle": "2021-05-26T01:20:52.790280Z",
          "shell.execute_reply.started": "2021-05-26T01:20:52.756930Z",
          "shell.execute_reply": "2021-05-26T01:20:52.789046Z"
        },
        "trusted": true,
        "id": "rql-lRsGEdb3"
      },
      "source": [
        "col='ref_pm2_5'\n",
        "#odata['2_1']=(odata[col+'_shift_'+str(-2)]-odata[col+'_shift_'+str(1)])/3(p)\n",
        "#odata['1_2']=(odata[col+'_shift_'+str(-1)]-odata[col+'_shift_'+str(2)])/3(p)\n",
        "\n",
        "#odata['3_1']=(odata[col+'_shift_'+str(-3)]-odata[col+'_shift_'+str(1)])/4(p)\n",
        "#odata['1_3']=(odata[col+'_shift_'+str(-1)]-odata[col+'_shift_'+str(3)])/4(p)\n",
        "\n",
        "#odata['3_2']=(odata[col+'_shift_'+str(-3)]-odata[col+'_shift_'+str(2)])/5\n",
        "#odata['2_3']=(odata[col+'_shift_'+str(-2)]-odata[col+'_shift_'+str(3)])/5\n",
        "#odata['-1-2']=(odata[col+'_shift_'+str(1)]-odata[col+'_shift_'+str(2)])\n",
        "#odata['2f1']=(odata[col+'_shift_'+str(-2)]-odata[col+'_shift_'+str(-1)])#(p)\n",
        "\n",
        "#no jumps\n",
        "odata['-1-2']=(odata[col+'_shift_'+str(1)]-odata[col+'_shift_'+str(2)])\n",
        "odata['-2-3']=(odata[col+'_shift_'+str(2)]-odata[col+'_shift_'+str(3)])\n",
        "odata['-3-4']=(odata[col+'_shift_'+str(3)]-odata[col+'_shift_'+str(4)])\n",
        "odata['-1-3']=(odata[col+'_shift_'+str(1)]-odata[col+'_shift_'+str(3)])/2\n",
        "odata['-1-4']=(odata[col+'_shift_'+str(1)]-odata[col+'_shift_'+str(4)])/3\n",
        "odata['-2-4']=(odata[col+'_shift_'+str(2)]-odata[col+'_shift_'+str(4)])/2\n",
        "\n",
        "odata['+1+2']=(odata[col+'_shift_'+str(-2)]-odata[col+'_shift_'+str(-1)])\n",
        "odata['+2+3']=(odata[col+'_shift_'+str(-3)]-odata[col+'_shift_'+str(-2)])\n",
        "odata['+3+4']=(odata[col+'_shift_'+str(-4)]-odata[col+'_shift_'+str(-3)])\n",
        "odata['+1+3']=(odata[col+'_shift_'+str(-3)]-odata[col+'_shift_'+str(-1)])/2\n",
        "odata['+1+4']=(odata[col+'_shift_'+str(-4)]-odata[col+'_shift_'+str(-1)])/3\n",
        "odata['+2+4']=(odata[col+'_shift_'+str(-4)]-odata[col+'_shift_'+str(-2)])/2"
      ],
      "execution_count": 20,
      "outputs": []
    },
    {
      "cell_type": "code",
      "metadata": {
        "execution": {
          "iopub.status.busy": "2021-05-26T01:21:01.867270Z",
          "iopub.execute_input": "2021-05-26T01:21:01.867718Z",
          "iopub.status.idle": "2021-05-26T01:21:01.876760Z",
          "shell.execute_reply.started": "2021-05-26T01:21:01.867679Z",
          "shell.execute_reply": "2021-05-26T01:21:01.875431Z"
        },
        "trusted": true,
        "id": "HS42NVSlEdb3"
      },
      "source": [
        "odata['prox']=data['ref_pm2_5']-data['pm2_5']"
      ],
      "execution_count": 21,
      "outputs": []
    },
    {
      "cell_type": "code",
      "metadata": {
        "execution": {
          "iopub.status.busy": "2021-05-26T01:21:04.577478Z",
          "iopub.execute_input": "2021-05-26T01:21:04.577930Z",
          "iopub.status.idle": "2021-05-26T01:21:04.648296Z",
          "shell.execute_reply.started": "2021-05-26T01:21:04.577894Z",
          "shell.execute_reply": "2021-05-26T01:21:04.647486Z"
        },
        "trusted": true,
        "id": "-y9aXSGDEdb4"
      },
      "source": [
        "cols=['site']\n",
        "shifts=[i for i in range(1,5)]\n",
        "for s in shifts:\n",
        "    odata['lagged_prox'+str(s)]=odata.groupby(cols).prox.shift(s)\n",
        "    odata['lagged_prox'+str(s)]=odata.groupby(cols)['lagged_prox'+str(s)].ffill()\n",
        "    odata['lagged_prox'+str(s)].fillna(odata.daily_target_mean-odata.pm2_5,inplace=True)\n",
        "    \n",
        "    odata['lagged_prox'+str(-s)]=odata.groupby(cols).prox.shift(-s)\n",
        "    odata['lagged_prox'+str(-s)]=odata.groupby(cols)['lagged_prox'+str(-s)].bfill()\n",
        "    odata['lagged_prox'+str(-s)].fillna(odata.daily_target_mean-odata.pm2_5,inplace=True)\n",
        "    #summing mean ref with lag prox\n",
        "    odata['from_previous_'+str(s)]=odata['daily_target_mean']+odata['lagged_prox'+str(s)]\n",
        "\n",
        "    #summing mean ref with lag prox f\n",
        "    odata['from_previous'+str(-s)]=odata['daily_target_mean']+odata['lagged_prox'+str(-s)]\n",
        "    \n",
        "    #summing with lag prox\n",
        "    odata['from_previous_pm'+str(s)]=odata['pm2_5']+odata['lagged_prox'+str(s)]\n",
        "\n",
        "    #summing with lag prox f\n",
        "    odata['from_previous_pm'+str(-s)]=odata['pm2_5']+odata['lagged_prox'+str(-s)]\n",
        "\n",
        "    odata['from_previous_mean'+str(s)]=(odata['from_previous_pm'+str(s)]+odata['from_previous_pm'+str(-s)])/2"
      ],
      "execution_count": 22,
      "outputs": []
    },
    {
      "cell_type": "code",
      "metadata": {
        "execution": {
          "iopub.status.busy": "2021-05-26T01:21:07.175065Z",
          "iopub.execute_input": "2021-05-26T01:21:07.175768Z",
          "iopub.status.idle": "2021-05-26T01:21:07.183386Z",
          "shell.execute_reply.started": "2021-05-26T01:21:07.175717Z",
          "shell.execute_reply": "2021-05-26T01:21:07.182587Z"
        },
        "trusted": true,
        "id": "qsBrVc_yEdb4"
      },
      "source": [
        "odata['prox10']=data['ref_pm2_5']-data['pm10']"
      ],
      "execution_count": 23,
      "outputs": []
    },
    {
      "cell_type": "code",
      "metadata": {
        "execution": {
          "iopub.status.busy": "2021-05-26T01:21:07.549269Z",
          "iopub.execute_input": "2021-05-26T01:21:07.549838Z",
          "iopub.status.idle": "2021-05-26T01:21:07.661643Z",
          "shell.execute_reply.started": "2021-05-26T01:21:07.549787Z",
          "shell.execute_reply": "2021-05-26T01:21:07.660867Z"
        },
        "trusted": true,
        "id": "aD1LUHaTEdb5"
      },
      "source": [
        "cols=['site']\n",
        "shifts=[1,2,3,4,5,6]\n",
        "for s in shifts:\n",
        "    odata['lagged_prox10'+str(s)]=odata.groupby(cols).prox10.shift(s)\n",
        "    odata['lagged_prox10'+str(s)]=odata.groupby(cols)['lagged_prox10'+str(s)].ffill()\n",
        "    odata['lagged_prox10'+str(s)].fillna(odata.daily_target_mean-odata.pm10,inplace=True)\n",
        "    \n",
        "    odata['lagged_prox10'+str(-s)]=odata.groupby(cols).prox10.shift(-s)\n",
        "    odata['lagged_prox10'+str(-s)]=odata.groupby(cols)['lagged_prox10'+str(-s)].bfill()\n",
        "    odata['lagged_prox10'+str(-s)].fillna(odata.daily_target_mean-odata.pm10,inplace=True)\n",
        "    #summing mean ref with lag prox\n",
        "    odata['10from_previous_'+str(s)]=odata['daily_target_mean']+odata['lagged_prox10'+str(s)]\n",
        "\n",
        "    #summing mean ref with lag prox f\n",
        "    odata['10from_previous'+str(-s)]=odata['daily_target_mean']+odata['lagged_prox10'+str(-s)]\n",
        "    \n",
        "    #summing with lag prox\n",
        "    odata['10from_previous_pm'+str(s)]=odata['pm10']+odata['lagged_prox10'+str(s)]\n",
        "\n",
        "    #summing with lag prox f\n",
        "    odata['10from_previous_pm'+str(-s)]=odata['pm10']+odata['lagged_prox10'+str(-s)]\n",
        "\n",
        "    odata['10from_previous_mean'+str(s)]=(odata['10from_previous_pm'+str(s)]+odata['10from_previous_pm'+str(-s)])/2"
      ],
      "execution_count": 24,
      "outputs": []
    },
    {
      "cell_type": "code",
      "metadata": {
        "execution": {
          "iopub.status.busy": "2021-05-26T01:21:11.175345Z",
          "iopub.execute_input": "2021-05-26T01:21:11.175913Z",
          "iopub.status.idle": "2021-05-26T01:21:11.201937Z",
          "shell.execute_reply.started": "2021-05-26T01:21:11.175863Z",
          "shell.execute_reply": "2021-05-26T01:21:11.200935Z"
        },
        "trusted": true,
        "id": "xHK2-3UoEdb5"
      },
      "source": [
        "#lagging pm2_5 grouped only by site(not used)\n",
        "shifts=[1,2,3]\n",
        "for s in shifts:\n",
        "    odata['sensor_always_shift'+str(s)]=odata.groupby('site').pm2_5.shift(s)\n",
        "    odata['sensor_always_shift'+str(s)].fillna(odata.pm2_5,inplace=True)\n",
        "    odata['sensor_always_shift'+str(-s)]=odata.groupby('site').pm2_5.shift(-s)\n",
        "    odata['sensor_always_shift'+str(-s)].fillna(odata.pm2_5,inplace=True)\n",
        "    odata['mean_sensor'+str(s)]=(odata['sensor_always_shift'+str(s)]+odata['sensor_always_shift'+str(-s)])/2"
      ],
      "execution_count": 25,
      "outputs": []
    },
    {
      "cell_type": "code",
      "metadata": {
        "execution": {
          "iopub.status.busy": "2021-05-26T01:21:15.447732Z",
          "iopub.execute_input": "2021-05-26T01:21:15.448114Z",
          "iopub.status.idle": "2021-05-26T01:21:15.594801Z",
          "shell.execute_reply.started": "2021-05-26T01:21:15.448079Z",
          "shell.execute_reply": "2021-05-26T01:21:15.593681Z"
        },
        "trusted": true,
        "id": "xDlEzlVxEdb5"
      },
      "source": [
        "merge_cols=list(data.columns)\n",
        "data=pd.merge(data,odata,on=merge_cols,how=\"left\")"
      ],
      "execution_count": 26,
      "outputs": []
    },
    {
      "cell_type": "code",
      "metadata": {
        "execution": {
          "iopub.status.busy": "2021-05-26T01:21:17.867653Z",
          "iopub.execute_input": "2021-05-26T01:21:17.868044Z",
          "iopub.status.idle": "2021-05-26T01:21:17.898929Z",
          "shell.execute_reply.started": "2021-05-26T01:21:17.868007Z",
          "shell.execute_reply": "2021-05-26T01:21:17.897716Z"
        },
        "trusted": true,
        "id": "tKtu2fPrEdb5"
      },
      "source": [
        "data.drop('prox',axis=1,inplace=True)"
      ],
      "execution_count": 27,
      "outputs": []
    },
    {
      "cell_type": "code",
      "metadata": {
        "execution": {
          "iopub.status.busy": "2021-05-26T01:21:18.067809Z",
          "iopub.execute_input": "2021-05-26T01:21:18.068203Z",
          "iopub.status.idle": "2021-05-26T01:21:18.083962Z",
          "shell.execute_reply.started": "2021-05-26T01:21:18.068169Z",
          "shell.execute_reply": "2021-05-26T01:21:18.082760Z"
        },
        "trusted": true,
        "id": "VRkRtUmREdb6"
      },
      "source": [
        "data.drop('prox10',axis=1,inplace=True)"
      ],
      "execution_count": 28,
      "outputs": []
    },
    {
      "cell_type": "code",
      "metadata": {
        "execution": {
          "iopub.status.busy": "2021-05-26T01:21:20.727827Z",
          "iopub.execute_input": "2021-05-26T01:21:20.728268Z",
          "iopub.status.idle": "2021-05-26T01:21:20.743198Z",
          "shell.execute_reply.started": "2021-05-26T01:21:20.728233Z",
          "shell.execute_reply": "2021-05-26T01:21:20.742285Z"
        },
        "trusted": true,
        "id": "6Dfg4wfnEdb6"
      },
      "source": [
        "ntrain=data[:train.shape[0]].drop(['ID','src'],axis=1)\n",
        "ntest=data[train.shape[0]:].drop(['ID','src'],axis=1)"
      ],
      "execution_count": 32,
      "outputs": []
    },
    {
      "cell_type": "markdown",
      "metadata": {
        "id": "dlPfPBZz-xdo"
      },
      "source": [
        "# **Modeling By Site**"
      ]
    },
    {
      "cell_type": "code",
      "metadata": {
        "id": "8OMc4cus_mrp"
      },
      "source": [
        "from sklearn.model_selection import StratifiedKFold ,KFold\n",
        "import lightgbm as lgb\n",
        "import xgboost as xgb"
      ],
      "execution_count": 33,
      "outputs": []
    },
    {
      "cell_type": "code",
      "metadata": {
        "id": "Nm6oER0g_oB7"
      },
      "source": [
        "# Install Catboost\n",
        "!pip install catboost==0.22 --quiet\n",
        "import catboost as cat\n",
        "from catboost import CatBoostRegressor, Pool"
      ],
      "execution_count": 34,
      "outputs": []
    },
    {
      "cell_type": "code",
      "metadata": {
        "id": "myAzqIuvGfu8"
      },
      "source": [
        "train=data[:train.shape[0]].drop(['src'],axis=1)\n",
        "test=data[train.shape[0]:].drop(['src'],axis=1)"
      ],
      "execution_count": 35,
      "outputs": []
    },
    {
      "cell_type": "code",
      "metadata": {
        "id": "zdWaKEjL-8bA"
      },
      "source": [
        "target = train['ref_pm2_5']"
      ],
      "execution_count": 36,
      "outputs": []
    },
    {
      "cell_type": "markdown",
      "metadata": {
        "id": "rTVxJG2C1mkY"
      },
      "source": [
        "## 0. Utils"
      ]
    },
    {
      "cell_type": "code",
      "metadata": {
        "id": "56KM5zAP1wk3"
      },
      "source": [
        "def Train_5Fold_lgbm(X,y,Test,site,kfold,params_lgb) :\n",
        "  final_preds_per_location = []\n",
        "  err_cb=[]\n",
        "  site_oof_preds = np.zeros(len(X))\n",
        "  for fold,(train_index, test_index) in enumerate(kfold.split(X,y)):\n",
        "      X_train, X_test = X.values[train_index], X.values[test_index]\n",
        "      y_train, y_test = y.values[train_index], y.values[test_index]\n",
        "      \n",
        "      trn_data = lgb.Dataset(X_train, y_train)\n",
        "      val_data = lgb.Dataset(X_test, y_test)\n",
        "\n",
        "      model = lgb.train(params_lgb, trn_data, valid_sets = [trn_data, val_data], verbose_eval=0, early_stopping_rounds = 200)\n",
        "\n",
        "      preds=model.predict(X_test, num_iteration=model.best_iteration)\n",
        "      site_oof_preds[test_index] = preds\n",
        "      err_cb.append(np.sqrt(mean_squared_error(y_test,preds)))\n",
        "      \n",
        "      test_pred = model.predict(Test.values, num_iteration=model.best_iteration)\n",
        "      final_preds_per_location.append(test_pred)\n",
        "  \n",
        "  print(f\"Site {site} --  Training RMSE :\" ,np.mean(err_cb))\n",
        "  return np.mean(final_preds_per_location,axis=0) , site_oof_preds\n",
        "\n",
        "# ------------------------------------------------------------------------------------------------------------------------------\n",
        "\n",
        "def Custom_train_Lgbm() :\n",
        "  '''SEED The envierment'''\n",
        "  seed = 0\n",
        "  random.seed(seed)\n",
        "  np.random.seed(seed)\n",
        "  kfold=KFold(n_splits=5, random_state=1901,shuffle=True)\n",
        "  \n",
        "  final_preds=[]\n",
        "  final_ids = []\n",
        "  train_ids = []\n",
        "  oof_prediction = []\n",
        "  for site in tqdm_notebook([0,1,2], leave=False):\n",
        "    print(60*'-')\n",
        "    if site ==1 :\n",
        "      params_lgb = {'objective' :'regression','boosting_type' : 'gbdt','metric': 'rmse' ,\n",
        "                    'learning_rate' : 0.1,'num_iterations': 1500,'max_depth' :7 ,'num_leaves' : 75,\n",
        "                    'max_bins': 85,'feature_fraction': 0.8,'bagging_fraction': 0.9,'min_data_in_leaf':30,'reg_lambda' :75}\n",
        "    else : \n",
        "      params_lgb = {'objective' :'regression','boosting_type' : 'gbdt','metric': 'rmse' ,\n",
        "                    'learning_rate' : 0.1,'num_iterations': 2500,'max_depth' :9 ,'num_leaves' : 81,\n",
        "                    'feature_fraction': 0.7,'bagging_fraction': 0.9,'min_data_in_leaf':5,'reg_lambda' :50}\n",
        "    X = train[train['site']==site]  ; train_ids.extend(X['ID'].values)   ; y = X['ref_pm2_5']; X = X[features]\n",
        "    Test = test[test['site']==site] ; final_ids.extend(Test['ID'].values); Test = Test[features]\n",
        "    \n",
        "    preds_per_location, site_oof_preds = Train_5Fold_lgbm(X=X,y=y,Test=Test,site=site,kfold=kfold,params_lgb=params_lgb)\n",
        "    oof_prediction.extend(site_oof_preds) ; final_preds.extend(preds_per_location)\n",
        "  \n",
        "  oof_data = pd.DataFrame() ; oof_data['ID'] = train_ids ; oof_data['OOF'] = np.clip(oof_prediction,a_min=0,a_max=500) \n",
        "  preds_data = pd.DataFrame() ; preds_data['ID'] = final_ids ; preds_data['ref_pm2_5'] = np.clip(final_preds,a_min=0,a_max=500) \n",
        "  print()\n",
        "  print(60*'#')\n",
        "  return oof_data,preds_data"
      ],
      "execution_count": 37,
      "outputs": []
    },
    {
      "cell_type": "code",
      "metadata": {
        "id": "On-Us9yw2f3W"
      },
      "source": [
        "def Train_5Fold_xgb(X,y,Test,site,kfold,params_xgb) :\n",
        "  final_preds_per_location = []\n",
        "  err_cb=[]\n",
        "  site_oof_preds = np.zeros(len(X))\n",
        "  for fold,(train_index, test_index) in enumerate(kfold.split(X,y)):\n",
        "      X_train, X_test = X.values[train_index], X.values[test_index]\n",
        "      y_train, y_test = y.values[train_index], y.values[test_index]\n",
        "      \n",
        "      trn_data = xgb.DMatrix(X_train, y_train)\n",
        "      val_data = xgb.DMatrix(X_test, y_test)\n",
        "      watchlist = [(trn_data, 'train'), (val_data, 'valid')]\n",
        "\n",
        "      model = xgb.train(params_xgb, trn_data,10000, evals = watchlist, verbose_eval=0, early_stopping_rounds = 200)\n",
        "\n",
        "      dX_test = xgb.DMatrix(X_test)\n",
        "      preds = model.predict(dX_test)\n",
        "      site_oof_preds[test_index] = preds\n",
        "      err_cb.append(np.sqrt(mean_squared_error(y_test,preds)))\n",
        "      \n",
        "      dTest = xgb.DMatrix(Test.values)\n",
        "      test_pred = model.predict(dTest)\n",
        "      final_preds_per_location.append(test_pred)\n",
        "  \n",
        "  print(f\"Site {site} --  Training RMSE :\" ,np.mean(err_cb))\n",
        "  return np.mean(final_preds_per_location,axis=0) , site_oof_preds\n",
        "\n",
        "# ------------------------------------------------------------------------------------------------------------------------------\n",
        "\n",
        "def Custom_train_xgb() :\n",
        "  '''SEED The envierment'''\n",
        "  seed = 0\n",
        "  random.seed(seed)\n",
        "  np.random.seed(seed)\n",
        "  kfold=KFold(n_splits=5, random_state=1901,shuffle=True)\n",
        "  \n",
        "  final_preds=[]\n",
        "  final_ids = []\n",
        "  train_ids = []\n",
        "  oof_prediction = []\n",
        "  for site in tqdm_notebook([0,1,2], leave=False):\n",
        "    print(60*'-')\n",
        "    if site == 1 :\n",
        "      params_xgb = {'gpu_id': 0,'objective': 'reg:squarederror','eval_metric': 'rmse','booster': 'gbtree', \n",
        "          'n_estimators': 10000,  'max_depth': 7, 'learning_rate': 0.1, 'max_bin': 100,\n",
        "          'max_leaves': 80,'reg_alpha': 10, 'reg_lambda': 100,'subsample': 0.9 ,'colsample_bytree' : 0.4,\n",
        "          'silent' : False,}\n",
        "    else :\n",
        "      params_xgb = {'objective': 'reg:squarederror','eval_metric': 'rmse','booster': 'gbtree', \n",
        "          'n_estimators': 10000,  'max_depth': 6, 'learning_rate': 0.08, 'max_bin': 100,\n",
        "          'max_leaves': 64,'reg_alpha': 5, 'reg_lambda': 15,'subsample': 0.7 ,'colsample_bytree' : 0.7,\n",
        "          'silent' : False,}\n",
        "    X = train[train['site']==site]  ; train_ids.extend(X['ID'].values)   ; y = X['ref_pm2_5']; X = X[features]\n",
        "    Test = test[test['site']==site] ; final_ids.extend(Test['ID'].values); Test = Test[features]\n",
        "    \n",
        "    preds_per_location, site_oof_preds = Train_5Fold_xgb(X=X,y=y,Test=Test,site=site,kfold=kfold,params_xgb=params_xgb)\n",
        "    oof_prediction.extend(site_oof_preds) ; final_preds.extend(preds_per_location)\n",
        "  \n",
        "  oof_data = pd.DataFrame() ; oof_data['ID'] = train_ids ; oof_data['OOF'] = np.clip(oof_prediction,a_min=0,a_max=500) \n",
        "  preds_data = pd.DataFrame() ; preds_data['ID'] = final_ids ; preds_data['ref_pm2_5'] = np.clip(final_preds,a_min=0,a_max=500)\n",
        "   \n",
        "  print()\n",
        "  print(60*'#')\n",
        "  return oof_data,preds_data"
      ],
      "execution_count": 38,
      "outputs": []
    },
    {
      "cell_type": "code",
      "metadata": {
        "id": "_SuJbksk3VL4"
      },
      "source": [
        "def Train_5Fold_catboost_2(X,y,Test,site,kfold) :\n",
        "  final_preds_per_location = []\n",
        "  err_cb=[]\n",
        "  site_oof_preds = np.zeros(len(X))\n",
        "  for fold,(train_index, test_index) in enumerate(kfold.split(X,y)):\n",
        "      X_train, X_test = X.values[train_index], X.values[test_index]\n",
        "      y_train, y_test = y.values[train_index], y.values[test_index]\n",
        "\n",
        "      model = CatBoostRegressor(**cat_params) \n",
        "      model.fit(X_train,y_train,eval_set=[(X_test, y_test)],early_stopping_rounds=20,verbose=0)\n",
        "      preds=model.predict(X_test)\n",
        "      site_oof_preds[test_index] = preds\n",
        "      err_cb.append(np.sqrt(mean_squared_error(y_test,preds)))\n",
        "      \n",
        "      test_pred = model.predict(Test.values)\n",
        "      final_preds_per_location.append(test_pred)\n",
        "  \n",
        "  print(f\"Site {site} --  Training RMSE :\" ,np.mean(err_cb))\n",
        "  return np.mean(final_preds_per_location,axis=0) , site_oof_preds\n",
        "\n",
        "# ------------------------------------------------------------------------------------------------------------------------------ \n",
        "\n",
        "def Custom_train_catboost_2(features) :\n",
        "  kfold=KFold(n_splits=5, random_state=1901,shuffle=True)\n",
        "  \n",
        "  final_preds=[]\n",
        "  final_ids = []\n",
        "  train_ids = []\n",
        "  oof_prediction = []\n",
        "  for site in tqdm_notebook([0,1,2], leave=False):\n",
        "    print(60*'-')\n",
        "    X = train[train['site']==site]  ; train_ids.extend(X['ID'].values)   ; y = X['ref_pm2_5']; X = X[features]\n",
        "    Test = test[test['site']==site] ; final_ids.extend(Test['ID'].values); Test = Test[features]\n",
        "    \n",
        "    preds_per_location, site_oof_preds = Train_5Fold_catboost_2(X=X,y=y,Test=Test,site=site,kfold=kfold)\n",
        "    oof_prediction.extend(site_oof_preds) ; final_preds.extend(preds_per_location)\n",
        "  \n",
        "  oof_data = pd.DataFrame() ; oof_data['ID'] = train_ids ; oof_data['OOF'] = np.clip(oof_prediction,a_min=0,a_max=500) \n",
        "  preds_data = pd.DataFrame() ; preds_data['ID'] = final_ids ; preds_data['ref_pm2_5'] = np.clip(final_preds,a_min=0,a_max=500)\n",
        "  \n",
        "  print()\n",
        "  print(60*'#')\n",
        "  return oof_data,preds_data"
      ],
      "execution_count": 39,
      "outputs": []
    },
    {
      "cell_type": "code",
      "metadata": {
        "id": "3_XbfzMRBSU2"
      },
      "source": [
        "def Train_5Fold_Stacking(X,y,Test,kfold) :\n",
        "  final_preds = [] ; err_cb = []\n",
        "  oof_stack = np.zeros(len(X)) ;\n",
        "  for fold,(train_index, test_index) in enumerate(kfold.split(X,y)):\n",
        "      X_train, X_test = X.values[train_index], X.values[test_index]\n",
        "      y_train, y_test = y.values[train_index], y.values[test_index]\n",
        "\n",
        "      model = Ridge(alpha=0.01,random_state=42)\n",
        "      model.fit(X_train,y_train)\n",
        "      preds=model.predict(X_test)\n",
        "      preds = np.clip(preds,a_min=0,a_max=500)\n",
        "      oof_stack[test_index] = preds\n",
        "      err_cb.append(mean_squared_error(y_test,preds,squared=False))\n",
        "      \n",
        "      test_pred = model.predict(Test.values)\n",
        "      final_preds.append(test_pred)\n",
        "  \n",
        "  print(2*'--------------------------------------')\n",
        "  print(f\"Stacking RMSE :\" ,np.mean(err_cb))\n",
        "  return oof_stack,np.mean(final_preds,axis=0)"
      ],
      "execution_count": 40,
      "outputs": []
    },
    {
      "cell_type": "markdown",
      "metadata": {
        "id": "_AYheVfiMSlK"
      },
      "source": [
        "## 1. LGBM"
      ]
    },
    {
      "cell_type": "code",
      "metadata": {
        "id": "m5B8aBVIKeBH"
      },
      "source": [
        "features = [x for x in train.columns \n",
        "            if x not in ['ID','ref_pm2_5','created_at',]]"
      ],
      "execution_count": 41,
      "outputs": []
    },
    {
      "cell_type": "code",
      "metadata": {
        "colab": {
          "base_uri": "https://localhost:8080/",
          "height": 153,
          "referenced_widgets": [
            "64271ae3a63343709ad86d4047329447",
            "d99b78be4a1346f2939c98eb2c3ef8c3",
            "b6ee53d7947c4f949cb4c1d87fa7a9d8",
            "faa0bb97359b4aeaa948b01a2ae67a0a",
            "2329978bd2b44a038a69e0268f0d2b4e",
            "5213a907e75448f98715cccdca383065",
            "aa3d3bd696d645fdb605da0e1759702b",
            "e5ef0369567240a9b2c1959ef2409675"
          ]
        },
        "id": "0eCNO5ZO55lo",
        "outputId": "b2a101f0-4a6f-4bd0-fe8c-7ce19100d984"
      },
      "source": [
        "oof_data_lgb,final_preds_lgb = Custom_train_Lgbm() "
      ],
      "execution_count": 42,
      "outputs": [
        {
          "output_type": "display_data",
          "data": {
            "application/vnd.jupyter.widget-view+json": {
              "model_id": "64271ae3a63343709ad86d4047329447",
              "version_minor": 0,
              "version_major": 2
            },
            "text/plain": [
              "HBox(children=(FloatProgress(value=0.0, max=3.0), HTML(value='')))"
            ]
          },
          "metadata": {
            "tags": []
          }
        },
        {
          "output_type": "stream",
          "text": [
            "------------------------------------------------------------\n",
            "Site 0 --  Training RMSE : 8.220216918335204\n",
            "------------------------------------------------------------\n",
            "Site 1 --  Training RMSE : 20.541915725445907\n",
            "------------------------------------------------------------\n",
            "Site 2 --  Training RMSE : 9.373808085991936\n",
            "\n",
            "############################################################\n"
          ],
          "name": "stdout"
        }
      ]
    },
    {
      "cell_type": "code",
      "metadata": {
        "colab": {
          "base_uri": "https://localhost:8080/"
        },
        "id": "LTX5KJqQ6Xy3",
        "outputId": "e588032b-8378-414f-a9d1-cd303eaa01f4"
      },
      "source": [
        "train_oof_data = pd.merge(train[['ID','ref_pm2_5']], oof_data_lgb,on='ID',how='left')\n",
        "print('OOF RMSE : ',np.sqrt(mean_squared_error(train_oof_data['ref_pm2_5'],train_oof_data['OOF'])))"
      ],
      "execution_count": 43,
      "outputs": [
        {
          "output_type": "stream",
          "text": [
            "OOF RMSE :  11.886558086359585\n"
          ],
          "name": "stdout"
        }
      ]
    },
    {
      "cell_type": "markdown",
      "metadata": {
        "id": "s3VGOg3AK1lY"
      },
      "source": [
        "## 2. xgb"
      ]
    },
    {
      "cell_type": "code",
      "metadata": {
        "id": "8hOeIdZDK1lZ"
      },
      "source": [
        "features = [x for x in train.columns \n",
        "            if x not in ['ID', 'created_at','ref_pm2_5']]"
      ],
      "execution_count": 44,
      "outputs": []
    },
    {
      "cell_type": "code",
      "metadata": {
        "colab": {
          "base_uri": "https://localhost:8080/",
          "height": 153,
          "referenced_widgets": [
            "3ebc956223b8462eaa85b4236fd796ab",
            "bb77b192bf5342e18845505d4ae1ccc4",
            "8dfe34616e084d6d9319532c035ff4b0",
            "23998334847e407f944ba8104de0668a",
            "ee5d35a29a154be4b4140ebcb81e1bb9",
            "48cba7006802476f8a99ab68d0917bf9",
            "fa7b0cb7e4624b8c9e109f8648f4fcd0",
            "254b8bae7f0b4a3d97ff6d627920e2a3"
          ]
        },
        "id": "1eDoZ41EK1la",
        "outputId": "1e5d4ef3-4d9d-4814-a7ea-2c23360fea36"
      },
      "source": [
        "oof_data_xgb,final_preds_xgb = Custom_train_xgb()  # 20.56"
      ],
      "execution_count": 45,
      "outputs": [
        {
          "output_type": "display_data",
          "data": {
            "application/vnd.jupyter.widget-view+json": {
              "model_id": "3ebc956223b8462eaa85b4236fd796ab",
              "version_minor": 0,
              "version_major": 2
            },
            "text/plain": [
              "HBox(children=(FloatProgress(value=0.0, max=3.0), HTML(value='')))"
            ]
          },
          "metadata": {
            "tags": []
          }
        },
        {
          "output_type": "stream",
          "text": [
            "------------------------------------------------------------\n",
            "Site 0 --  Training RMSE : 8.314691898541728\n",
            "------------------------------------------------------------\n",
            "Site 1 --  Training RMSE : 20.566470849764762\n",
            "------------------------------------------------------------\n",
            "Site 2 --  Training RMSE : 9.452009633332592\n",
            "\n",
            "############################################################\n"
          ],
          "name": "stdout"
        }
      ]
    },
    {
      "cell_type": "code",
      "metadata": {
        "colab": {
          "base_uri": "https://localhost:8080/"
        },
        "id": "y7ssCiP_K1la",
        "outputId": "a4afd5df-98c8-4f4f-d7ca-1282c0f6d020"
      },
      "source": [
        "train_oof_data = pd.merge(train[['ID','ref_pm2_5']], oof_data_xgb,on='ID',how='left')\n",
        "print('OOF RMSE : ',np.sqrt(mean_squared_error(train_oof_data['ref_pm2_5'],train_oof_data['OOF'])))"
      ],
      "execution_count": 46,
      "outputs": [
        {
          "output_type": "stream",
          "text": [
            "OOF RMSE :  11.926565662452614\n"
          ],
          "name": "stdout"
        }
      ]
    },
    {
      "cell_type": "markdown",
      "metadata": {
        "id": "EKyvmVGENYK0"
      },
      "source": [
        "## 3. CATBOOST_2"
      ]
    },
    {
      "cell_type": "code",
      "metadata": {
        "id": "U4oUlGJhNYK9"
      },
      "source": [
        "features = [x for x in train.columns \n",
        "            if x not in ['ID', 'created_at','ref_pm2_5',]]\n",
        "cat_params = {'n_estimators':5000,'eval_metric':'RMSE','learning_rate':0.05, 'random_seed': 0,\n",
        "                                    'use_best_model':True,'depth':10}"
      ],
      "execution_count": 47,
      "outputs": []
    },
    {
      "cell_type": "code",
      "metadata": {
        "colab": {
          "base_uri": "https://localhost:8080/",
          "height": 153,
          "referenced_widgets": [
            "188967391a0c47ad8473016a3f1ed19f",
            "87ad07e5518143968c58e4912dea8ea0",
            "5451a587d67546a196025f5e186a51a6",
            "58466708bab2493491aa476d699e9709",
            "2919521030134de0b333098122d742f0",
            "e36832e230d94664bd09a3714eb4aa2e",
            "bc8d4aeeb93d4abaad0346fab688df4b",
            "c1a64efe62f94de7826ada9e794055cd"
          ]
        },
        "id": "fGdE51NeNYK9",
        "outputId": "f12b2cbc-724c-444e-812f-017f07dcd2a6"
      },
      "source": [
        "oof_data_catboost_2,final_preds_catboost_2 = Custom_train_catboost_2(features=features) "
      ],
      "execution_count": 48,
      "outputs": [
        {
          "output_type": "display_data",
          "data": {
            "application/vnd.jupyter.widget-view+json": {
              "model_id": "188967391a0c47ad8473016a3f1ed19f",
              "version_minor": 0,
              "version_major": 2
            },
            "text/plain": [
              "HBox(children=(FloatProgress(value=0.0, max=3.0), HTML(value='')))"
            ]
          },
          "metadata": {
            "tags": []
          }
        },
        {
          "output_type": "stream",
          "text": [
            "------------------------------------------------------------\n",
            "Site 0 --  Training RMSE : 8.159656138710158\n",
            "------------------------------------------------------------\n",
            "Site 1 --  Training RMSE : 20.30412646838159\n",
            "------------------------------------------------------------\n",
            "Site 2 --  Training RMSE : 9.300702141360285\n",
            "\n",
            "############################################################\n"
          ],
          "name": "stdout"
        }
      ]
    },
    {
      "cell_type": "code",
      "metadata": {
        "colab": {
          "base_uri": "https://localhost:8080/"
        },
        "id": "kB0-RpSFNYK-",
        "outputId": "910e1025-d071-4242-8e2f-016ae0a6bd34"
      },
      "source": [
        "train_oof_data = pd.merge(train[['ID','ref_pm2_5']], oof_data_catboost_2,on='ID',how='left')\n",
        "print('OOF RMSE : ',np.sqrt(mean_squared_error(train_oof_data['ref_pm2_5'],train_oof_data['OOF'])))"
      ],
      "execution_count": 49,
      "outputs": [
        {
          "output_type": "stream",
          "text": [
            "OOF RMSE :  11.750516221958026\n"
          ],
          "name": "stdout"
        }
      ]
    },
    {
      "cell_type": "markdown",
      "metadata": {
        "id": "2zt-zzb8RInr"
      },
      "source": [
        "## 5. Stacking"
      ]
    },
    {
      "cell_type": "code",
      "metadata": {
        "id": "mv1CfkZ0SXA5"
      },
      "source": [
        "from sklearn.linear_model import Ridge ,LinearRegression"
      ],
      "execution_count": 50,
      "outputs": []
    },
    {
      "cell_type": "code",
      "metadata": {
        "id": "7x054OeNBKJG"
      },
      "source": [
        "stacking_train = oof_data_catboost_2.copy() ; del stacking_train['OOF'] ;\n",
        "stacking_train['Hela_App2_preds_cat_2'] =  oof_data_catboost_2['OOF'] ;\n",
        "stacking_train['Hela_App2_preds_xgb'] =  oof_data_xgb['OOF'] ;\n",
        "stacking_train['Hela_App2_preds_lgb'] =  oof_data_lgb['OOF']\n",
        "stacking_train = pd.merge(train[['ID','ref_pm2_5']], stacking_train,on='ID',how='left')\n",
        "stacking_train.rename({'ref_pm2_5': 'target'})\n",
        "\n",
        "stacking_test = final_preds_catboost_2.copy() ; del stacking_test['ref_pm2_5']\n",
        "stacking_test['Hela_App2_preds_cat_2'] =  final_preds_catboost_2['ref_pm2_5'] ; \n",
        "stacking_test['Hela_App2_preds_xgb'] =  final_preds_xgb['ref_pm2_5'] ;\n",
        "stacking_test['Hela_App2_preds_lgb'] =  final_preds_lgb['ref_pm2_5']"
      ],
      "execution_count": 51,
      "outputs": []
    },
    {
      "cell_type": "code",
      "metadata": {
        "id": "0Gfb7zAJS1xg",
        "colab": {
          "base_uri": "https://localhost:8080/"
        },
        "outputId": "156401de-f07e-45af-f479-ee585d04b3ad"
      },
      "source": [
        "cols = ['Hela_App2_preds_cat_2','Hela_App2_preds_xgb', 'Hela_App2_preds_lgb']\n",
        "\n",
        "X , y , Test = stacking_train[cols] , stacking_train['ref_pm2_5'] , stacking_test[cols]\n",
        "KFOLD = KFold(n_splits=5,random_state=1901,shuffle=True)\n",
        "\n",
        "oof_stack,stack_preds = Train_5Fold_Stacking(X=X,y=y,Test=Test,kfold=KFOLD)"
      ],
      "execution_count": 52,
      "outputs": [
        {
          "output_type": "stream",
          "text": [
            "----------------------------------------------------------------------------\n",
            "Stacking RMSE : 11.397878940156932\n"
          ],
          "name": "stdout"
        }
      ]
    },
    {
      "cell_type": "code",
      "metadata": {
        "colab": {
          "base_uri": "https://localhost:8080/"
        },
        "id": "f0kH8-4xykg5",
        "outputId": "320d24b2-45d5-46a0-cc94-60ed10cef63d"
      },
      "source": [
        "print('Stacking OOF',mean_squared_error(y,oof_stack,squared=False))"
      ],
      "execution_count": 55,
      "outputs": [
        {
          "output_type": "stream",
          "text": [
            "Stacking OOF 11.630116279544259\n"
          ],
          "name": "stdout"
        }
      ]
    },
    {
      "cell_type": "code",
      "metadata": {
        "id": "p-XW-jwEDITk"
      },
      "source": [
        "# save stacking data's \n",
        "stacking_train.to_csv('Hela_App2_stacking_train.csv',index=False)\n",
        "stacking_test.to_csv('Hela_App2_stacking_test.csv',index=False)"
      ],
      "execution_count": 54,
      "outputs": []
    }
  ]
}