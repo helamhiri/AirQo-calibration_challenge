{
  "nbformat": 4,
  "nbformat_minor": 0,
  "metadata": {
    "kernelspec": {
      "language": "python",
      "display_name": "Python 3",
      "name": "python3"
    },
    "language_info": {
      "name": "python",
      "version": "3.7.10",
      "mimetype": "text/x-python",
      "codemirror_mode": {
        "name": "ipython",
        "version": 3
      },
      "pygments_lexer": "ipython3",
      "nbconvert_exporter": "python",
      "file_extension": ".py"
    },
    "colab": {
      "name": "Hela_Approach1_Stacking.ipynb",
      "provenance": [],
      "collapsed_sections": [
        "crV0BUVmD9fO",
        "EcjoztB-NjBt",
        "_AYheVfiMSlK",
        "2zt-zzb8RInr"
      ]
    },
    "widgets": {
      "application/vnd.jupyter.widget-state+json": {
        "19d6a8e5ee614667b3a6b599fc593d6f": {
          "model_module": "@jupyter-widgets/controls",
          "model_name": "HBoxModel",
          "state": {
            "_view_name": "HBoxView",
            "_dom_classes": [],
            "_model_name": "HBoxModel",
            "_view_module": "@jupyter-widgets/controls",
            "_model_module_version": "1.5.0",
            "_view_count": null,
            "_view_module_version": "1.5.0",
            "box_style": "",
            "layout": "IPY_MODEL_98e1a912bd7d49d7a0c7356cd84073d5",
            "_model_module": "@jupyter-widgets/controls",
            "children": [
              "IPY_MODEL_b37469446eb248ff97400074e6e0d37a",
              "IPY_MODEL_e24b86a00d3c485fb4edd51720dc6940"
            ]
          }
        },
        "98e1a912bd7d49d7a0c7356cd84073d5": {
          "model_module": "@jupyter-widgets/base",
          "model_name": "LayoutModel",
          "state": {
            "_view_name": "LayoutView",
            "grid_template_rows": null,
            "right": null,
            "justify_content": null,
            "_view_module": "@jupyter-widgets/base",
            "overflow": null,
            "_model_module_version": "1.2.0",
            "_view_count": null,
            "flex_flow": null,
            "width": null,
            "min_width": null,
            "border": null,
            "align_items": null,
            "bottom": null,
            "_model_module": "@jupyter-widgets/base",
            "top": null,
            "grid_column": null,
            "overflow_y": null,
            "overflow_x": null,
            "grid_auto_flow": null,
            "grid_area": null,
            "grid_template_columns": null,
            "flex": null,
            "_model_name": "LayoutModel",
            "justify_items": null,
            "grid_row": null,
            "max_height": null,
            "align_content": null,
            "visibility": null,
            "align_self": null,
            "height": null,
            "min_height": null,
            "padding": null,
            "grid_auto_rows": null,
            "grid_gap": null,
            "max_width": null,
            "order": null,
            "_view_module_version": "1.2.0",
            "grid_template_areas": null,
            "object_position": null,
            "object_fit": null,
            "grid_auto_columns": null,
            "margin": null,
            "display": null,
            "left": null
          }
        },
        "b37469446eb248ff97400074e6e0d37a": {
          "model_module": "@jupyter-widgets/controls",
          "model_name": "FloatProgressModel",
          "state": {
            "_view_name": "ProgressView",
            "style": "IPY_MODEL_50baf6daa6154706a4a6df9c26e3f80a",
            "_dom_classes": [],
            "description": "100%",
            "_model_name": "FloatProgressModel",
            "bar_style": "",
            "max": 3,
            "_view_module": "@jupyter-widgets/controls",
            "_model_module_version": "1.5.0",
            "value": 3,
            "_view_count": null,
            "_view_module_version": "1.5.0",
            "orientation": "horizontal",
            "min": 0,
            "description_tooltip": null,
            "_model_module": "@jupyter-widgets/controls",
            "layout": "IPY_MODEL_23f2dc055ecd4a26a03dab005bf46600"
          }
        },
        "e24b86a00d3c485fb4edd51720dc6940": {
          "model_module": "@jupyter-widgets/controls",
          "model_name": "HTMLModel",
          "state": {
            "_view_name": "HTMLView",
            "style": "IPY_MODEL_19067c403cd54f7d85505082a6e28e49",
            "_dom_classes": [],
            "description": "",
            "_model_name": "HTMLModel",
            "placeholder": "​",
            "_view_module": "@jupyter-widgets/controls",
            "_model_module_version": "1.5.0",
            "value": " 3/3 [00:29&lt;00:00,  8.95s/it]",
            "_view_count": null,
            "_view_module_version": "1.5.0",
            "description_tooltip": null,
            "_model_module": "@jupyter-widgets/controls",
            "layout": "IPY_MODEL_159da792ff2b4f86a26f60702be2788b"
          }
        },
        "50baf6daa6154706a4a6df9c26e3f80a": {
          "model_module": "@jupyter-widgets/controls",
          "model_name": "ProgressStyleModel",
          "state": {
            "_view_name": "StyleView",
            "_model_name": "ProgressStyleModel",
            "description_width": "initial",
            "_view_module": "@jupyter-widgets/base",
            "_model_module_version": "1.5.0",
            "_view_count": null,
            "_view_module_version": "1.2.0",
            "bar_color": null,
            "_model_module": "@jupyter-widgets/controls"
          }
        },
        "23f2dc055ecd4a26a03dab005bf46600": {
          "model_module": "@jupyter-widgets/base",
          "model_name": "LayoutModel",
          "state": {
            "_view_name": "LayoutView",
            "grid_template_rows": null,
            "right": null,
            "justify_content": null,
            "_view_module": "@jupyter-widgets/base",
            "overflow": null,
            "_model_module_version": "1.2.0",
            "_view_count": null,
            "flex_flow": null,
            "width": null,
            "min_width": null,
            "border": null,
            "align_items": null,
            "bottom": null,
            "_model_module": "@jupyter-widgets/base",
            "top": null,
            "grid_column": null,
            "overflow_y": null,
            "overflow_x": null,
            "grid_auto_flow": null,
            "grid_area": null,
            "grid_template_columns": null,
            "flex": null,
            "_model_name": "LayoutModel",
            "justify_items": null,
            "grid_row": null,
            "max_height": null,
            "align_content": null,
            "visibility": null,
            "align_self": null,
            "height": null,
            "min_height": null,
            "padding": null,
            "grid_auto_rows": null,
            "grid_gap": null,
            "max_width": null,
            "order": null,
            "_view_module_version": "1.2.0",
            "grid_template_areas": null,
            "object_position": null,
            "object_fit": null,
            "grid_auto_columns": null,
            "margin": null,
            "display": null,
            "left": null
          }
        },
        "19067c403cd54f7d85505082a6e28e49": {
          "model_module": "@jupyter-widgets/controls",
          "model_name": "DescriptionStyleModel",
          "state": {
            "_view_name": "StyleView",
            "_model_name": "DescriptionStyleModel",
            "description_width": "",
            "_view_module": "@jupyter-widgets/base",
            "_model_module_version": "1.5.0",
            "_view_count": null,
            "_view_module_version": "1.2.0",
            "_model_module": "@jupyter-widgets/controls"
          }
        },
        "159da792ff2b4f86a26f60702be2788b": {
          "model_module": "@jupyter-widgets/base",
          "model_name": "LayoutModel",
          "state": {
            "_view_name": "LayoutView",
            "grid_template_rows": null,
            "right": null,
            "justify_content": null,
            "_view_module": "@jupyter-widgets/base",
            "overflow": null,
            "_model_module_version": "1.2.0",
            "_view_count": null,
            "flex_flow": null,
            "width": null,
            "min_width": null,
            "border": null,
            "align_items": null,
            "bottom": null,
            "_model_module": "@jupyter-widgets/base",
            "top": null,
            "grid_column": null,
            "overflow_y": null,
            "overflow_x": null,
            "grid_auto_flow": null,
            "grid_area": null,
            "grid_template_columns": null,
            "flex": null,
            "_model_name": "LayoutModel",
            "justify_items": null,
            "grid_row": null,
            "max_height": null,
            "align_content": null,
            "visibility": null,
            "align_self": null,
            "height": null,
            "min_height": null,
            "padding": null,
            "grid_auto_rows": null,
            "grid_gap": null,
            "max_width": null,
            "order": null,
            "_view_module_version": "1.2.0",
            "grid_template_areas": null,
            "object_position": null,
            "object_fit": null,
            "grid_auto_columns": null,
            "margin": null,
            "display": null,
            "left": null
          }
        },
        "92e411c643934dcabaeb201a7ac3518c": {
          "model_module": "@jupyter-widgets/controls",
          "model_name": "HBoxModel",
          "state": {
            "_view_name": "HBoxView",
            "_dom_classes": [],
            "_model_name": "HBoxModel",
            "_view_module": "@jupyter-widgets/controls",
            "_model_module_version": "1.5.0",
            "_view_count": null,
            "_view_module_version": "1.5.0",
            "box_style": "",
            "layout": "IPY_MODEL_fb02576f68bc47f089e46c60ec293345",
            "_model_module": "@jupyter-widgets/controls",
            "children": [
              "IPY_MODEL_107569abcbe644a2b70d2eb5d1e0826d",
              "IPY_MODEL_4ae1b1e531254036b915b754f17ca5dd"
            ]
          }
        },
        "fb02576f68bc47f089e46c60ec293345": {
          "model_module": "@jupyter-widgets/base",
          "model_name": "LayoutModel",
          "state": {
            "_view_name": "LayoutView",
            "grid_template_rows": null,
            "right": null,
            "justify_content": null,
            "_view_module": "@jupyter-widgets/base",
            "overflow": null,
            "_model_module_version": "1.2.0",
            "_view_count": null,
            "flex_flow": null,
            "width": null,
            "min_width": null,
            "border": null,
            "align_items": null,
            "bottom": null,
            "_model_module": "@jupyter-widgets/base",
            "top": null,
            "grid_column": null,
            "overflow_y": null,
            "overflow_x": null,
            "grid_auto_flow": null,
            "grid_area": null,
            "grid_template_columns": null,
            "flex": null,
            "_model_name": "LayoutModel",
            "justify_items": null,
            "grid_row": null,
            "max_height": null,
            "align_content": null,
            "visibility": null,
            "align_self": null,
            "height": null,
            "min_height": null,
            "padding": null,
            "grid_auto_rows": null,
            "grid_gap": null,
            "max_width": null,
            "order": null,
            "_view_module_version": "1.2.0",
            "grid_template_areas": null,
            "object_position": null,
            "object_fit": null,
            "grid_auto_columns": null,
            "margin": null,
            "display": null,
            "left": null
          }
        },
        "107569abcbe644a2b70d2eb5d1e0826d": {
          "model_module": "@jupyter-widgets/controls",
          "model_name": "FloatProgressModel",
          "state": {
            "_view_name": "ProgressView",
            "style": "IPY_MODEL_6683aec1f1d5471b83f3195b8b4e1deb",
            "_dom_classes": [],
            "description": "100%",
            "_model_name": "FloatProgressModel",
            "bar_style": "",
            "max": 3,
            "_view_module": "@jupyter-widgets/controls",
            "_model_module_version": "1.5.0",
            "value": 3,
            "_view_count": null,
            "_view_module_version": "1.5.0",
            "orientation": "horizontal",
            "min": 0,
            "description_tooltip": null,
            "_model_module": "@jupyter-widgets/controls",
            "layout": "IPY_MODEL_f9c6a554f3c244dca7f2e2ffe9b335c0"
          }
        },
        "4ae1b1e531254036b915b754f17ca5dd": {
          "model_module": "@jupyter-widgets/controls",
          "model_name": "HTMLModel",
          "state": {
            "_view_name": "HTMLView",
            "style": "IPY_MODEL_cf4658e52f0e4dd983d3ff5f8fc6de8f",
            "_dom_classes": [],
            "description": "",
            "_model_name": "HTMLModel",
            "placeholder": "​",
            "_view_module": "@jupyter-widgets/controls",
            "_model_module_version": "1.5.0",
            "value": " 3/3 [02:23&lt;00:00, 44.16s/it]",
            "_view_count": null,
            "_view_module_version": "1.5.0",
            "description_tooltip": null,
            "_model_module": "@jupyter-widgets/controls",
            "layout": "IPY_MODEL_acc3f76f573b49f9918306063e9282a8"
          }
        },
        "6683aec1f1d5471b83f3195b8b4e1deb": {
          "model_module": "@jupyter-widgets/controls",
          "model_name": "ProgressStyleModel",
          "state": {
            "_view_name": "StyleView",
            "_model_name": "ProgressStyleModel",
            "description_width": "initial",
            "_view_module": "@jupyter-widgets/base",
            "_model_module_version": "1.5.0",
            "_view_count": null,
            "_view_module_version": "1.2.0",
            "bar_color": null,
            "_model_module": "@jupyter-widgets/controls"
          }
        },
        "f9c6a554f3c244dca7f2e2ffe9b335c0": {
          "model_module": "@jupyter-widgets/base",
          "model_name": "LayoutModel",
          "state": {
            "_view_name": "LayoutView",
            "grid_template_rows": null,
            "right": null,
            "justify_content": null,
            "_view_module": "@jupyter-widgets/base",
            "overflow": null,
            "_model_module_version": "1.2.0",
            "_view_count": null,
            "flex_flow": null,
            "width": null,
            "min_width": null,
            "border": null,
            "align_items": null,
            "bottom": null,
            "_model_module": "@jupyter-widgets/base",
            "top": null,
            "grid_column": null,
            "overflow_y": null,
            "overflow_x": null,
            "grid_auto_flow": null,
            "grid_area": null,
            "grid_template_columns": null,
            "flex": null,
            "_model_name": "LayoutModel",
            "justify_items": null,
            "grid_row": null,
            "max_height": null,
            "align_content": null,
            "visibility": null,
            "align_self": null,
            "height": null,
            "min_height": null,
            "padding": null,
            "grid_auto_rows": null,
            "grid_gap": null,
            "max_width": null,
            "order": null,
            "_view_module_version": "1.2.0",
            "grid_template_areas": null,
            "object_position": null,
            "object_fit": null,
            "grid_auto_columns": null,
            "margin": null,
            "display": null,
            "left": null
          }
        },
        "cf4658e52f0e4dd983d3ff5f8fc6de8f": {
          "model_module": "@jupyter-widgets/controls",
          "model_name": "DescriptionStyleModel",
          "state": {
            "_view_name": "StyleView",
            "_model_name": "DescriptionStyleModel",
            "description_width": "",
            "_view_module": "@jupyter-widgets/base",
            "_model_module_version": "1.5.0",
            "_view_count": null,
            "_view_module_version": "1.2.0",
            "_model_module": "@jupyter-widgets/controls"
          }
        },
        "acc3f76f573b49f9918306063e9282a8": {
          "model_module": "@jupyter-widgets/base",
          "model_name": "LayoutModel",
          "state": {
            "_view_name": "LayoutView",
            "grid_template_rows": null,
            "right": null,
            "justify_content": null,
            "_view_module": "@jupyter-widgets/base",
            "overflow": null,
            "_model_module_version": "1.2.0",
            "_view_count": null,
            "flex_flow": null,
            "width": null,
            "min_width": null,
            "border": null,
            "align_items": null,
            "bottom": null,
            "_model_module": "@jupyter-widgets/base",
            "top": null,
            "grid_column": null,
            "overflow_y": null,
            "overflow_x": null,
            "grid_auto_flow": null,
            "grid_area": null,
            "grid_template_columns": null,
            "flex": null,
            "_model_name": "LayoutModel",
            "justify_items": null,
            "grid_row": null,
            "max_height": null,
            "align_content": null,
            "visibility": null,
            "align_self": null,
            "height": null,
            "min_height": null,
            "padding": null,
            "grid_auto_rows": null,
            "grid_gap": null,
            "max_width": null,
            "order": null,
            "_view_module_version": "1.2.0",
            "grid_template_areas": null,
            "object_position": null,
            "object_fit": null,
            "grid_auto_columns": null,
            "margin": null,
            "display": null,
            "left": null
          }
        },
        "37fb7b768d444c7198250e84ada3fb7f": {
          "model_module": "@jupyter-widgets/controls",
          "model_name": "HBoxModel",
          "state": {
            "_view_name": "HBoxView",
            "_dom_classes": [],
            "_model_name": "HBoxModel",
            "_view_module": "@jupyter-widgets/controls",
            "_model_module_version": "1.5.0",
            "_view_count": null,
            "_view_module_version": "1.5.0",
            "box_style": "",
            "layout": "IPY_MODEL_71d5f0bc57174bc78361ae9c9f443aec",
            "_model_module": "@jupyter-widgets/controls",
            "children": [
              "IPY_MODEL_e4d6343c142d4235b5e28682915acf8a",
              "IPY_MODEL_ce70b8c0c9ba476fa946420839fc71a6"
            ]
          }
        },
        "71d5f0bc57174bc78361ae9c9f443aec": {
          "model_module": "@jupyter-widgets/base",
          "model_name": "LayoutModel",
          "state": {
            "_view_name": "LayoutView",
            "grid_template_rows": null,
            "right": null,
            "justify_content": null,
            "_view_module": "@jupyter-widgets/base",
            "overflow": null,
            "_model_module_version": "1.2.0",
            "_view_count": null,
            "flex_flow": null,
            "width": null,
            "min_width": null,
            "border": null,
            "align_items": null,
            "bottom": null,
            "_model_module": "@jupyter-widgets/base",
            "top": null,
            "grid_column": null,
            "overflow_y": null,
            "overflow_x": null,
            "grid_auto_flow": null,
            "grid_area": null,
            "grid_template_columns": null,
            "flex": null,
            "_model_name": "LayoutModel",
            "justify_items": null,
            "grid_row": null,
            "max_height": null,
            "align_content": null,
            "visibility": null,
            "align_self": null,
            "height": null,
            "min_height": null,
            "padding": null,
            "grid_auto_rows": null,
            "grid_gap": null,
            "max_width": null,
            "order": null,
            "_view_module_version": "1.2.0",
            "grid_template_areas": null,
            "object_position": null,
            "object_fit": null,
            "grid_auto_columns": null,
            "margin": null,
            "display": null,
            "left": null
          }
        },
        "e4d6343c142d4235b5e28682915acf8a": {
          "model_module": "@jupyter-widgets/controls",
          "model_name": "FloatProgressModel",
          "state": {
            "_view_name": "ProgressView",
            "style": "IPY_MODEL_493f4f9f2208409f915eba0b90e3821b",
            "_dom_classes": [],
            "description": "100%",
            "_model_name": "FloatProgressModel",
            "bar_style": "",
            "max": 3,
            "_view_module": "@jupyter-widgets/controls",
            "_model_module_version": "1.5.0",
            "value": 3,
            "_view_count": null,
            "_view_module_version": "1.5.0",
            "orientation": "horizontal",
            "min": 0,
            "description_tooltip": null,
            "_model_module": "@jupyter-widgets/controls",
            "layout": "IPY_MODEL_782966acfa0f44cb98ace6abd7c79fe5"
          }
        },
        "ce70b8c0c9ba476fa946420839fc71a6": {
          "model_module": "@jupyter-widgets/controls",
          "model_name": "HTMLModel",
          "state": {
            "_view_name": "HTMLView",
            "style": "IPY_MODEL_948e8e941ddc4cf28c0bebf36f048dd1",
            "_dom_classes": [],
            "description": "",
            "_model_name": "HTMLModel",
            "placeholder": "​",
            "_view_module": "@jupyter-widgets/controls",
            "_model_module_version": "1.5.0",
            "value": " 3/3 [02:21&lt;00:00, 56.29s/it]",
            "_view_count": null,
            "_view_module_version": "1.5.0",
            "description_tooltip": null,
            "_model_module": "@jupyter-widgets/controls",
            "layout": "IPY_MODEL_cb7961e44e57437baa905525df599d36"
          }
        },
        "493f4f9f2208409f915eba0b90e3821b": {
          "model_module": "@jupyter-widgets/controls",
          "model_name": "ProgressStyleModel",
          "state": {
            "_view_name": "StyleView",
            "_model_name": "ProgressStyleModel",
            "description_width": "initial",
            "_view_module": "@jupyter-widgets/base",
            "_model_module_version": "1.5.0",
            "_view_count": null,
            "_view_module_version": "1.2.0",
            "bar_color": null,
            "_model_module": "@jupyter-widgets/controls"
          }
        },
        "782966acfa0f44cb98ace6abd7c79fe5": {
          "model_module": "@jupyter-widgets/base",
          "model_name": "LayoutModel",
          "state": {
            "_view_name": "LayoutView",
            "grid_template_rows": null,
            "right": null,
            "justify_content": null,
            "_view_module": "@jupyter-widgets/base",
            "overflow": null,
            "_model_module_version": "1.2.0",
            "_view_count": null,
            "flex_flow": null,
            "width": null,
            "min_width": null,
            "border": null,
            "align_items": null,
            "bottom": null,
            "_model_module": "@jupyter-widgets/base",
            "top": null,
            "grid_column": null,
            "overflow_y": null,
            "overflow_x": null,
            "grid_auto_flow": null,
            "grid_area": null,
            "grid_template_columns": null,
            "flex": null,
            "_model_name": "LayoutModel",
            "justify_items": null,
            "grid_row": null,
            "max_height": null,
            "align_content": null,
            "visibility": null,
            "align_self": null,
            "height": null,
            "min_height": null,
            "padding": null,
            "grid_auto_rows": null,
            "grid_gap": null,
            "max_width": null,
            "order": null,
            "_view_module_version": "1.2.0",
            "grid_template_areas": null,
            "object_position": null,
            "object_fit": null,
            "grid_auto_columns": null,
            "margin": null,
            "display": null,
            "left": null
          }
        },
        "948e8e941ddc4cf28c0bebf36f048dd1": {
          "model_module": "@jupyter-widgets/controls",
          "model_name": "DescriptionStyleModel",
          "state": {
            "_view_name": "StyleView",
            "_model_name": "DescriptionStyleModel",
            "description_width": "",
            "_view_module": "@jupyter-widgets/base",
            "_model_module_version": "1.5.0",
            "_view_count": null,
            "_view_module_version": "1.2.0",
            "_model_module": "@jupyter-widgets/controls"
          }
        },
        "cb7961e44e57437baa905525df599d36": {
          "model_module": "@jupyter-widgets/base",
          "model_name": "LayoutModel",
          "state": {
            "_view_name": "LayoutView",
            "grid_template_rows": null,
            "right": null,
            "justify_content": null,
            "_view_module": "@jupyter-widgets/base",
            "overflow": null,
            "_model_module_version": "1.2.0",
            "_view_count": null,
            "flex_flow": null,
            "width": null,
            "min_width": null,
            "border": null,
            "align_items": null,
            "bottom": null,
            "_model_module": "@jupyter-widgets/base",
            "top": null,
            "grid_column": null,
            "overflow_y": null,
            "overflow_x": null,
            "grid_auto_flow": null,
            "grid_area": null,
            "grid_template_columns": null,
            "flex": null,
            "_model_name": "LayoutModel",
            "justify_items": null,
            "grid_row": null,
            "max_height": null,
            "align_content": null,
            "visibility": null,
            "align_self": null,
            "height": null,
            "min_height": null,
            "padding": null,
            "grid_auto_rows": null,
            "grid_gap": null,
            "max_width": null,
            "order": null,
            "_view_module_version": "1.2.0",
            "grid_template_areas": null,
            "object_position": null,
            "object_fit": null,
            "grid_auto_columns": null,
            "margin": null,
            "display": null,
            "left": null
          }
        }
      }
    }
  },
  "cells": [
    {
      "cell_type": "code",
      "metadata": {
        "colab": {
          "base_uri": "https://localhost:8080/"
        },
        "id": "6T8KtlYkEspn",
        "outputId": "78543563-9b70-42f4-e5b9-54fdf8952503"
      },
      "source": [
        "from google.colab import drive\n",
        "drive.mount('/content/drive')"
      ],
      "execution_count": 1,
      "outputs": [
        {
          "output_type": "stream",
          "text": [
            "Mounted at /content/drive\n"
          ],
          "name": "stdout"
        }
      ]
    },
    {
      "cell_type": "code",
      "metadata": {
        "id": "voRTIbDfE54V"
      },
      "source": [
        "!cp \"/content/drive/MyDrive/AirQo_Low_Cost_Air_Quality_Monitor_Calibration/data/Train.csv\" .\n",
        "!cp \"/content/drive/MyDrive/AirQo_Low_Cost_Air_Quality_Monitor_Calibration/data/Test.csv\" ."
      ],
      "execution_count": 2,
      "outputs": []
    },
    {
      "cell_type": "code",
      "metadata": {
        "colab": {
          "base_uri": "https://localhost:8080/"
        },
        "id": "p566YAtlIaqn",
        "outputId": "d4b88a92-e51c-462a-8b5f-e47688f93e90"
      },
      "source": [
        "!pip install catboost -q"
      ],
      "execution_count": 3,
      "outputs": [
        {
          "output_type": "stream",
          "text": [
            "\u001b[K     |████████████████████████████████| 69.2MB 54kB/s \n",
            "\u001b[?25h"
          ],
          "name": "stdout"
        }
      ]
    },
    {
      "cell_type": "code",
      "metadata": {
        "id": "3EBuXYONET3k"
      },
      "source": [
        "import numpy as np # linear algebra\n",
        "import pandas as pd # data processing, CSV file I/O (e.g. pd.read_csv)\n",
        "import seaborn as sns\n",
        "import matplotlib.pyplot as plt\n",
        "\n",
        "from sklearn.preprocessing import LabelEncoder\n",
        "from sklearn.metrics import mean_squared_error\n",
        "from catboost import CatBoostRegressor\n",
        "from sklearn.model_selection import KFold\n",
        "from sklearn.model_selection import StratifiedKFold"
      ],
      "execution_count": 4,
      "outputs": []
    },
    {
      "cell_type": "code",
      "metadata": {
        "id": "8sXIiarlGjcn"
      },
      "source": [
        "import warnings\n",
        "warnings.simplefilter('ignore')"
      ],
      "execution_count": 5,
      "outputs": []
    },
    {
      "cell_type": "code",
      "metadata": {
        "id": "6k3X1nvrIlEn"
      },
      "source": [
        "train = pd.read_csv('Train.csv')\n",
        "test = pd.read_csv('Test.csv')"
      ],
      "execution_count": 6,
      "outputs": []
    },
    {
      "cell_type": "markdown",
      "metadata": {
        "id": "m8METWtKQ_-9"
      },
      "source": [
        "# **Processing**"
      ]
    },
    {
      "cell_type": "markdown",
      "metadata": {
        "id": "ZS-sgGARQveA"
      },
      "source": [
        "## checking hypothesis + feature engineering"
      ]
    },
    {
      "cell_type": "code",
      "metadata": {
        "execution": {
          "iopub.status.busy": "2021-06-02T21:34:11.462546Z",
          "iopub.execute_input": "2021-06-02T21:34:11.462951Z",
          "iopub.status.idle": "2021-06-02T21:34:11.472319Z",
          "shell.execute_reply.started": "2021-06-02T21:34:11.462914Z",
          "shell.execute_reply": "2021-06-02T21:34:11.471227Z"
        },
        "trusted": true,
        "id": "FjwessxuQveA"
      },
      "source": [
        "data=pd.concat([train,test])"
      ],
      "execution_count": 7,
      "outputs": []
    },
    {
      "cell_type": "code",
      "metadata": {
        "execution": {
          "iopub.status.busy": "2021-06-02T21:34:13.090688Z",
          "iopub.execute_input": "2021-06-02T21:34:13.091050Z",
          "iopub.status.idle": "2021-06-02T21:34:13.272723Z",
          "shell.execute_reply.started": "2021-06-02T21:34:13.091018Z",
          "shell.execute_reply": "2021-06-02T21:34:13.271772Z"
        },
        "trusted": true,
        "id": "l95yxzDiQveA"
      },
      "source": [
        "#basic time features\n",
        "data['created_at']=pd.to_datetime(data['created_at'])\n",
        "data['year']=data['created_at'].dt.year\n",
        "data['month']=data['created_at'].dt.month\n",
        "data['day']=data['created_at'].dt.day\n",
        "data['hour']=data['created_at'].dt.hour\n",
        "#data['dayofweek']=data['created_at'].dt.dayofweek\n",
        "#data['dayofweek']=data['created_at'].dt.dayofweek\n",
        "#data['is_weekend'] = (data['dayofweek'] >= 5)*1"
      ],
      "execution_count": 8,
      "outputs": []
    },
    {
      "cell_type": "code",
      "metadata": {
        "execution": {
          "iopub.status.busy": "2021-06-02T21:34:15.435020Z",
          "iopub.execute_input": "2021-06-02T21:34:15.435524Z",
          "iopub.status.idle": "2021-06-02T21:34:15.464835Z",
          "shell.execute_reply.started": "2021-06-02T21:34:15.435491Z",
          "shell.execute_reply": "2021-06-02T21:34:15.463880Z"
        },
        "trusted": true,
        "id": "3oba3DB5QveB"
      },
      "source": [
        "near=data.copy()\n",
        "near.sort_values(by=['created_at','pm2_5'],inplace=True)\n",
        "\n",
        "\n",
        "near['closest_neighbour_target']=near['ref_pm2_5'].shift(1)\n",
        "near['closest_neighbour_target'].fillna(method='ffill',inplace=True)\n",
        "near['closest_neighbour_target_1']=near['ref_pm2_5'].shift(-1)\n",
        "near['closest_neighbour_target_1'].fillna(method='bfill',inplace=True)\n",
        "\n",
        "near['moy_neigh']=(near['closest_neighbour_target']+near['closest_neighbour_target_1'])/2"
      ],
      "execution_count": 9,
      "outputs": []
    },
    {
      "cell_type": "code",
      "metadata": {
        "execution": {
          "iopub.status.busy": "2021-06-02T21:34:17.560293Z",
          "iopub.execute_input": "2021-06-02T21:34:17.560718Z",
          "iopub.status.idle": "2021-06-02T21:34:17.676271Z",
          "shell.execute_reply.started": "2021-06-02T21:34:17.560681Z",
          "shell.execute_reply": "2021-06-02T21:34:17.675255Z"
        },
        "trusted": true,
        "id": "6SnvAtVfQveB"
      },
      "source": [
        "merge_cols=list(data.columns)\n",
        "data=pd.merge(data,near,on=merge_cols,how=\"left\")\n",
        "del near"
      ],
      "execution_count": 10,
      "outputs": []
    },
    {
      "cell_type": "code",
      "metadata": {
        "execution": {
          "iopub.status.busy": "2021-06-02T21:34:20.169222Z",
          "iopub.execute_input": "2021-06-02T21:34:20.169625Z",
          "iopub.status.idle": "2021-06-02T21:34:20.177106Z",
          "shell.execute_reply.started": "2021-06-02T21:34:20.169591Z",
          "shell.execute_reply": "2021-06-02T21:34:20.176009Z"
        },
        "trusted": true,
        "id": "mU7AyNaOQveC"
      },
      "source": [
        "#baseline imputation \n",
        "data['temp'].fillna(data['temp'].mean(),inplace=True)\n",
        "data['humidity'].fillna(data['humidity'].mean(),inplace=True)"
      ],
      "execution_count": 11,
      "outputs": []
    },
    {
      "cell_type": "code",
      "metadata": {
        "execution": {
          "iopub.status.busy": "2021-06-02T21:34:22.216360Z",
          "iopub.execute_input": "2021-06-02T21:34:22.216733Z",
          "iopub.status.idle": "2021-06-02T21:34:22.233905Z",
          "shell.execute_reply.started": "2021-06-02T21:34:22.216701Z",
          "shell.execute_reply": "2021-06-02T21:34:22.233000Z"
        },
        "trusted": true,
        "id": "Rc7xeT01QveC"
      },
      "source": [
        "#8.88(first)\n",
        "data.drop('created_at',axis=1,inplace=True)\n",
        "LE_cols = ['site']\n",
        "for le_col in LE_cols :\n",
        "    LE = LabelEncoder()\n",
        "    data[le_col] = LE.fit_transform(data[le_col])"
      ],
      "execution_count": 12,
      "outputs": []
    },
    {
      "cell_type": "markdown",
      "metadata": {
        "id": "NCRsbVvCQveD"
      },
      "source": [
        "## time stamps features"
      ]
    },
    {
      "cell_type": "code",
      "metadata": {
        "execution": {
          "iopub.status.busy": "2021-06-02T21:34:25.376186Z",
          "iopub.execute_input": "2021-06-02T21:34:25.376899Z",
          "iopub.status.idle": "2021-06-02T21:34:25.388816Z",
          "shell.execute_reply.started": "2021-06-02T21:34:25.376841Z",
          "shell.execute_reply": "2021-06-02T21:34:25.387997Z"
        },
        "trusted": true,
        "id": "s2eZYrmpQveD"
      },
      "source": [
        "# function to calculate number of days in a month /year \n",
        "import numpy\n",
        "  \n",
        "# explicit function to calculate\n",
        "# number of days\n",
        "def calcDays(month, year):\n",
        "    date = 0\n",
        "  \n",
        "    # December case\n",
        "    if month == 12:\n",
        "        end = str(year)+'-'+str(month)+'-31'\n",
        "        begin = str(year)+'-'+str(month)+'-01'\n",
        "        date = 1\n",
        "    else:\n",
        "        if month == 9:\n",
        "            endM = '-'+str(month+1)\n",
        "            beginM = '-0'+str(month)\n",
        "  \n",
        "        # single digit months\n",
        "        elif month < 9:\n",
        "            endM = '-0'+str(month+1)\n",
        "            beginM = '-0'+str(month)\n",
        "  \n",
        "        # double digit months\n",
        "        else:\n",
        "            endM = '-'+str(month+1)\n",
        "            beginM = '-'+str(month)\n",
        "  \n",
        "        end = str(year)+endM+'-01'\n",
        "        begin = str(year)+beginM+'-01'\n",
        "  \n",
        "    # return number of days\n",
        "    return int((numpy.datetime64(end) - numpy.datetime64(begin)+date)/np.timedelta64(1,'D'))\n",
        "    \n",
        "  \n",
        "  \n",
        "\n",
        "def nb_days_year(year, month, day):\n",
        "    s=0\n",
        "    for i in range(1,month):\n",
        "        s += calcDays(i,year)\n",
        "    s += day\n",
        "    return s\n",
        "  \n",
        "\n"
      ],
      "execution_count": 13,
      "outputs": []
    },
    {
      "cell_type": "code",
      "metadata": {
        "execution": {
          "iopub.status.busy": "2021-06-02T21:34:27.732644Z",
          "iopub.execute_input": "2021-06-02T21:34:27.733272Z",
          "iopub.status.idle": "2021-06-02T21:34:29.795748Z",
          "shell.execute_reply.started": "2021-06-02T21:34:27.733234Z",
          "shell.execute_reply": "2021-06-02T21:34:29.794915Z"
        },
        "trusted": true,
        "id": "gPquOhl8QveD"
      },
      "source": [
        "data['nb_days_in_year']=data.apply(lambda x : nb_days_year(x.year,x.month,x.day),axis=1)"
      ],
      "execution_count": 14,
      "outputs": []
    },
    {
      "cell_type": "code",
      "metadata": {
        "execution": {
          "iopub.status.busy": "2021-06-02T21:34:29.796938Z",
          "iopub.execute_input": "2021-06-02T21:34:29.797383Z",
          "iopub.status.idle": "2021-06-02T21:34:30.341562Z",
          "shell.execute_reply.started": "2021-06-02T21:34:29.797342Z",
          "shell.execute_reply": "2021-06-02T21:34:30.340737Z"
        },
        "trusted": true,
        "id": "UasJ-x4RQveE"
      },
      "source": [
        "def cum_day(year,nb_days_year):\n",
        "    fst_year=2019\n",
        "    year_days_count=0\n",
        "    if year > 2019:\n",
        "        end=str(year)+'-01-01'\n",
        "        begin='2019-01-01'\n",
        "        year_days_count=int((np.datetime64(end) - np.datetime64(begin))/np.timedelta64(1,'D'))\n",
        "    return (year_days_count+nb_days_year)\n",
        "\n",
        "data['date_days_since_2019']=data.apply(lambda x: cum_day(x.year,x.nb_days_in_year) , axis=1)"
      ],
      "execution_count": 15,
      "outputs": []
    },
    {
      "cell_type": "markdown",
      "metadata": {
        "id": "43GY5NAdQveE"
      },
      "source": [
        "* lag features"
      ]
    },
    {
      "cell_type": "code",
      "metadata": {
        "execution": {
          "iopub.status.busy": "2021-06-02T21:34:31.441130Z",
          "iopub.execute_input": "2021-06-02T21:34:31.441631Z",
          "iopub.status.idle": "2021-06-02T21:34:31.483628Z",
          "shell.execute_reply.started": "2021-06-02T21:34:31.441596Z",
          "shell.execute_reply": "2021-06-02T21:34:31.482723Z"
        },
        "trusted": true,
        "id": "HbyDI7eHQveE"
      },
      "source": [
        "#target mean encoding: since we have acess in test to past and future values , target mean without lag is not\n",
        "#going to cause leakage \n",
        "cols=['site','date_days_since_2019']\n",
        "data.set_index(cols,inplace=True)\n",
        "data['lagged_target_by_days']=data.groupby(cols).ref_pm2_5.mean()\n",
        "data['tard_std_by_day']=data.groupby(cols).ref_pm2_5.std()\n",
        "#data['nb_measures']=data.groupby(cols).ref_pm2_5.count()/data.groupby(cols).size()\n",
        "#std\n",
        "#data['lagged_target_by_days_median']=data.groupby(cols).ref_pm2_5.median()\n",
        "#data['lagged_target_by_days_sum']=data.groupby(cols).ref_pm2_5.sum()\n",
        "#data['realtive_variation_per_day']=(data.groupby(cols).pm2_5.max()-data.groupby(cols).pm2_5.min())/(data.groupby(cols).ref_pm2_5.max()-data.groupby(cols).ref_pm2_5.min())\n",
        "\n",
        "data.reset_index(inplace=True)\n"
      ],
      "execution_count": 16,
      "outputs": []
    },
    {
      "cell_type": "code",
      "metadata": {
        "execution": {
          "iopub.status.busy": "2021-06-02T21:34:35.471453Z",
          "iopub.execute_input": "2021-06-02T21:34:35.471814Z",
          "iopub.status.idle": "2021-06-02T21:34:35.477962Z",
          "shell.execute_reply.started": "2021-06-02T21:34:35.471783Z",
          "shell.execute_reply": "2021-06-02T21:34:35.476463Z"
        },
        "trusted": true,
        "id": "vQw5oQWnQveF"
      },
      "source": [
        "data['lagged_target_by_days'].fillna(method='ffill',inplace=True)\n",
        "data['tard_std_by_day'].fillna(method='ffill',inplace=True)"
      ],
      "execution_count": 17,
      "outputs": []
    },
    {
      "cell_type": "code",
      "metadata": {
        "execution": {
          "iopub.status.busy": "2021-06-02T21:34:43.104245Z",
          "iopub.execute_input": "2021-06-02T21:34:43.104644Z",
          "iopub.status.idle": "2021-06-02T21:34:43.267470Z",
          "shell.execute_reply.started": "2021-06-02T21:34:43.104608Z",
          "shell.execute_reply": "2021-06-02T21:34:43.266425Z"
        },
        "trusted": true,
        "id": "-BDIIBASQveF"
      },
      "source": [
        "data['month_count']=data['year'].apply(str)+data['month'].apply(str)\n",
        "cols1=['site','month_count']\n",
        "data.set_index(cols1,inplace=True)\n",
        "data['target_monthly_mean']=data.groupby(cols1).ref_pm2_5.mean()\n",
        "data.reset_index(inplace=True)\n",
        "data.drop('month_count',axis=1,inplace=True)"
      ],
      "execution_count": 18,
      "outputs": []
    },
    {
      "cell_type": "markdown",
      "metadata": {
        "id": "EXBWu2iwQveF"
      },
      "source": [
        "we need to order the data so we can perform lags"
      ]
    },
    {
      "cell_type": "code",
      "metadata": {
        "execution": {
          "iopub.status.busy": "2021-06-02T21:34:46.744430Z",
          "iopub.execute_input": "2021-06-02T21:34:46.744804Z",
          "iopub.status.idle": "2021-06-02T21:34:46.770420Z",
          "shell.execute_reply.started": "2021-06-02T21:34:46.744772Z",
          "shell.execute_reply": "2021-06-02T21:34:46.768866Z"
        },
        "trusted": true,
        "id": "pcn3G034QveG"
      },
      "source": [
        "cols=['site','date_days_since_2019']\n",
        "\n",
        "odata=data.copy()\n",
        "odata['src']=[0]*train.shape[0]+[1]*test.shape[0]\n",
        "odata.sort_values(by=['date_days_since_2019','hour'],inplace=True)"
      ],
      "execution_count": 19,
      "outputs": []
    },
    {
      "cell_type": "code",
      "metadata": {
        "execution": {
          "iopub.status.busy": "2021-06-02T21:35:00.512527Z",
          "iopub.execute_input": "2021-06-02T21:35:00.512890Z",
          "iopub.status.idle": "2021-06-02T21:35:00.530565Z",
          "shell.execute_reply.started": "2021-06-02T21:35:00.512860Z",
          "shell.execute_reply": "2021-06-02T21:35:00.529422Z"
        },
        "trusted": true,
        "id": "XMqoqyKtQveG",
        "colab": {
          "base_uri": "https://localhost:8080/"
        },
        "outputId": "c844e4d5-3964-4f32-8169-665403bcff17"
      },
      "source": [
        "#lagged target in the same hour from previous day/days (depends on disponibility in train)\n",
        "odata['lag_by_hours']=odata.groupby(['site','hour']).ref_pm2_5.shift()\n",
        "print(odata.lag_by_hours.isnull().sum())\n",
        "odata['lag_by_hours']=odata.groupby(['site','hour']).lag_by_hours.ffill()\n",
        "print(odata.lag_by_hours.isnull().sum())\n",
        "odata.lag_by_hours.fillna(odata.lagged_target_by_days,inplace=True)\n",
        "print(odata.lag_by_hours.isnull().sum())"
      ],
      "execution_count": 20,
      "outputs": [
        {
          "output_type": "stream",
          "text": [
            "2791\n",
            "89\n",
            "0\n"
          ],
          "name": "stdout"
        }
      ]
    },
    {
      "cell_type": "code",
      "metadata": {
        "execution": {
          "iopub.status.busy": "2021-06-02T21:35:03.966437Z",
          "iopub.execute_input": "2021-06-02T21:35:03.966829Z",
          "iopub.status.idle": "2021-06-02T21:35:03.983986Z",
          "shell.execute_reply.started": "2021-06-02T21:35:03.966795Z",
          "shell.execute_reply": "2021-06-02T21:35:03.982955Z"
        },
        "trusted": true,
        "id": "73PUN8nBQveG",
        "colab": {
          "base_uri": "https://localhost:8080/"
        },
        "outputId": "c5fdc02a-f1fc-41f4-eed1-57518ada398c"
      },
      "source": [
        "# target from the same hour in the next day \n",
        "odata['lag_by_hours_f']=odata.groupby(['site','hour']).ref_pm2_5.shift(-1)\n",
        "print(odata.lag_by_hours_f.isnull().sum())\n",
        "odata['lag_by_hours_f']=odata.groupby(['site','hour']).lag_by_hours_f.bfill()\n",
        "print(odata.lag_by_hours_f.isnull().sum())\n",
        "odata.lag_by_hours_f.fillna(odata.lagged_target_by_days,inplace=True)\n",
        "print(odata.lag_by_hours_f.isnull().sum())"
      ],
      "execution_count": 21,
      "outputs": [
        {
          "output_type": "stream",
          "text": [
            "2792\n",
            "91\n",
            "0\n"
          ],
          "name": "stdout"
        }
      ]
    },
    {
      "cell_type": "code",
      "metadata": {
        "execution": {
          "iopub.status.busy": "2021-06-02T21:35:07.358432Z",
          "iopub.execute_input": "2021-06-02T21:35:07.358885Z",
          "iopub.status.idle": "2021-06-02T21:35:07.369012Z",
          "shell.execute_reply.started": "2021-06-02T21:35:07.358844Z",
          "shell.execute_reply": "2021-06-02T21:35:07.367472Z"
        },
        "trusted": true,
        "id": "GD5Gx5uTQveH"
      },
      "source": [
        "#how much pm2-5 is close to the target + lag\n",
        "odata['prox']=data['ref_pm2_5']-data['pm2_5']"
      ],
      "execution_count": 22,
      "outputs": []
    },
    {
      "cell_type": "code",
      "metadata": {
        "execution": {
          "iopub.status.busy": "2021-06-02T21:35:18.950822Z",
          "iopub.execute_input": "2021-06-02T21:35:18.951248Z",
          "iopub.status.idle": "2021-06-02T21:35:18.972185Z",
          "shell.execute_reply.started": "2021-06-02T21:35:18.951213Z",
          "shell.execute_reply": "2021-06-02T21:35:18.970651Z"
        },
        "trusted": true,
        "id": "11Q9cVRRQveH",
        "colab": {
          "base_uri": "https://localhost:8080/"
        },
        "outputId": "137a303a-1405-45f2-885f-ed73d1163d2c"
      },
      "source": [
        "#performing lag on prox\n",
        "cols=['site']\n",
        "odata['lagged_prox']=odata.groupby(cols).prox.shift()\n",
        "print(odata.lagged_prox.isnull().sum())\n",
        "odata['lagged_prox']=odata.groupby(cols).lagged_prox.ffill()\n",
        "print(odata.lagged_prox.isnull().sum())\n",
        "odata.lagged_prox.fillna(odata.lagged_target_by_days-odata.pm2_5,inplace=True)#mean by day\n",
        "#odata.lagged_prox.fillna(odata.pm2_5,inplace=True)#mean by day\n",
        "\n",
        "print(odata.lagged_prox.isnull().sum())\n"
      ],
      "execution_count": 23,
      "outputs": [
        {
          "output_type": "stream",
          "text": [
            "2735\n",
            "3\n",
            "0\n"
          ],
          "name": "stdout"
        }
      ]
    },
    {
      "cell_type": "code",
      "metadata": {
        "execution": {
          "iopub.status.busy": "2021-06-02T21:35:36.123211Z",
          "iopub.execute_input": "2021-06-02T21:35:36.123587Z",
          "iopub.status.idle": "2021-06-02T21:35:36.143118Z",
          "shell.execute_reply.started": "2021-06-02T21:35:36.123555Z",
          "shell.execute_reply": "2021-06-02T21:35:36.142018Z"
        },
        "trusted": true,
        "id": "UHTJlm4PQveH",
        "colab": {
          "base_uri": "https://localhost:8080/"
        },
        "outputId": "587830a7-0d0e-4ef8-87dc-d286d97fe131"
      },
      "source": [
        "#getting prox from next hours in a day\n",
        "odata['lagged_prox_f']=odata.groupby(cols).prox.shift(-1)\n",
        "print(odata.lagged_prox_f.isnull().sum())\n",
        "odata['lagged_prox_f']=odata.groupby(cols).lagged_prox_f.bfill()\n",
        "print(odata.lagged_prox_f.isnull().sum())\n",
        "odata.lagged_prox_f.fillna(odata.lagged_target_by_days-odata.pm2_5,inplace=True)\n",
        "#odata.lagged_prox_f.fillna(odata.pm2_5,inplace=True)\n",
        "print(odata.lagged_prox_f.isnull().sum())\n",
        "odata.drop('prox',axis=1,inplace=True)"
      ],
      "execution_count": 24,
      "outputs": [
        {
          "output_type": "stream",
          "text": [
            "2736\n",
            "4\n",
            "0\n"
          ],
          "name": "stdout"
        }
      ]
    },
    {
      "cell_type": "code",
      "metadata": {
        "execution": {
          "iopub.status.busy": "2021-06-02T21:35:39.961938Z",
          "iopub.execute_input": "2021-06-02T21:35:39.962355Z",
          "iopub.status.idle": "2021-06-02T21:35:39.970898Z",
          "shell.execute_reply.started": "2021-06-02T21:35:39.962300Z",
          "shell.execute_reply": "2021-06-02T21:35:39.969813Z"
        },
        "trusted": true,
        "id": "MZARnLi6QveH"
      },
      "source": [
        "#summing with lag prox\n",
        "odata['from_previous']=odata['pm2_5']+odata['lagged_prox']\n",
        "\n",
        "#summing with lag prox f\n",
        "odata['from_previous_f']=odata['pm2_5']+odata['lagged_prox_f']\n",
        "\n",
        "#odata['from_previous_mean']=(odata['from_previous']+odata['from_previous_f'])"
      ],
      "execution_count": 25,
      "outputs": []
    },
    {
      "cell_type": "code",
      "metadata": {
        "execution": {
          "iopub.status.busy": "2021-06-02T21:35:42.701963Z",
          "iopub.execute_input": "2021-06-02T21:35:42.702623Z",
          "iopub.status.idle": "2021-06-02T21:35:42.711108Z",
          "shell.execute_reply.started": "2021-06-02T21:35:42.702570Z",
          "shell.execute_reply": "2021-06-02T21:35:42.709854Z"
        },
        "trusted": true,
        "id": "52EFYp7CQveH"
      },
      "source": [
        "#same process with pm10\n",
        "odata['prox10']=data['ref_pm2_5']-data['pm10']"
      ],
      "execution_count": 26,
      "outputs": []
    },
    {
      "cell_type": "code",
      "metadata": {
        "execution": {
          "iopub.status.busy": "2021-06-02T21:35:50.478034Z",
          "iopub.execute_input": "2021-06-02T21:35:50.478443Z",
          "iopub.status.idle": "2021-06-02T21:35:50.493202Z",
          "shell.execute_reply.started": "2021-06-02T21:35:50.478406Z",
          "shell.execute_reply": "2021-06-02T21:35:50.492122Z"
        },
        "trusted": true,
        "id": "EzxLIT64QveI",
        "colab": {
          "base_uri": "https://localhost:8080/"
        },
        "outputId": "b746bc36-203b-44d7-b8a0-4d44eee4cea6"
      },
      "source": [
        "odata['lagged_prox10']=odata.groupby(cols).prox10.shift()\n",
        "print(odata.lagged_prox10.isnull().sum())\n",
        "odata['lagged_prox10']=odata.groupby(cols).lagged_prox10.ffill()\n",
        "print(odata.lagged_prox10.isnull().sum())\n",
        "odata.lagged_prox10.fillna(odata.lagged_target_by_days-odata.pm10,inplace=True)\n",
        "#odata.lagged_prox10.fillna(odata.pm10,inplace=True)\n",
        "print(odata.lagged_prox10.isnull().sum())\n"
      ],
      "execution_count": 27,
      "outputs": [
        {
          "output_type": "stream",
          "text": [
            "2735\n",
            "3\n",
            "0\n"
          ],
          "name": "stdout"
        }
      ]
    },
    {
      "cell_type": "code",
      "metadata": {
        "execution": {
          "iopub.status.busy": "2021-06-02T21:35:54.429793Z",
          "iopub.execute_input": "2021-06-02T21:35:54.430131Z",
          "iopub.status.idle": "2021-06-02T21:35:54.450541Z",
          "shell.execute_reply.started": "2021-06-02T21:35:54.430101Z",
          "shell.execute_reply": "2021-06-02T21:35:54.449348Z"
        },
        "trusted": true,
        "id": "EyPs9u_jQveI",
        "colab": {
          "base_uri": "https://localhost:8080/"
        },
        "outputId": "3c45fd03-b4b9-4826-ce2f-3ddf3479b6e4"
      },
      "source": [
        "odata['lagged_prox10_f']=odata.groupby(cols).prox10.shift(-1)\n",
        "print(odata.lagged_prox10_f.isnull().sum())\n",
        "odata['lagged_prox10_f']=odata.groupby(cols).lagged_prox10_f.bfill()\n",
        "print(odata.lagged_prox10_f.isnull().sum())\n",
        "odata.lagged_prox10_f.fillna(odata.lagged_target_by_days-odata.pm10,inplace=True)\n",
        "#odata.lagged_prox10_f.fillna(odata.pm10,inplace=True)\n",
        "print(odata.lagged_prox10_f.isnull().sum())\n",
        "odata.drop('prox10',axis=1,inplace=True)"
      ],
      "execution_count": 28,
      "outputs": [
        {
          "output_type": "stream",
          "text": [
            "2736\n",
            "4\n",
            "0\n"
          ],
          "name": "stdout"
        }
      ]
    },
    {
      "cell_type": "code",
      "metadata": {
        "execution": {
          "iopub.status.busy": "2021-06-02T21:35:57.824751Z",
          "iopub.execute_input": "2021-06-02T21:35:57.825116Z",
          "iopub.status.idle": "2021-06-02T21:35:57.832638Z",
          "shell.execute_reply.started": "2021-06-02T21:35:57.825085Z",
          "shell.execute_reply": "2021-06-02T21:35:57.831455Z"
        },
        "trusted": true,
        "id": "og6VtDR6QveJ"
      },
      "source": [
        "#summing with lag prox\n",
        "odata['from_previous10']=odata['pm10']+odata['lagged_prox10']\n",
        "\n",
        "#summing with lag prox f\n",
        "odata['from_previous_f10']=odata['pm10']+odata['lagged_prox10_f']\n",
        "\n",
        "#odata['from_previous10_mean']=(odata['from_previous10']+odata['from_previous_f10'])"
      ],
      "execution_count": 29,
      "outputs": []
    },
    {
      "cell_type": "code",
      "metadata": {
        "execution": {
          "iopub.status.busy": "2021-06-02T21:36:06.801815Z",
          "iopub.execute_input": "2021-06-02T21:36:06.802153Z",
          "iopub.status.idle": "2021-06-02T21:36:06.816788Z",
          "shell.execute_reply.started": "2021-06-02T21:36:06.802123Z",
          "shell.execute_reply": "2021-06-02T21:36:06.815691Z"
        },
        "trusted": true,
        "id": "n_bkZ-1zQveJ",
        "colab": {
          "base_uri": "https://localhost:8080/"
        },
        "outputId": "461b0c80-a2b4-460f-99bd-8e38900bccaa"
      },
      "source": [
        "#lagging target grouped by site and day\n",
        "odata['lagged_target']=odata.groupby(cols).ref_pm2_5.shift()\n",
        "print(odata.lagged_target.isnull().sum())\n",
        "odata['lagged_target']=odata.groupby(cols).lagged_target.ffill()\n",
        "print(odata.lagged_target.isnull().sum())\n",
        "odata.lagged_target.fillna(odata.pm2_5,inplace=True)\n",
        "print(odata.lagged_target.isnull().sum())\n"
      ],
      "execution_count": 30,
      "outputs": [
        {
          "output_type": "stream",
          "text": [
            "2735\n",
            "3\n",
            "0\n"
          ],
          "name": "stdout"
        }
      ]
    },
    {
      "cell_type": "code",
      "metadata": {
        "execution": {
          "iopub.status.busy": "2021-06-02T21:36:27.205234Z",
          "iopub.execute_input": "2021-06-02T21:36:27.205795Z",
          "iopub.status.idle": "2021-06-02T21:36:27.220777Z",
          "shell.execute_reply.started": "2021-06-02T21:36:27.205740Z",
          "shell.execute_reply": "2021-06-02T21:36:27.219398Z"
        },
        "trusted": true,
        "id": "qO8iJ_pOQveK",
        "colab": {
          "base_uri": "https://localhost:8080/"
        },
        "outputId": "c895008b-630a-43ee-f221-5005759436cc"
      },
      "source": [
        "#target from next hour in the same day\n",
        "odata['lagged_target_reverse']=odata.groupby(cols).ref_pm2_5.shift(-1)\n",
        "print(odata.lagged_target_reverse.isnull().sum())\n",
        "odata['lagged_target_reverse']=odata.groupby(cols).lagged_target_reverse.bfill()\n",
        "print(odata.lagged_target_reverse.isnull().sum())\n",
        "odata.lagged_target_reverse.fillna(odata.pm2_5,inplace=True)\n",
        "print(odata.lagged_target_reverse.isnull().sum())"
      ],
      "execution_count": 31,
      "outputs": [
        {
          "output_type": "stream",
          "text": [
            "2736\n",
            "4\n",
            "0\n"
          ],
          "name": "stdout"
        }
      ]
    },
    {
      "cell_type": "code",
      "metadata": {
        "execution": {
          "iopub.status.busy": "2021-06-02T21:36:31.735242Z",
          "iopub.execute_input": "2021-06-02T21:36:31.735651Z",
          "iopub.status.idle": "2021-06-02T21:36:31.744943Z",
          "shell.execute_reply.started": "2021-06-02T21:36:31.735617Z",
          "shell.execute_reply": "2021-06-02T21:36:31.743440Z"
        },
        "trusted": true,
        "id": "VIKQuDDpQveK"
      },
      "source": [
        "#lagging pm2_5 grouped only by site\n",
        "odata['sensor_always_shift']=odata.groupby('site').pm2_5.shift()\n",
        "odata.sensor_always_shift.fillna(odata.pm2_5,inplace=True)"
      ],
      "execution_count": 32,
      "outputs": []
    },
    {
      "cell_type": "markdown",
      "metadata": {
        "id": "cSD5ScqUQveK"
      },
      "source": [
        "shift temp and humidity"
      ]
    },
    {
      "cell_type": "code",
      "metadata": {
        "execution": {
          "iopub.status.busy": "2021-06-02T21:36:37.280181Z",
          "iopub.execute_input": "2021-06-02T21:36:37.280571Z",
          "iopub.status.idle": "2021-06-02T21:36:37.435728Z",
          "shell.execute_reply.started": "2021-06-02T21:36:37.280538Z",
          "shell.execute_reply": "2021-06-02T21:36:37.434776Z"
        },
        "trusted": true,
        "id": "8vUZnv98QveL"
      },
      "source": [
        "#merging new features with the original dataset\n",
        "merge_cols=list(data.columns)\n",
        "data=pd.merge(data,odata,on=merge_cols,how=\"left\")"
      ],
      "execution_count": 33,
      "outputs": []
    },
    {
      "cell_type": "code",
      "metadata": {
        "execution": {
          "iopub.status.busy": "2021-06-02T21:36:39.704806Z",
          "iopub.execute_input": "2021-06-02T21:36:39.705292Z",
          "iopub.status.idle": "2021-06-02T21:36:39.712581Z",
          "shell.execute_reply.started": "2021-06-02T21:36:39.705258Z",
          "shell.execute_reply": "2021-06-02T21:36:39.711665Z"
        },
        "trusted": true,
        "id": "664YLJ2jQveL"
      },
      "source": [
        "#mean of previous and next target value from the same day \n",
        "data['before_and_after']=(data['lagged_target']+data['lagged_target_reverse'])/2"
      ],
      "execution_count": 34,
      "outputs": []
    },
    {
      "cell_type": "code",
      "metadata": {
        "execution": {
          "iopub.status.busy": "2021-06-02T21:37:22.040461Z",
          "iopub.execute_input": "2021-06-02T21:37:22.040837Z",
          "iopub.status.idle": "2021-06-02T21:37:23.226071Z",
          "shell.execute_reply.started": "2021-06-02T21:37:22.040803Z",
          "shell.execute_reply": "2021-06-02T21:37:23.224844Z"
        },
        "trusted": true,
        "id": "dWlGC8yBQveL",
        "colab": {
          "base_uri": "https://localhost:8080/"
        },
        "outputId": "cbb45855-5ea6-4f86-e00e-03d304e3ea14"
      },
      "source": [
        "from scipy.spatial.distance import cdist\n",
        "\n",
        "def normalize(df,x):\n",
        "    return (df[x]-df[x].min())/df[x].max()\n",
        "     \n",
        "\n",
        "def get_min_dist(df,cols):\n",
        "    # compute distance matrix\n",
        "    d=df.copy()\n",
        "    for col in cols:\n",
        "        \n",
        "        d[col]=normalize(d,col)\n",
        "\n",
        "    arr=d[cols].to_numpy()\n",
        "    arr_train=d.loc[d.ID.isin(train.ID),cols].to_numpy()\n",
        "    a = cdist(arr,arr_train)\n",
        "    \n",
        "    a[a==0]=a.max()\n",
        "    # get index min of corresponding types\n",
        "    idx=list(np.argmin(a,axis=1))\n",
        "    print(len(idx))\n",
        "    df['special_neigh']=df.reindex(index = idx)['ref_pm2_5'].values\n",
        "    \n",
        "    \n",
        "    del d\n",
        "    \n",
        "\n",
        "get_min_dist(data,['pm10','pm2_5','date_days_since_2019'])"
      ],
      "execution_count": 35,
      "outputs": [
        {
          "output_type": "stream",
          "text": [
            "13665\n"
          ],
          "name": "stdout"
        }
      ]
    },
    {
      "cell_type": "markdown",
      "metadata": {
        "id": "tKu-Br0oQveM"
      },
      "source": [
        "basic features on sensor values"
      ]
    },
    {
      "cell_type": "code",
      "metadata": {
        "execution": {
          "iopub.status.busy": "2021-06-02T21:37:24.815399Z",
          "iopub.execute_input": "2021-06-02T21:37:24.816085Z",
          "iopub.status.idle": "2021-06-02T21:37:24.822842Z",
          "shell.execute_reply.started": "2021-06-02T21:37:24.816031Z",
          "shell.execute_reply": "2021-06-02T21:37:24.821751Z"
        },
        "trusted": true,
        "id": "a0ik1TvbQveM"
      },
      "source": [
        "data['10:25_ratio']=data['pm2_5']/data['pm10']"
      ],
      "execution_count": 36,
      "outputs": []
    },
    {
      "cell_type": "code",
      "metadata": {
        "execution": {
          "iopub.status.busy": "2021-06-02T21:37:26.111545Z",
          "iopub.execute_input": "2021-06-02T21:37:26.112043Z",
          "iopub.status.idle": "2021-06-02T21:37:26.119732Z",
          "shell.execute_reply.started": "2021-06-02T21:37:26.112009Z",
          "shell.execute_reply": "2021-06-02T21:37:26.118763Z"
        },
        "trusted": true,
        "id": "9HNL0_4HQveM"
      },
      "source": [
        "data['comp_1']=data['pm10']-data['pm2_5']\n",
        "data['comp_2']=data['s2_pm10']-data['s2_pm2_5']"
      ],
      "execution_count": 37,
      "outputs": []
    },
    {
      "cell_type": "code",
      "metadata": {
        "execution": {
          "iopub.status.busy": "2021-06-02T21:37:27.919466Z",
          "iopub.execute_input": "2021-06-02T21:37:27.919969Z",
          "iopub.status.idle": "2021-06-02T21:37:27.929771Z",
          "shell.execute_reply.started": "2021-06-02T21:37:27.919935Z",
          "shell.execute_reply": "2021-06-02T21:37:27.928675Z"
        },
        "trusted": true,
        "id": "Q60fdNqRQveM"
      },
      "source": [
        "data['moy_25']=(data['pm2_5']+data['s2_pm2_5'])/2\n",
        "data['moy_10']=(data['pm10']+data['s2_pm10'])/2"
      ],
      "execution_count": 38,
      "outputs": []
    },
    {
      "cell_type": "code",
      "metadata": {
        "execution": {
          "iopub.status.busy": "2021-06-02T21:37:29.232476Z",
          "iopub.execute_input": "2021-06-02T21:37:29.232819Z",
          "iopub.status.idle": "2021-06-02T21:37:29.241798Z",
          "shell.execute_reply.started": "2021-06-02T21:37:29.232789Z",
          "shell.execute_reply": "2021-06-02T21:37:29.240766Z"
        },
        "trusted": true,
        "id": "fKRjJlqoQveM"
      },
      "source": [
        "data['moy_25_weighted']=(3*data['pm2_5']+data['s2_pm2_5'])/4\n",
        "data['moy_10_weighted']=(3*data['pm10']+data['s2_pm10'])/4"
      ],
      "execution_count": 39,
      "outputs": []
    },
    {
      "cell_type": "code",
      "metadata": {
        "execution": {
          "iopub.status.busy": "2021-06-02T21:37:30.839520Z",
          "iopub.execute_input": "2021-06-02T21:37:30.839893Z",
          "iopub.status.idle": "2021-06-02T21:37:30.848193Z",
          "shell.execute_reply.started": "2021-06-02T21:37:30.839857Z",
          "shell.execute_reply": "2021-06-02T21:37:30.847158Z"
        },
        "trusted": true,
        "id": "K0c15OZoQveM"
      },
      "source": [
        "data['mixed']=(data['pm2_5']+data['pm10'])/2\n",
        "data['mixed_weighted']=(data['pm2_5']+3*data['pm10'])/4"
      ],
      "execution_count": 40,
      "outputs": []
    },
    {
      "cell_type": "code",
      "metadata": {
        "execution": {
          "iopub.status.busy": "2021-06-02T21:37:32.502005Z",
          "iopub.execute_input": "2021-06-02T21:37:32.502503Z",
          "iopub.status.idle": "2021-06-02T21:37:32.515771Z",
          "shell.execute_reply.started": "2021-06-02T21:37:32.502455Z",
          "shell.execute_reply": "2021-06-02T21:37:32.514583Z"
        },
        "trusted": true,
        "id": "FOFqCVE1QveM"
      },
      "source": [
        "#dropping constant features over site (for now i have just deleted lat and long)\n",
        "del_cols=['lat','long','altitude', 'greenness', 'landform_90m',\n",
        "       'landform_270m', 'population', 'dist_major_road']\n",
        "data.drop(del_cols,axis=1,inplace=True)"
      ],
      "execution_count": 41,
      "outputs": []
    },
    {
      "cell_type": "code",
      "metadata": {
        "id": "lxWFBoAaRHpr"
      },
      "source": [
        ""
      ],
      "execution_count": 41,
      "outputs": []
    },
    {
      "cell_type": "markdown",
      "metadata": {
        "id": "EcjoztB-NjBt"
      },
      "source": [
        "# **Training By Site**"
      ]
    },
    {
      "cell_type": "markdown",
      "metadata": {
        "id": "dlPfPBZz-xdo"
      },
      "source": [
        "# **Modeling**"
      ]
    },
    {
      "cell_type": "code",
      "metadata": {
        "id": "-d3J7xQqPNfW"
      },
      "source": [
        "from tqdm.notebook import tqdm\n",
        "from tqdm import tqdm_notebook\n",
        "import random"
      ],
      "execution_count": 42,
      "outputs": []
    },
    {
      "cell_type": "code",
      "metadata": {
        "id": "8OMc4cus_mrp"
      },
      "source": [
        "from sklearn.model_selection import StratifiedKFold ,KFold\n",
        "import lightgbm as lgb\n",
        "import xgboost as xgb"
      ],
      "execution_count": 43,
      "outputs": []
    },
    {
      "cell_type": "code",
      "metadata": {
        "id": "Nm6oER0g_oB7"
      },
      "source": [
        "# Install Catboost\n",
        "import catboost as cat\n",
        "from catboost import CatBoostRegressor, Pool"
      ],
      "execution_count": 44,
      "outputs": []
    },
    {
      "cell_type": "code",
      "metadata": {
        "id": "yge_e9poPUYs"
      },
      "source": [
        "#preaparing data\n",
        "ntrain=data[:train.shape[0]].drop(['src'],axis=1)\n",
        "ntest=data[train.shape[0]:].drop(['src','ref_pm2_5'],axis=1)"
      ],
      "execution_count": 45,
      "outputs": []
    },
    {
      "cell_type": "code",
      "metadata": {
        "id": "xSYQHy9HO4ss"
      },
      "source": [
        "train = ntrain.copy()\n",
        "test = ntest.copy()"
      ],
      "execution_count": 46,
      "outputs": []
    },
    {
      "cell_type": "code",
      "metadata": {
        "id": "zdWaKEjL-8bA"
      },
      "source": [
        "target = train['ref_pm2_5']"
      ],
      "execution_count": 47,
      "outputs": []
    },
    {
      "cell_type": "markdown",
      "metadata": {
        "id": "rTVxJG2C1mkY"
      },
      "source": [
        "## 0. Utils"
      ]
    },
    {
      "cell_type": "code",
      "metadata": {
        "id": "56KM5zAP1wk3"
      },
      "source": [
        "def Train_5Fold_lgbm(X,y,Test,site,kfold,params_lgb) :\n",
        "  final_preds_per_location = []\n",
        "  err_cb=[]\n",
        "  site_oof_preds = np.zeros(len(X))\n",
        "  for fold,(train_index, test_index) in enumerate(kfold.split(X,y)):\n",
        "      X_train, X_test = X.values[train_index], X.values[test_index]\n",
        "      y_train, y_test = y.values[train_index], y.values[test_index]\n",
        "      \n",
        "      trn_data = lgb.Dataset(X_train, y_train)\n",
        "      val_data = lgb.Dataset(X_test, y_test)\n",
        "\n",
        "      model = lgb.train(params_lgb, trn_data, valid_sets = [trn_data, val_data], verbose_eval=0, early_stopping_rounds = 200)\n",
        "\n",
        "      preds=model.predict(X_test, num_iteration=model.best_iteration)\n",
        "      site_oof_preds[test_index] = preds\n",
        "      err_cb.append(np.sqrt(mean_squared_error(y_test,preds)))\n",
        "      \n",
        "      test_pred = model.predict(Test.values, num_iteration=model.best_iteration)\n",
        "      final_preds_per_location.append(test_pred)\n",
        "  \n",
        "  print(f\"Site {site} --  Training RMSE :\" ,np.mean(err_cb))\n",
        "  return np.mean(final_preds_per_location,axis=0) , site_oof_preds\n",
        "\n",
        "# ------------------------------------------------------------------------------------------------------------------------------\n",
        "\n",
        "def Custom_train_Lgbm() :\n",
        "  '''SEED The envierment'''\n",
        "  seed = 0\n",
        "  random.seed(seed)\n",
        "  np.random.seed(seed)\n",
        "  kfold=KFold(n_splits=5, random_state=1901,shuffle=True)\n",
        "  \n",
        "  final_preds=[]\n",
        "  final_ids = []\n",
        "  train_ids = []\n",
        "  oof_prediction = []\n",
        "  for site in tqdm_notebook([0,1,2], leave=False):\n",
        "    print(60*'-')\n",
        "    if site == 1 :\n",
        "      params_lgb = {'objective' :'regression','boosting_type' : 'gbdt','metric': 'rmse' ,\n",
        "              'learning_rate' : 0.06,'num_iterations': 3000,'max_depth' :7 ,'num_leaves' : 64,\n",
        "              'feature_fraction': 0.6,'bagging_fraction': 1.0,'min_data_in_leaf':30,'reg_lambda' :75}\n",
        "      features = [x for x in train.columns \n",
        "            if x not in ['ID', 'created_at','dist_major_road' , 'greenness' , 'population','lat' , 'altitude','landform_90m','landform_270m',\n",
        "                         'ref_pm2_5','long','pm10_div_s2_pm10','pm2_5_div_s2_pm2_5','pm10_div_s2_pm2_5','pm2_5_div_s2_pm10','month_day',\n",
        "                          'month_sin', 'month_cos','day_sin', 'day_cos', 'hour_sin', 'hour_cos']]\n",
        "    elif site ==0 : \n",
        "      params_lgb = {'objective' :'regression','boosting_type' : 'gbdt','metric': 'rmse' ,\n",
        "                    'learning_rate' : 0.06,'num_iterations': 2500,'max_depth' :7 ,'num_leaves' : 64,\n",
        "                    'feature_fraction': 0.6,'bagging_fraction': 0.5,'min_data_in_leaf':15,'reg_lambda' :50,'verbose':-1}\n",
        "      features = [x for x in train.columns \n",
        "            if x not in ['ID', 'created_at','dist_major_road' , 'greenness' , 'population','lat' , 'altitude','landform_90m','landform_270m',\n",
        "                         'ref_pm2_5','long','pm10_div_s2_pm10','pm2_5_div_s2_pm2_5','pm10_div_s2_pm2_5','pm2_5_div_s2_pm10','month_day',]]\n",
        "    else :\n",
        "      params_lgb = {'objective' :'regression','boosting_type' : 'gbdt','metric': 'rmse' ,\n",
        "                    'learning_rate' : 0.04,'num_iterations': 2500,'max_depth' :7 ,'num_leaves' : 64,\n",
        "                    'feature_fraction': 0.6,'bagging_fraction': 0.5,'min_data_in_leaf':15,'reg_lambda' :50,'verbose':-1}\n",
        "      features = [x for x in train.columns \n",
        "            if x not in ['ID', 'created_at','dist_major_road' , 'greenness' , 'population','lat' , 'altitude','landform_90m','landform_270m',\n",
        "                         'ref_pm2_5','long','pm10_div_s2_pm10','pm2_5_div_s2_pm2_5','pm10_div_s2_pm2_5','pm2_5_div_s2_pm10','month_day',]]\n",
        "    X = train[train['site']==site]  ; train_ids.extend(X['ID'].values)   ; y = X['ref_pm2_5']; X = X[features]\n",
        "    Test = test[test['site']==site] ; final_ids.extend(Test['ID'].values); Test = Test[features]\n",
        "    \n",
        "    preds_per_location, site_oof_preds = Train_5Fold_lgbm(X=X,y=y,Test=Test,site=site,kfold=kfold,params_lgb=params_lgb)\n",
        "    oof_prediction.extend(site_oof_preds) ; final_preds.extend(preds_per_location)\n",
        "  \n",
        "  oof_data = pd.DataFrame() ; oof_data['ID'] = train_ids ; oof_data['OOF'] = np.clip(oof_prediction,a_min=0,a_max=500) \n",
        "  preds_data = pd.DataFrame() ; preds_data['ID'] = final_ids ; preds_data['ref_pm2_5'] = np.clip(final_preds,a_min=0,a_max=500) \n",
        "  print()\n",
        "  print(60*'#')\n",
        "  return oof_data,preds_data"
      ],
      "execution_count": 48,
      "outputs": []
    },
    {
      "cell_type": "code",
      "metadata": {
        "id": "On-Us9yw2f3W"
      },
      "source": [
        "def Train_5Fold_xgb(X,y,Test,site,kfold,params_xgb) :\n",
        "  final_preds_per_location = []\n",
        "  err_cb=[]\n",
        "  site_oof_preds = np.zeros(len(X))\n",
        "  for fold,(train_index, test_index) in enumerate(kfold.split(X,y)):\n",
        "      X_train, X_test = X.values[train_index], X.values[test_index]\n",
        "      y_train, y_test = y.values[train_index], y.values[test_index]\n",
        "      \n",
        "      trn_data = xgb.DMatrix(X_train, y_train)\n",
        "      val_data = xgb.DMatrix(X_test, y_test)\n",
        "      watchlist = [(trn_data, 'train'), (val_data, 'valid')]\n",
        "\n",
        "      model = xgb.train(params_xgb, trn_data,10000, evals = watchlist, verbose_eval=0, early_stopping_rounds = 200)\n",
        "\n",
        "      dX_test = xgb.DMatrix(X_test)\n",
        "      preds = model.predict(dX_test)\n",
        "      site_oof_preds[test_index] = preds\n",
        "      err_cb.append(np.sqrt(mean_squared_error(y_test,preds)))\n",
        "      \n",
        "      dTest = xgb.DMatrix(Test.values)\n",
        "      test_pred = model.predict(dTest)\n",
        "      final_preds_per_location.append(test_pred)\n",
        "  \n",
        "  print(f\"Site {site} --  Training RMSE :\" ,np.mean(err_cb))\n",
        "  return np.mean(final_preds_per_location,axis=0) , site_oof_preds\n",
        "\n",
        "# ------------------------------------------------------------------------------------------------------------------------------\n",
        "\n",
        "def Custom_train_xgb() :\n",
        "  '''SEED The envierment'''\n",
        "  seed = 0\n",
        "  random.seed(seed)\n",
        "  np.random.seed(seed)\n",
        "  kfold=KFold(n_splits=5, random_state=1901,shuffle=True)\n",
        "  \n",
        "  final_preds=[]\n",
        "  final_ids = []\n",
        "  train_ids = []\n",
        "  oof_prediction = []\n",
        "  for site in tqdm_notebook([0,1,2], leave=False):\n",
        "    print(60*'-')\n",
        "    if site ==1 :\n",
        "      params_xgb = {'objective': 'reg:squarederror','eval_metric': 'rmse','booster': 'gbtree', \n",
        "                    'n_estimators': 10000,  'max_depth': 7,'max_leaves': 80, 'learning_rate': 0.08, 'max_bin': 100,\n",
        "                    'reg_alpha': 10, 'reg_lambda': 100,'subsample': 0.7 ,'colsample_bytree' : 0.6 }\n",
        "      features = [x for x in train.columns \n",
        "              if x not in ['ID', 'created_at','dist_major_road' , 'greenness' , 'population','lat' , 'altitude','landform_90m','landform_270m',\n",
        "                          'ref_pm2_5','long','pm10_div_s2_pm10','pm2_5_div_s2_pm2_5','pm10_div_s2_pm2_5','pm2_5_div_s2_pm10','month_day',]]\n",
        "    elif site ==0 :\n",
        "      params_xgb = {'objective': 'reg:squarederror','eval_metric': 'rmse','booster': 'gbtree', \n",
        "                    'n_estimators': 10000,  'max_depth': 7, 'learning_rate': 0.08, 'max_bin': 100,\n",
        "                    'max_leaves': 64,'reg_alpha': 20, 'reg_lambda': 100,'subsample': 0.7 ,'colsample_bytree' : 0.6}\n",
        "      features = [x for x in train.columns \n",
        "            if x not in ['ID', 'created_at','dist_major_road' , 'greenness' , 'population','lat' , 'altitude','landform_90m','landform_270m',\n",
        "                         'ref_pm2_5','long','pm10_div_s2_pm10','pm2_5_div_s2_pm2_5','pm10_div_s2_pm2_5','pm2_5_div_s2_pm10','month_day',\n",
        "                          'month_sin', 'month_cos','day_sin', 'day_cos', 'hour_sin', 'hour_cos']]\n",
        "    else :\n",
        "      params_xgb = {'objective': 'reg:squarederror','eval_metric': 'rmse','booster': 'gbtree', \n",
        "                    'n_estimators': 10000,  'max_depth': 7, 'learning_rate': 0.08, 'max_bin': 100,\n",
        "                    'max_leaves': 64,'reg_alpha': 10, 'reg_lambda': 100,'subsample': 0.7 ,'colsample_bytree' : 0.6}\n",
        "      features = [x for x in train.columns \n",
        "            if x not in ['ID', 'created_at','dist_major_road' , 'greenness' , 'population','lat' , 'altitude','landform_90m','landform_270m',\n",
        "                         'ref_pm2_5','long','pm10_div_s2_pm10','pm2_5_div_s2_pm2_5','pm10_div_s2_pm2_5','pm2_5_div_s2_pm10','month_day',\n",
        "                          'month_sin', 'month_cos','day_sin', 'day_cos', 'hour_sin', 'hour_cos']]\n",
        "    X = train[train['site']==site]  ; train_ids.extend(X['ID'].values)   ; y = X['ref_pm2_5']; X = X[features]\n",
        "    Test = test[test['site']==site] ; final_ids.extend(Test['ID'].values); Test = Test[features]\n",
        "    \n",
        "    preds_per_location, site_oof_preds = Train_5Fold_xgb(X=X,y=y,Test=Test,site=site,kfold=kfold,params_xgb=params_xgb)\n",
        "    oof_prediction.extend(site_oof_preds) ; final_preds.extend(preds_per_location)\n",
        "  \n",
        "  oof_data = pd.DataFrame() ; oof_data['ID'] = train_ids ; oof_data['OOF'] = np.clip(oof_prediction,a_min=0,a_max=500) \n",
        "  preds_data = pd.DataFrame() ; preds_data['ID'] = final_ids ; preds_data['ref_pm2_5'] = np.clip(final_preds,a_min=0,a_max=500)\n",
        "   \n",
        "  print()\n",
        "  print(60*'#')\n",
        "  return oof_data,preds_data"
      ],
      "execution_count": 49,
      "outputs": []
    },
    {
      "cell_type": "code",
      "metadata": {
        "id": "_SuJbksk3VL4"
      },
      "source": [
        "def Train_5Fold_catboost_2(X,y,Test,site,kfold) :\n",
        "  final_preds_per_location = []\n",
        "  err_cb=[]\n",
        "  site_oof_preds = np.zeros(len(X))\n",
        "  for fold,(train_index, test_index) in enumerate(kfold.split(X,y)):\n",
        "      X_train, X_test = X.values[train_index], X.values[test_index]\n",
        "      y_train, y_test = y.values[train_index], y.values[test_index]\n",
        "\n",
        "      model = CatBoostRegressor(iterations=2000,learning_rate=0.03,depth=10,\n",
        "                                loss_function='RMSE',random_seed=0,use_best_model=True,) \n",
        "      # CatBoostRegressor(n_estimators=5000,eval_metric='RMSE',learning_rate=0.05, random_seed= 0,\n",
        "      #                               use_best_model=True, ) \n",
        "      \n",
        "      model.fit(X_train,y_train,eval_set=[(X_test, y_test)],early_stopping_rounds=20,verbose=0,)\n",
        "      preds=model.predict(X_test)\n",
        "      site_oof_preds[test_index] = preds\n",
        "      err_cb.append(np.sqrt(mean_squared_error(y_test,preds)))\n",
        "      \n",
        "      test_pred = model.predict(Test.values)\n",
        "      final_preds_per_location.append(test_pred)\n",
        "  \n",
        "  print(f\"Site {site} --  Training RMSE :\" ,np.mean(err_cb))\n",
        "  return np.mean(final_preds_per_location,axis=0) , site_oof_preds\n",
        "\n",
        "def Train_5Fold_catboost_2_site1(X,y,Test,site,kfold) :\n",
        "  final_preds_per_location = []\n",
        "  err_cb=[]\n",
        "  site_oof_preds = np.zeros(len(X))\n",
        "  for fold,(train_index, test_index) in enumerate(kfold.split(X,y)):\n",
        "      X_train, X_test = X.values[train_index], X.values[test_index]\n",
        "      y_train, y_test = y.values[train_index], y.values[test_index]\n",
        "\n",
        "      model = CatBoostRegressor(n_estimators=5000,eval_metric='RMSE',learning_rate=0.05, random_seed= 0,\n",
        "                                    use_best_model=True, ) \n",
        "      \n",
        "      model.fit(X_train,y_train,eval_set=[(X_test, y_test)],early_stopping_rounds=20,verbose=0,)\n",
        "      preds=model.predict(X_test)\n",
        "      site_oof_preds[test_index] = preds\n",
        "      err_cb.append(np.sqrt(mean_squared_error(y_test,preds)))\n",
        "      \n",
        "      test_pred = model.predict(Test.values)\n",
        "      final_preds_per_location.append(test_pred)\n",
        "  \n",
        "  print(f\"Site {site} --  Training RMSE :\" ,np.mean(err_cb))\n",
        "  return np.mean(final_preds_per_location,axis=0) , site_oof_preds\n",
        "# ------------------------------------------------------------------------------------------------------------------------------ \n",
        "\n",
        "def Custom_train_catboost_2(features) :\n",
        "  kfold=KFold(n_splits=5, random_state=1901,shuffle=True)\n",
        "  \n",
        "  final_preds=[]\n",
        "  final_ids = []\n",
        "  train_ids = []\n",
        "  oof_prediction = []\n",
        "  for site in tqdm_notebook([0,1,2], leave=False):\n",
        "    if site ==1 :\n",
        "      print(60*'-')\n",
        "      X = train[train['site']==site]  ; train_ids.extend(X['ID'].values)   ; y = X['ref_pm2_5']; X = X[features]\n",
        "      Test = test[test['site']==site] ; final_ids.extend(Test['ID'].values); Test = Test[features]\n",
        "      \n",
        "      preds_per_location, site_oof_preds = Train_5Fold_catboost_2_site1(X=X,y=y,Test=Test,site=site,kfold=kfold)\n",
        "      oof_prediction.extend(site_oof_preds) ; final_preds.extend(preds_per_location)\n",
        "    \n",
        "    else :\n",
        "      print(60*'-')\n",
        "      X = train[train['site']==site]  ; train_ids.extend(X['ID'].values)   ; y = X['ref_pm2_5']; X = X[features]\n",
        "      Test = test[test['site']==site] ; final_ids.extend(Test['ID'].values); Test = Test[features]\n",
        "      \n",
        "      preds_per_location, site_oof_preds = Train_5Fold_catboost_2(X=X,y=y,Test=Test,site=site,kfold=kfold)\n",
        "      oof_prediction.extend(site_oof_preds) ; final_preds.extend(preds_per_location)\n",
        "  \n",
        "  oof_data = pd.DataFrame() ; oof_data['ID'] = train_ids ; oof_data['OOF'] = np.clip(oof_prediction,a_min=0,a_max=500) \n",
        "  preds_data = pd.DataFrame() ; preds_data['ID'] = final_ids ; preds_data['ref_pm2_5'] = np.clip(final_preds,a_min=0,a_max=500)\n",
        "  \n",
        "  print()\n",
        "  print(60*'#')\n",
        "  return oof_data,preds_data"
      ],
      "execution_count": 50,
      "outputs": []
    },
    {
      "cell_type": "code",
      "metadata": {
        "id": "3_XbfzMRBSU2"
      },
      "source": [
        "def Train_5Fold_Stacking(X,y,Test,kfold) :\n",
        "  final_preds = [] ; err_cb = []\n",
        "  oof_stack = np.zeros(len(X)) ;\n",
        "  for fold,(train_index, test_index) in enumerate(kfold.split(X,y)):\n",
        "      X_train, X_test = X.values[train_index], X.values[test_index]\n",
        "      y_train, y_test = y.values[train_index], y.values[test_index]\n",
        "\n",
        "      model = Ridge(alpha=0.01,random_state=42)\n",
        "      model.fit(X_train,y_train)\n",
        "      preds=model.predict(X_test)\n",
        "      preds = np.clip(preds,a_min=0,a_max=500)\n",
        "      oof_stack[test_index] = preds\n",
        "      err_cb.append(mean_squared_error(y_test,preds,squared=False))\n",
        "      \n",
        "      test_pred = model.predict(Test.values)\n",
        "      final_preds.append(test_pred)\n",
        "  \n",
        "  print(2*'--------------------------------------')\n",
        "  print(f\"Stacking RMSE :\" ,np.mean(err_cb))\n",
        "  return oof_stack,np.mean(final_preds,axis=0)"
      ],
      "execution_count": 51,
      "outputs": []
    },
    {
      "cell_type": "markdown",
      "metadata": {
        "id": "_AYheVfiMSlK"
      },
      "source": [
        "## 1. LGBM"
      ]
    },
    {
      "cell_type": "code",
      "metadata": {
        "id": "0eCNO5ZO55lo",
        "colab": {
          "base_uri": "https://localhost:8080/",
          "height": 153,
          "referenced_widgets": [
            "19d6a8e5ee614667b3a6b599fc593d6f",
            "98e1a912bd7d49d7a0c7356cd84073d5",
            "b37469446eb248ff97400074e6e0d37a",
            "e24b86a00d3c485fb4edd51720dc6940",
            "50baf6daa6154706a4a6df9c26e3f80a",
            "23f2dc055ecd4a26a03dab005bf46600",
            "19067c403cd54f7d85505082a6e28e49",
            "159da792ff2b4f86a26f60702be2788b"
          ]
        },
        "outputId": "1daccf71-6eea-4455-c322-109ae7bbcbb3"
      },
      "source": [
        "oof_data_lgb,final_preds_lgb = Custom_train_Lgbm() "
      ],
      "execution_count": 52,
      "outputs": [
        {
          "output_type": "display_data",
          "data": {
            "application/vnd.jupyter.widget-view+json": {
              "model_id": "19d6a8e5ee614667b3a6b599fc593d6f",
              "version_minor": 0,
              "version_major": 2
            },
            "text/plain": [
              "HBox(children=(FloatProgress(value=0.0, max=3.0), HTML(value='')))"
            ]
          },
          "metadata": {
            "tags": []
          }
        },
        {
          "output_type": "stream",
          "text": [
            "------------------------------------------------------------\n",
            "Site 0 --  Training RMSE : 7.87850548390176\n",
            "------------------------------------------------------------\n",
            "Site 1 --  Training RMSE : 19.231454686425717\n",
            "------------------------------------------------------------\n",
            "Site 2 --  Training RMSE : 9.355232910146768\n",
            "\n",
            "############################################################\n"
          ],
          "name": "stdout"
        }
      ]
    },
    {
      "cell_type": "code",
      "metadata": {
        "colab": {
          "base_uri": "https://localhost:8080/"
        },
        "id": "LTX5KJqQ6Xy3",
        "outputId": "fb32c21b-949a-4979-8522-50735ca7c955"
      },
      "source": [
        "train_oof_data = pd.merge(train[['ID','ref_pm2_5']], oof_data_lgb,on='ID',how='left')\n",
        "print('OOF RMSE : ',np.sqrt(mean_squared_error(train_oof_data['ref_pm2_5'],train_oof_data['OOF'])))"
      ],
      "execution_count": 53,
      "outputs": [
        {
          "output_type": "stream",
          "text": [
            "OOF RMSE :  11.399954952937337\n"
          ],
          "name": "stdout"
        }
      ]
    },
    {
      "cell_type": "markdown",
      "metadata": {
        "id": "s3VGOg3AK1lY"
      },
      "source": [
        "## 2. xgb"
      ]
    },
    {
      "cell_type": "code",
      "metadata": {
        "colab": {
          "base_uri": "https://localhost:8080/",
          "height": 153,
          "referenced_widgets": [
            "92e411c643934dcabaeb201a7ac3518c",
            "fb02576f68bc47f089e46c60ec293345",
            "107569abcbe644a2b70d2eb5d1e0826d",
            "4ae1b1e531254036b915b754f17ca5dd",
            "6683aec1f1d5471b83f3195b8b4e1deb",
            "f9c6a554f3c244dca7f2e2ffe9b335c0",
            "cf4658e52f0e4dd983d3ff5f8fc6de8f",
            "acc3f76f573b49f9918306063e9282a8"
          ]
        },
        "id": "1eDoZ41EK1la",
        "outputId": "a1c83ad5-2011-49c4-cc25-1d66fc7883a0"
      },
      "source": [
        "oof_data_xgb,final_preds_xgb = Custom_train_xgb() "
      ],
      "execution_count": 54,
      "outputs": [
        {
          "output_type": "display_data",
          "data": {
            "application/vnd.jupyter.widget-view+json": {
              "model_id": "92e411c643934dcabaeb201a7ac3518c",
              "version_minor": 0,
              "version_major": 2
            },
            "text/plain": [
              "HBox(children=(FloatProgress(value=0.0, max=3.0), HTML(value='')))"
            ]
          },
          "metadata": {
            "tags": []
          }
        },
        {
          "output_type": "stream",
          "text": [
            "------------------------------------------------------------\n",
            "Site 0 --  Training RMSE : 8.019688017055989\n",
            "------------------------------------------------------------\n",
            "Site 1 --  Training RMSE : 19.396098267685183\n",
            "------------------------------------------------------------\n",
            "Site 2 --  Training RMSE : 9.356546743945694\n",
            "\n",
            "############################################################\n"
          ],
          "name": "stdout"
        }
      ]
    },
    {
      "cell_type": "code",
      "metadata": {
        "colab": {
          "base_uri": "https://localhost:8080/"
        },
        "id": "y7ssCiP_K1la",
        "outputId": "73f111cb-cef5-4e21-ae3d-a5087cb35228"
      },
      "source": [
        "train_oof_data = pd.merge(train[['ID','ref_pm2_5']], oof_data_xgb,on='ID',how='left')\n",
        "print('OOF RMSE : ',np.sqrt(mean_squared_error(train_oof_data['ref_pm2_5'],train_oof_data['OOF'])))"
      ],
      "execution_count": 55,
      "outputs": [
        {
          "output_type": "stream",
          "text": [
            "OOF RMSE :  11.480550679012481\n"
          ],
          "name": "stdout"
        }
      ]
    },
    {
      "cell_type": "markdown",
      "metadata": {
        "id": "EKyvmVGENYK0"
      },
      "source": [
        "## 4. CATBOOST_2"
      ]
    },
    {
      "cell_type": "code",
      "metadata": {
        "id": "C6QdwiDcVjFg"
      },
      "source": [
        "def Train_5Fold_catboost_2(X,y,Test,site,kfold,cat_params) :\n",
        "  final_preds_per_location = []\n",
        "  err_cb=[]\n",
        "  site_oof_preds = np.zeros(len(X))\n",
        "  for fold,(train_index, test_index) in enumerate(kfold.split(X,y)):\n",
        "      X_train, X_test = X.values[train_index], X.values[test_index]\n",
        "      y_train, y_test = y.values[train_index], y.values[test_index]\n",
        "\n",
        "      model = CatBoostRegressor(**cat_params) \n",
        "      \n",
        "      model.fit(X_train,y_train,eval_set=[(X_test, y_test)],early_stopping_rounds=20,verbose=0,)\n",
        "      preds=model.predict(X_test)\n",
        "      site_oof_preds[test_index] = preds\n",
        "      err_cb.append(np.sqrt(mean_squared_error(y_test,preds)))\n",
        "      \n",
        "      test_pred = model.predict(Test.values)\n",
        "      final_preds_per_location.append(test_pred)\n",
        "  \n",
        "  print(f\"Site {site} --  Training RMSE :\" ,np.mean(err_cb))\n",
        "  return np.mean(final_preds_per_location,axis=0) , site_oof_preds\n",
        "\n",
        "# ------------------------------------------------------------------------------------------------------------------------------ \n",
        "\n",
        "def Custom_train_catboost_2() :\n",
        "  kfold=KFold(n_splits=5, random_state=1901,shuffle=True)\n",
        "  \n",
        "  final_preds=[]\n",
        "  final_ids = []\n",
        "  train_ids = []\n",
        "  oof_prediction = []\n",
        "  for site in tqdm_notebook([0,1,2], leave=False):\n",
        "    print(60*'-')\n",
        "    if site ==1 :\n",
        "      cat_params = {'eval_metric': 'RMSE','learning_rate': 0.05,'n_estimators': 5000,'random_seed': 0,'use_best_model': True}   \n",
        "      \n",
        "      features = [x for x in train.columns \n",
        "            if x not in ['ID', 'created_at','dist_major_road' , 'greenness' , 'population','lat' , 'altitude','landform_90m','landform_270m',\n",
        "                         'ref_pm2_5','long','pm10_div_s2_pm10','pm2_5_div_s2_pm2_5','pm10_div_s2_pm2_5','pm2_5_div_s2_pm10','month_day',]]\n",
        "    else :\n",
        "      cat_params = {'depth': 8,'iterations': 2000,'learning_rate': 0.03,'loss_function': 'RMSE','random_seed': 0,'use_best_model': True}\n",
        "      \n",
        "      features = [x for x in train.columns \n",
        "            if x not in ['ID', 'created_at','dist_major_road' , 'greenness' , 'population','lat' , 'altitude','landform_90m','landform_270m',\n",
        "                         'ref_pm2_5','long','pm10_div_s2_pm10','pm2_5_div_s2_pm2_5','pm10_div_s2_pm2_5','pm2_5_div_s2_pm10','month_day',\n",
        "                          'month_sin', 'month_cos','day_sin', 'day_cos', 'hour_sin', 'hour_cos']]\n",
        "    X = train[train['site']==site]  ; train_ids.extend(X['ID'].values)   ; y = X['ref_pm2_5']; X = X[features]\n",
        "    Test = test[test['site']==site] ; final_ids.extend(Test['ID'].values); Test = Test[features]\n",
        "    \n",
        "    preds_per_location, site_oof_preds = Train_5Fold_catboost_2(X=X,y=y,Test=Test,site=site,kfold=kfold,cat_params=cat_params)\n",
        "    oof_prediction.extend(site_oof_preds) ; final_preds.extend(preds_per_location)\n",
        "  \n",
        "  oof_data = pd.DataFrame() ; oof_data['ID'] = train_ids ; oof_data['OOF'] = np.clip(oof_prediction,a_min=0,a_max=500) \n",
        "  preds_data = pd.DataFrame() ; preds_data['ID'] = final_ids ; preds_data['ref_pm2_5'] = np.clip(final_preds,a_min=0,a_max=500)\n",
        "  \n",
        "  print()\n",
        "  print(60*'#')\n",
        "  return oof_data,preds_data"
      ],
      "execution_count": 56,
      "outputs": []
    },
    {
      "cell_type": "code",
      "metadata": {
        "colab": {
          "base_uri": "https://localhost:8080/",
          "height": 153,
          "referenced_widgets": [
            "37fb7b768d444c7198250e84ada3fb7f",
            "71d5f0bc57174bc78361ae9c9f443aec",
            "e4d6343c142d4235b5e28682915acf8a",
            "ce70b8c0c9ba476fa946420839fc71a6",
            "493f4f9f2208409f915eba0b90e3821b",
            "782966acfa0f44cb98ace6abd7c79fe5",
            "948e8e941ddc4cf28c0bebf36f048dd1",
            "cb7961e44e57437baa905525df599d36"
          ]
        },
        "id": "fGdE51NeNYK9",
        "outputId": "4f9ed53f-4327-4709-ec24-bc240aa0bc87"
      },
      "source": [
        "oof_data_catboost_2,final_preds_catboost_2 = Custom_train_catboost_2()"
      ],
      "execution_count": 57,
      "outputs": [
        {
          "output_type": "display_data",
          "data": {
            "application/vnd.jupyter.widget-view+json": {
              "model_id": "37fb7b768d444c7198250e84ada3fb7f",
              "version_minor": 0,
              "version_major": 2
            },
            "text/plain": [
              "HBox(children=(FloatProgress(value=0.0, max=3.0), HTML(value='')))"
            ]
          },
          "metadata": {
            "tags": []
          }
        },
        {
          "output_type": "stream",
          "text": [
            "------------------------------------------------------------\n",
            "Site 0 --  Training RMSE : 7.695895359832138\n",
            "------------------------------------------------------------\n",
            "Site 1 --  Training RMSE : 19.181995622361768\n",
            "------------------------------------------------------------\n",
            "Site 2 --  Training RMSE : 9.18989447989124\n",
            "\n",
            "############################################################\n"
          ],
          "name": "stdout"
        }
      ]
    },
    {
      "cell_type": "code",
      "metadata": {
        "colab": {
          "base_uri": "https://localhost:8080/"
        },
        "id": "kB0-RpSFNYK-",
        "outputId": "6c0374e5-c099-4460-abef-bb5e4c0e89d1"
      },
      "source": [
        "train_oof_data = pd.merge(train[['ID','ref_pm2_5']], oof_data_catboost_2,on='ID',how='left')\n",
        "print('OOF RMSE : ',np.sqrt(mean_squared_error(train_oof_data['ref_pm2_5'],train_oof_data['OOF'])))"
      ],
      "execution_count": 58,
      "outputs": [
        {
          "output_type": "stream",
          "text": [
            "OOF RMSE :  11.301870102312222\n"
          ],
          "name": "stdout"
        }
      ]
    },
    {
      "cell_type": "markdown",
      "metadata": {
        "id": "2zt-zzb8RInr"
      },
      "source": [
        "## 5. Stacking"
      ]
    },
    {
      "cell_type": "code",
      "metadata": {
        "id": "mv1CfkZ0SXA5"
      },
      "source": [
        "from sklearn.linear_model import Ridge ,LinearRegression"
      ],
      "execution_count": 59,
      "outputs": []
    },
    {
      "cell_type": "code",
      "metadata": {
        "id": "7x054OeNBKJG"
      },
      "source": [
        "stacking_train = oof_data_catboost_2.copy() ; del stacking_train['OOF'] ;\n",
        "stacking_train['Hela_App1_preds_cat'] =  oof_data_catboost_2['OOF'] ; \n",
        "stacking_train['Hela_App1_preds_xgb'] =  oof_data_xgb['OOF'] ;\n",
        "stacking_train['Hela_App1_preds_lgb'] =  oof_data_lgb['OOF']\n",
        "stacking_train = pd.merge(train[['ID','ref_pm2_5']], stacking_train,on='ID',how='left')\n",
        "stacking_train.rename({'ref_pm2_5': 'target'})\n",
        "\n",
        "stacking_test = final_preds_catboost_2.copy() ; del stacking_test['ref_pm2_5']\n",
        "stacking_test['Hela_App1_preds_cat'] =  final_preds_catboost_2['ref_pm2_5'] ; \n",
        "stacking_test['Hela_App1_preds_xgb'] =  final_preds_xgb['ref_pm2_5'] ;\n",
        "stacking_test['Hela_App1_preds_lgb'] =  final_preds_lgb['ref_pm2_5']"
      ],
      "execution_count": 60,
      "outputs": []
    },
    {
      "cell_type": "code",
      "metadata": {
        "id": "0Gfb7zAJS1xg",
        "colab": {
          "base_uri": "https://localhost:8080/"
        },
        "outputId": "3b84f11e-8e43-44cf-e319-687dd553e671"
      },
      "source": [
        "cols = ['Hela_App1_preds_cat', 'Hela_App1_preds_xgb', 'Hela_App1_preds_lgb']\n",
        "\n",
        "X , y , Test = stacking_train[cols] , stacking_train['ref_pm2_5'] , stacking_test[cols]\n",
        "KFOLD = KFold(n_splits=5,random_state=1901,shuffle=True)\n",
        "\n",
        "oof_stack,stack_preds = Train_5Fold_Stacking(X=X,y=y,Test=Test,kfold=KFOLD)"
      ],
      "execution_count": 61,
      "outputs": [
        {
          "output_type": "stream",
          "text": [
            "----------------------------------------------------------------------------\n",
            "Stacking RMSE : 11.007931207317942\n"
          ],
          "name": "stdout"
        }
      ]
    },
    {
      "cell_type": "code",
      "metadata": {
        "colab": {
          "base_uri": "https://localhost:8080/"
        },
        "id": "Qnvsno13v5IQ",
        "outputId": "46663465-d566-4d7b-e28a-a04c80b774cb"
      },
      "source": [
        "print('Stacking OOF',mean_squared_error(y,oof_stack,squared=False))"
      ],
      "execution_count": 65,
      "outputs": [
        {
          "output_type": "stream",
          "text": [
            "Stacking OOF 11.200203103871619\n"
          ],
          "name": "stdout"
        }
      ]
    },
    {
      "cell_type": "code",
      "metadata": {
        "id": "jG7io85iaHOU"
      },
      "source": [
        "stacking_train.to_csv('Hela_App1_stacking_train.csv',index=False)\n",
        "stacking_test.to_csv('Hela_App1_stacking_test.csv',index=False)"
      ],
      "execution_count": 63,
      "outputs": []
    }
  ]
}