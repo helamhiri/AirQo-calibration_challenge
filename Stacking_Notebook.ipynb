{
  "nbformat": 4,
  "nbformat_minor": 0,
  "metadata": {
    "colab": {
      "name": "Stacking_Notebook.ipynb",
      "provenance": []
    },
    "kernelspec": {
      "name": "python3",
      "display_name": "Python 3"
    },
    "language_info": {
      "name": "python"
    }
  },
  "cells": [
    {
      "cell_type": "code",
      "metadata": {
        "id": "u3QREaI-auTr"
      },
      "source": [
        "import numpy as np # linear algebra\n",
        "import pandas as pd # data processing, CSV file I/O (e.g. pd.read_csv)\n",
        "import warnings\n",
        "warnings.simplefilter('ignore')"
      ],
      "execution_count": 1,
      "outputs": []
    },
    {
      "cell_type": "code",
      "metadata": {
        "id": "5E-gRfDJa1Pc"
      },
      "source": [
        "from sklearn.linear_model import Ridge ,LinearRegression"
      ],
      "execution_count": 2,
      "outputs": []
    },
    {
      "cell_type": "code",
      "metadata": {
        "id": "zJBI-t17c69J"
      },
      "source": [
        "from sklearn.model_selection import KFold\n",
        "from sklearn.metrics import mean_squared_error"
      ],
      "execution_count": 3,
      "outputs": []
    },
    {
      "cell_type": "code",
      "metadata": {
        "id": "Z8mdkfTia_Qr"
      },
      "source": [
        "def Train_5Fold_Stacking(X,y,Test,kfold) :\n",
        "  final_preds = [] ; err_cb = []\n",
        "  oof_stack = np.zeros(len(X)) ;\n",
        "  for fold,(train_index, test_index) in enumerate(kfold.split(X,y)):\n",
        "      X_train, X_test = X.values[train_index], X.values[test_index]\n",
        "      y_train, y_test = y.values[train_index], y.values[test_index]\n",
        "\n",
        "      model = Ridge(alpha=0.01,random_state=42)\n",
        "      model.fit(X_train,y_train)\n",
        "      preds=model.predict(X_test)\n",
        "      preds = np.clip(preds,a_min=0,a_max=500)\n",
        "      oof_stack[test_index] = preds\n",
        "      err_cb.append(mean_squared_error(y_test,preds,squared=False))\n",
        "      \n",
        "      test_pred = model.predict(Test.values)\n",
        "      final_preds.append(test_pred)\n",
        "  \n",
        "  print(2*'--------------------------------------')\n",
        "  print(f\"Stacking RMSE :\" ,np.mean(err_cb))\n",
        "  return oof_stack,np.mean(final_preds,axis=0)"
      ],
      "execution_count": 5,
      "outputs": []
    },
    {
      "cell_type": "code",
      "metadata": {
        "id": "gWsyKpgfbFXr"
      },
      "source": [
        "stacking_train_H1 = pd.read_csv('Hela_App1_stacking_train.csv')\n",
        "stacking_test_H1 = pd.read_csv('Hela_App1_stacking_test.csv')\n",
        "\n",
        "stacking_train_H2 = pd.read_csv('Hela_App2_stacking_train.csv')\n",
        "stacking_test_H2 = pd.read_csv('Hela_App2_stacking_test.csv')\n",
        "\n",
        "stacking_train_A = pd.read_csv('azer_stacking_train.csv')\n",
        "stacking_test_A = pd.read_csv('azer_stacking_test.csv')"
      ],
      "execution_count": 6,
      "outputs": []
    },
    {
      "cell_type": "code",
      "metadata": {
        "id": "ZV4doKBsb9dC"
      },
      "source": [
        "stacking_train_H1 = stacking_train_H1.sort_values('ID').reset_index(drop=True)\n",
        "stacking_train_H2 = stacking_train_H2.sort_values('ID').reset_index(drop=True)\n",
        "stacking_train_A = stacking_train_A.sort_values('ID').reset_index(drop=True)"
      ],
      "execution_count": 7,
      "outputs": []
    },
    {
      "cell_type": "code",
      "metadata": {
        "id": "pBLLzWjSbeRT"
      },
      "source": [
        "stacking_test_H1 = stacking_test_H1.sort_values('ID').reset_index(drop=True)\n",
        "stacking_test_H2 = stacking_test_H2.sort_values('ID').reset_index(drop=True)\n",
        "stacking_test_A = stacking_test_A.sort_values('ID').reset_index(drop=True)"
      ],
      "execution_count": 8,
      "outputs": []
    },
    {
      "cell_type": "code",
      "metadata": {
        "id": "MGJgGUALcBu6"
      },
      "source": [
        "stacking_train = pd.concat([stacking_train_A,stacking_train_H1.drop(['ID','ref_pm2_5'],1),\n",
        "                            stacking_train_H2.drop(['ID','ref_pm2_5'],1),\n",
        "                            ],axis=1)"
      ],
      "execution_count": 9,
      "outputs": []
    },
    {
      "cell_type": "code",
      "metadata": {
        "id": "MzE0-B5VcQ7z"
      },
      "source": [
        "stacking_test= pd.concat([stacking_test_A,stacking_test_H2.drop(['ID'],1),\n",
        "                            stacking_test_H1.drop(['ID',],1),\n",
        "                            ],axis=1)"
      ],
      "execution_count": 10,
      "outputs": []
    },
    {
      "cell_type": "code",
      "metadata": {
        "colab": {
          "base_uri": "https://localhost:8080/"
        },
        "id": "_dLKv8oHbBLb",
        "outputId": "7b2fb7af-c065-45b4-daf2-f5d40620e96e"
      },
      "source": [
        "cols = ['azer_preds_cat_2', 'azer_preds_xgb', \n",
        "        'Hela_App2_preds_cat_2', 'Hela_App2_preds_xgb', \n",
        "        'Hela_App1_preds_cat',  'Hela_App1_preds_xgb',]\n",
        "\n",
        "X , y , Test = stacking_train[cols] , stacking_train['ref_pm2_5'] , stacking_test[cols]\n",
        "KFOLD = KFold(n_splits=5,random_state=1901,shuffle=True)\n",
        "\n",
        "oof_stack,stack_preds = Train_5Fold_Stacking(X=X,y=y,Test=Test,kfold=KFOLD)"
      ],
      "execution_count": 11,
      "outputs": [
        {
          "output_type": "stream",
          "text": [
            "----------------------------------------------------------------------------\n",
            "Stacking RMSE : 10.91059241063979\n"
          ],
          "name": "stdout"
        }
      ]
    },
    {
      "cell_type": "code",
      "metadata": {
        "colab": {
          "base_uri": "https://localhost:8080/"
        },
        "id": "mLe8yHzlzTu6",
        "outputId": "461333ae-cb03-4975-eae2-f29b52445d5a"
      },
      "source": [
        "print('Stacking OOF',mean_squared_error(y,oof_stack,squared=False))"
      ],
      "execution_count": 12,
      "outputs": [
        {
          "output_type": "stream",
          "text": [
            "Stacking OOF 11.120406649210725\n"
          ],
          "name": "stdout"
        }
      ]
    },
    {
      "cell_type": "code",
      "metadata": {
        "colab": {
          "base_uri": "https://localhost:8080/",
          "height": 359
        },
        "id": "Y_2tQacrc5V7",
        "outputId": "02faa196-4b1d-476d-cdef-cedb4043bd3e"
      },
      "source": [
        "SUB_FILE_NAME = 'Final_Submission.csv' ;sub_df = stacking_test[['ID']].copy() ; sub_df['ref_pm2_5'] = stack_preds\n",
        "sub_df.to_csv(SUB_FILE_NAME, index=False)\n",
        "sub_df.head(10)"
      ],
      "execution_count": 13,
      "outputs": [
        {
          "output_type": "execute_result",
          "data": {
            "text/html": [
              "<div>\n",
              "<style scoped>\n",
              "    .dataframe tbody tr th:only-of-type {\n",
              "        vertical-align: middle;\n",
              "    }\n",
              "\n",
              "    .dataframe tbody tr th {\n",
              "        vertical-align: top;\n",
              "    }\n",
              "\n",
              "    .dataframe thead th {\n",
              "        text-align: right;\n",
              "    }\n",
              "</style>\n",
              "<table border=\"1\" class=\"dataframe\">\n",
              "  <thead>\n",
              "    <tr style=\"text-align: right;\">\n",
              "      <th></th>\n",
              "      <th>ID</th>\n",
              "      <th>ref_pm2_5</th>\n",
              "    </tr>\n",
              "  </thead>\n",
              "  <tbody>\n",
              "    <tr>\n",
              "      <th>0</th>\n",
              "      <td>ID_00OZLF7X</td>\n",
              "      <td>40.025604</td>\n",
              "    </tr>\n",
              "    <tr>\n",
              "      <th>1</th>\n",
              "      <td>ID_00ZI0D98</td>\n",
              "      <td>40.227027</td>\n",
              "    </tr>\n",
              "    <tr>\n",
              "      <th>2</th>\n",
              "      <td>ID_017GTLAU</td>\n",
              "      <td>42.420329</td>\n",
              "    </tr>\n",
              "    <tr>\n",
              "      <th>3</th>\n",
              "      <td>ID_01IBM7T2</td>\n",
              "      <td>39.165266</td>\n",
              "    </tr>\n",
              "    <tr>\n",
              "      <th>4</th>\n",
              "      <td>ID_01II27D4</td>\n",
              "      <td>66.152040</td>\n",
              "    </tr>\n",
              "    <tr>\n",
              "      <th>5</th>\n",
              "      <td>ID_01PKRNEP</td>\n",
              "      <td>23.211764</td>\n",
              "    </tr>\n",
              "    <tr>\n",
              "      <th>6</th>\n",
              "      <td>ID_021PCRSH</td>\n",
              "      <td>14.506825</td>\n",
              "    </tr>\n",
              "    <tr>\n",
              "      <th>7</th>\n",
              "      <td>ID_0274H7B6</td>\n",
              "      <td>73.152953</td>\n",
              "    </tr>\n",
              "    <tr>\n",
              "      <th>8</th>\n",
              "      <td>ID_02NFLBYH</td>\n",
              "      <td>32.162417</td>\n",
              "    </tr>\n",
              "    <tr>\n",
              "      <th>9</th>\n",
              "      <td>ID_032LIJKT</td>\n",
              "      <td>25.598222</td>\n",
              "    </tr>\n",
              "  </tbody>\n",
              "</table>\n",
              "</div>"
            ],
            "text/plain": [
              "            ID  ref_pm2_5\n",
              "0  ID_00OZLF7X  40.025604\n",
              "1  ID_00ZI0D98  40.227027\n",
              "2  ID_017GTLAU  42.420329\n",
              "3  ID_01IBM7T2  39.165266\n",
              "4  ID_01II27D4  66.152040\n",
              "5  ID_01PKRNEP  23.211764\n",
              "6  ID_021PCRSH  14.506825\n",
              "7  ID_0274H7B6  73.152953\n",
              "8  ID_02NFLBYH  32.162417\n",
              "9  ID_032LIJKT  25.598222"
            ]
          },
          "metadata": {
            "tags": []
          },
          "execution_count": 13
        }
      ]
    },
    {
      "cell_type": "code",
      "metadata": {
        "id": "IOZWRH_j1F1S"
      },
      "source": [
        ""
      ],
      "execution_count": null,
      "outputs": []
    }
  ]
}